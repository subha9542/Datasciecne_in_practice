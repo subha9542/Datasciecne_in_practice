{
 "cells": [
  {
   "cell_type": "markdown",
   "metadata": {},
   "source": [
    "# Assignment Instructions\n",
    "  \n",
    "1. Before you submit this assignment for grading, make sure everything runs as expected. \n",
    "    1. **Restart the kernel** (in the menubar, select Kernel$\\rightarrow$Restart)\n",
    "    2. Then **run all cells** (in the menubar, select Cell$\\rightarrow$Run All).  \n",
    "2. Fill in your STUDENTID (abc123) in the code block below.\n",
    "3. Make sure you fill in any place that says `#YOUR CODE HERE` or \"YOUR ANSWER HERE\"\n",
    "4. When filling in `#YOUR CODE HERE` sections, remove or comment out the line  \n",
    "  - `raise NotImplementedError()`\n",
    "\n",
    "By submitting this notebook for grading, you affirm that all work was produced by the author identified below, and that references are included for all use of public source material (to include code, data, diagrams, pictures, and verbatim text)."
   ]
  },
  {
   "cell_type": "code",
   "execution_count": 1,
   "metadata": {},
   "outputs": [],
   "source": [
    "STUDENTID = \"tfs436\""
   ]
  },
  {
   "cell_type": "markdown",
   "metadata": {},
   "source": [
    "---"
   ]
  },
  {
   "cell_type": "markdown",
   "metadata": {
    "deletable": false,
    "editable": false,
    "nbgrader": {
     "checksum": "02c2f7433dbfa0a1f26df052b605bb60",
     "grade": false,
     "grade_id": "cell-933328c7cb8dd177",
     "locked": true,
     "schema_version": 1,
     "solution": false
    }
   },
   "source": [
    "# AS01 - Review of Python Libraries\n",
    "**Version:**  1.0  \n",
    "**Total Points:**  5.0"
   ]
  },
  {
   "cell_type": "markdown",
   "metadata": {
    "deletable": false,
    "editable": false,
    "nbgrader": {
     "checksum": "a147174f625658e441e0eeafa59bff65",
     "grade": false,
     "grade_id": "cell-5384419fb5618068",
     "locked": true,
     "schema_version": 1,
     "solution": false
    }
   },
   "source": [
    "## Objective\n",
    "The objective of this assignment is to review some useful basics of Python, Pandas, and Matplotlib."
   ]
  },
  {
   "cell_type": "markdown",
   "metadata": {
    "deletable": false,
    "editable": false,
    "nbgrader": {
     "checksum": "425b6f61e6a5cb6fee59552c80a5106f",
     "grade": false,
     "grade_id": "cell-5575bd5f4c399c76",
     "locked": true,
     "schema_version": 1,
     "solution": false
    }
   },
   "source": [
    "## Background\n",
    "You may find the following references helpful\n",
    "\n",
    "| Documentation | URL |\n",
    "| :--- | :--- |\n",
    "| Python | https://docs.python.org/3.7/library/index.html |\n",
    "| Pandas | https://pandas.pydata.org/pandas-docs/stable/reference/index.html |\n",
    "| Matplotlib | https://matplotlib.org/api/_as_gen/matplotlib.pyplot.html#module-matplotlib.pyplot |\n",
    "| Numpy | https://docs.scipy.org/doc/numpy/reference/index.html |\n",
    "| Seaborn | http://seaborn.pydata.org/ |"
   ]
  },
  {
   "cell_type": "markdown",
   "metadata": {
    "deletable": false,
    "editable": false,
    "nbgrader": {
     "checksum": "c5e782f62d7d456dd3b75dcc2fdf64be",
     "grade": false,
     "grade_id": "cell-f65b4263f7841f3b",
     "locked": true,
     "schema_version": 1,
     "solution": false
    }
   },
   "source": [
    "## Setup\n",
    "Put imports up front and use consistent nomenclature for `as` names"
   ]
  },
  {
   "cell_type": "code",
   "execution_count": 2,
   "metadata": {
    "deletable": false,
    "editable": false,
    "nbgrader": {
     "checksum": "e1a5f758bb97c2205e3a0da12a364c42",
     "grade": false,
     "grade_id": "cell-f1fb4b68b1b66a42",
     "locked": true,
     "schema_version": 1,
     "solution": false
    }
   },
   "outputs": [],
   "source": [
    "# Imports and globals for this exercise\n",
    "# Setup notebook for interactive graphics\n",
    "%matplotlib notebook\n",
    "# mainline tools\n",
    "import os\n",
    "import math\n",
    "import re\n",
    "import numpy as np\n",
    "import pandas as pd\n",
    "import scipy.stats as st\n",
    "# graphics\n",
    "import matplotlib.pyplot as plt\n",
    "import matplotlib.dates as mdates\n",
    "import matplotlib as mpl\n",
    "import seaborn\n",
    "# Cartograpy support\n",
    "import mplleaflet as mlf\n",
    "# indirectly referenced libraries\n",
    "import pyarrow\n",
    "import fastparquet\n",
    "\n",
    "# Ensure the Dataset root is available\n",
    "sDataRoot = os.environ['DATASETS_ROOT']\n",
    "assert os.path.exists(os.path.join(sDataRoot,'readme.txt'))\n",
    "\n",
    "# Uniform place to save temporary data and avoid lengthy reprocessing\n",
    "sTempDir = os.path.join(os.environ['HOMEDRIVE'], os.environ['HOMEPATH'],'_tmp')\n",
    "if not os.path.exists(sTempDir):\n",
    "    os.makedirs(sTempDir)\n"
   ]
  },
  {
   "cell_type": "markdown",
   "metadata": {
    "deletable": false,
    "editable": false,
    "nbgrader": {
     "checksum": "5297c20ecf475dfcf9f310226cc6bebc",
     "grade": false,
     "grade_id": "cell-de3193b0eebf5f07",
     "locked": true,
     "schema_version": 1,
     "solution": false
    }
   },
   "source": [
    "## Python Review\n"
   ]
  },
  {
   "cell_type": "markdown",
   "metadata": {
    "deletable": false,
    "editable": false,
    "nbgrader": {
     "checksum": "f001f2e28cef275cce3c4dfd3a2bce20",
     "grade": false,
     "grade_id": "cell-1f1c4856beb491ee",
     "locked": true,
     "schema_version": 1,
     "solution": false
    }
   },
   "source": [
    "### Pythagorean Theorum (1 point)\n",
    "Write a function that calculates the hypotenuse of a triangle given the length of 2 sides.  \n",
    "The formual is $c = \\sqrt{a^2 + b^2}$  \n",
    "Make sure it handles the case where $a<0$ or $b<0$ by raising a `ValueError`."
   ]
  },
  {
   "cell_type": "code",
   "execution_count": 3,
   "metadata": {
    "deletable": false,
    "nbgrader": {
     "checksum": "39a07d4939159f328339dd28366682ae",
     "grade": false,
     "grade_id": "pythagoras",
     "locked": false,
     "schema_version": 1,
     "solution": true
    }
   },
   "outputs": [],
   "source": [
    "def pythagoras(a, b):\n",
    "    \"\"\"Compute the hypotenuse of a triangle given the lenght of two sides (a,b)\n",
    "    \"\"\"\n",
    "    return math.sqrt(a**2 + b**2)"
   ]
  },
  {
   "cell_type": "code",
   "execution_count": 4,
   "metadata": {
    "deletable": false,
    "editable": false,
    "nbgrader": {
     "checksum": "2f0841f88c08999b8147be057aed8f49",
     "grade": true,
     "grade_id": "cell-824e245e40e172e9",
     "locked": true,
     "points": 0.5,
     "schema_version": 1,
     "solution": false
    }
   },
   "outputs": [],
   "source": [
    "## This is an automatically graded test cell.\n",
    "# It contains public tests that you can use to help determine whether your\n",
    "# functions are correct. It also contains hidden tests that are run by\n",
    "# the autograder.\n",
    "\n",
    "# Public tests\n",
    "# ---------------------------------------------------------\n",
    "np.testing.assert_almost_equal(pythagoras(1,1), 1.4142, decimal=4, err_msg='Almost equality failed', verbose=True)\n",
    "np.testing.assert_almost_equal(pythagoras(3,4), 5.0, decimal=4, err_msg='Almost equality failed', verbose=True)\n",
    "assert '{:.4f}'.format(pythagoras(2,3)) == '3.6056'\n"
   ]
  },
  {
   "cell_type": "markdown",
   "metadata": {
    "deletable": false,
    "editable": false,
    "nbgrader": {
     "checksum": "938dd3852ed431f8f916b5ecd618480f",
     "grade": false,
     "grade_id": "cell-806f0e062b018d94",
     "locked": true,
     "schema_version": 1,
     "solution": false
    }
   },
   "source": [
    "## Pandas Review\n",
    "For these problems, we'll use a dataset obtained from the [Worldbank education statistics](https://databank.worldbank.org/source/education-statistics-^-all-indicators/)  \n",
    "The dataset contains education information for 264 countries for the years 1990 to 2018.\n",
    "\n",
    "- The files are located in the DataSets directory.\n",
    "- You might want to open the files in Excel to get a feel for the organization and headers.\n",
    "\n"
   ]
  },
  {
   "cell_type": "code",
   "execution_count": 5,
   "metadata": {
    "deletable": false,
    "editable": false,
    "nbgrader": {
     "checksum": "9e6523918cba46361f11ec151883e60b",
     "grade": false,
     "grade_id": "cell-557f7830231aa908",
     "locked": true,
     "schema_version": 1,
     "solution": false
    }
   },
   "outputs": [],
   "source": [
    "# These are the files names\n",
    "sMetaFile = os.path.join(sDataRoot,'Worldbank','Education','09c8eeb5-e243-4ed7-addd-818659c2f5f3_Series - Metadata.csv')\n",
    "sDataFile = os.path.join(sDataRoot,'Worldbank','Education','09c8eeb5-e243-4ed7-addd-818659c2f5f3_Data.csv')\n",
    "assert os.path.exists(sMetaFile)                         \n",
    "assert os.path.exists(sDataFile)\n"
   ]
  },
  {
   "cell_type": "markdown",
   "metadata": {},
   "source": [
    "### Read the metadata file\n",
    "The first function must return a pandas series. \n",
    "- only read in the first two columns\n",
    "- The series must have the index name `Code` and the seris name `IndicatorName` \n",
    "\n",
    "The second function is for looking up the correct code\n",
    "- It must return a list\n",
    "- Find all the entries in the `IndicatorName` that match all the words in the input string, case insensitive\n",
    "- You might want to use the regular expression version of split to eliminate punctuation"
   ]
  },
  {
   "cell_type": "code",
   "execution_count": 9,
   "metadata": {
    "deletable": false,
    "nbgrader": {
     "checksum": "aa0597c89fc0909517fb64384c5e4ac0",
     "grade": false,
     "grade_id": "cell-b1eaabdee83d12d9",
     "locked": false,
     "schema_version": 1,
     "solution": true
    }
   },
   "outputs": [
    {
     "name": "stdout",
     "output_type": "stream",
     "text": [
      "                                                      Indicator Name\n",
      "Code                                                                \n",
      "SE.XPD.TOTL.GD.ZS  Government expenditure on education as % of GD...\n",
      "SE.PRM.ENRR.FE            Gross enrolment ratio, primary, female (%)\n",
      "SE.ENR.PRIM.FM.ZS  Gross enrolment ratio, primary, gender parity ...\n",
      "SE.PRE.NENR.FE           Net enrolment rate, pre-primary, female (%)\n",
      "SE.PRM.NENR.FE               Net enrolment rate, primary, female (%)\n",
      "SE.PRM.UNER        Out-of-school children of primary school age, ...\n",
      "SE.PRM.CMPT.ZS               Primary completion rate, both sexes (%)\n",
      "SE.ADT.LITR.ZS     Adult literacy rate, population 15+ years, bot...\n",
      "SE.ADT.LITR.FE.ZS  Adult literacy rate, population 15+ years, fem...\n",
      "SE.ADT.LITR.MA.ZS  Adult literacy rate, population 15+ years, mal...\n",
      "SE.PRM.TENR.MA        Adjusted net enrolment rate, primary, male (%)\n",
      "UIS.NERA.1.GPI     Adjusted net enrolment rate, primary, gender p...\n",
      "SE.PRM.TENR.FE      Adjusted net enrolment rate, primary, female (%)\n",
      "SE.PRM.TENR        Adjusted net enrolment rate, primary, both sex...\n"
     ]
    }
   ],
   "source": [
    "from functools import reduce\n",
    "def wdbe_read_metadata(sMetaFile):\n",
    "    '''\n",
    "    Read in a CSV metadata data file exported from the World Data Bank Education dataset.\n",
    "    https://databank.worldbank.org/source/education-statistics-%5E-all-indicators/\n",
    "    '''\n",
    "    return pd.read_csv(sMetaFile,index_col = 0,usecols = ['Code','Indicator Name'])\n",
    "    \n",
    "def wdbe_lookup_code( srm, sIndicator ):\n",
    "    '''\n",
    "    Return a list of codes where the 'Indicator Name' contains all the keywords supplied in the sIndicator string\n",
    "    '''\n",
    "    sIndicator_split = re.split('[,()\\s]',sIndicator)\n",
    "    sIndicator_split = list(filter(None,sIndicator_split))\n",
    "    df = srm[reduce(lambda a, b: a&b, (srm['Indicator Name'].str.contains(indicators,case = False) for indicators in sIndicator_split))]\n",
    "    return df.index"
   ]
  },
  {
   "cell_type": "code",
   "execution_count": 7,
   "metadata": {
    "deletable": false,
    "editable": false,
    "nbgrader": {
     "checksum": "6f17d5d25e401821de038711bd29ee30",
     "grade": true,
     "grade_id": "cell-08fad931e80fb5dc",
     "locked": true,
     "points": 1,
     "schema_version": 1,
     "solution": false
    }
   },
   "outputs": [
    {
     "name": "stdout",
     "output_type": "stream",
     "text": [
      "                                                      Indicator Name\n",
      "Code                                                                \n",
      "SE.XPD.TOTL.GD.ZS  Government expenditure on education as % of GD...\n",
      "SE.PRM.ENRR.FE            Gross enrolment ratio, primary, female (%)\n",
      "SE.ENR.PRIM.FM.ZS  Gross enrolment ratio, primary, gender parity ...\n",
      "SE.PRE.NENR.FE           Net enrolment rate, pre-primary, female (%)\n",
      "SE.PRM.NENR.FE               Net enrolment rate, primary, female (%)\n",
      "SE.PRM.UNER        Out-of-school children of primary school age, ...\n",
      "SE.PRM.CMPT.ZS               Primary completion rate, both sexes (%)\n",
      "SE.ADT.LITR.ZS     Adult literacy rate, population 15+ years, bot...\n",
      "SE.ADT.LITR.FE.ZS  Adult literacy rate, population 15+ years, fem...\n",
      "SE.ADT.LITR.MA.ZS  Adult literacy rate, population 15+ years, mal...\n",
      "SE.PRM.TENR.MA        Adjusted net enrolment rate, primary, male (%)\n",
      "UIS.NERA.1.GPI     Adjusted net enrolment rate, primary, gender p...\n",
      "SE.PRM.TENR.FE      Adjusted net enrolment rate, primary, female (%)\n",
      "SE.PRM.TENR        Adjusted net enrolment rate, primary, both sex...\n"
     ]
    },
    {
     "ename": "TypeError",
     "evalue": "'NoneType' object is not subscriptable",
     "output_type": "error",
     "traceback": [
      "\u001b[1;31m---------------------------------------------------------------------------\u001b[0m",
      "\u001b[1;31mTypeError\u001b[0m                                 Traceback (most recent call last)",
      "\u001b[1;32m<ipython-input-7-49170daefba4>\u001b[0m in \u001b[0;36m<module>\u001b[1;34m\u001b[0m\n\u001b[0;32m      9\u001b[0m \u001b[1;31m# Public tests\u001b[0m\u001b[1;33m\u001b[0m\u001b[1;33m\u001b[0m\u001b[1;33m\u001b[0m\u001b[0m\n\u001b[0;32m     10\u001b[0m \u001b[1;31m# ---------------------------------------------------------\u001b[0m\u001b[1;33m\u001b[0m\u001b[1;33m\u001b[0m\u001b[1;33m\u001b[0m\u001b[0m\n\u001b[1;32m---> 11\u001b[1;33m \u001b[1;32massert\u001b[0m \u001b[1;36m6\u001b[0m \u001b[1;33m==\u001b[0m \u001b[0mlen\u001b[0m\u001b[1;33m(\u001b[0m\u001b[0mwdbe_lookup_code\u001b[0m\u001b[1;33m(\u001b[0m\u001b[0msrm\u001b[0m\u001b[1;33m,\u001b[0m \u001b[1;34m'net enrolment'\u001b[0m\u001b[1;33m)\u001b[0m\u001b[1;33m)\u001b[0m\u001b[1;33m\u001b[0m\u001b[1;33m\u001b[0m\u001b[0m\n\u001b[0m\u001b[0;32m     12\u001b[0m \u001b[1;32massert\u001b[0m \u001b[0msorted\u001b[0m\u001b[1;33m(\u001b[0m\u001b[1;33m[\u001b[0m\u001b[1;34m'SE.ADT.LITR.FE.ZS'\u001b[0m\u001b[1;33m]\u001b[0m\u001b[1;33m)\u001b[0m \u001b[1;33m==\u001b[0m \u001b[0msorted\u001b[0m\u001b[1;33m(\u001b[0m\u001b[0mwdbe_lookup_code\u001b[0m\u001b[1;33m(\u001b[0m\u001b[0msrm\u001b[0m\u001b[1;33m,\u001b[0m \u001b[1;34m'adult literacy female'\u001b[0m\u001b[1;33m)\u001b[0m\u001b[1;33m)\u001b[0m\u001b[1;33m\u001b[0m\u001b[1;33m\u001b[0m\u001b[0m\n",
      "\u001b[1;32m<ipython-input-6-1fc6b0612a75>\u001b[0m in \u001b[0;36mwdbe_lookup_code\u001b[1;34m(srm, sIndicator)\u001b[0m\n\u001b[0;32m     13\u001b[0m     \u001b[0msIndicator_split\u001b[0m \u001b[1;33m=\u001b[0m \u001b[0mre\u001b[0m\u001b[1;33m.\u001b[0m\u001b[0msplit\u001b[0m\u001b[1;33m(\u001b[0m\u001b[1;34m'[,()\\s]'\u001b[0m\u001b[1;33m,\u001b[0m\u001b[0msIndicator\u001b[0m\u001b[1;33m)\u001b[0m\u001b[1;33m\u001b[0m\u001b[1;33m\u001b[0m\u001b[0m\n\u001b[0;32m     14\u001b[0m     \u001b[0msIndicator_split\u001b[0m \u001b[1;33m=\u001b[0m \u001b[0mlist\u001b[0m\u001b[1;33m(\u001b[0m\u001b[0mfilter\u001b[0m\u001b[1;33m(\u001b[0m\u001b[1;32mNone\u001b[0m\u001b[1;33m,\u001b[0m\u001b[0msIndicator_split\u001b[0m\u001b[1;33m)\u001b[0m\u001b[1;33m)\u001b[0m\u001b[1;33m\u001b[0m\u001b[1;33m\u001b[0m\u001b[0m\n\u001b[1;32m---> 15\u001b[1;33m     \u001b[0mdf\u001b[0m \u001b[1;33m=\u001b[0m \u001b[0msrm\u001b[0m\u001b[1;33m[\u001b[0m\u001b[0mreduce\u001b[0m\u001b[1;33m(\u001b[0m\u001b[1;32mlambda\u001b[0m \u001b[0ma\u001b[0m\u001b[1;33m,\u001b[0m \u001b[0mb\u001b[0m\u001b[1;33m:\u001b[0m \u001b[0ma\u001b[0m\u001b[1;33m&\u001b[0m\u001b[0mb\u001b[0m\u001b[1;33m,\u001b[0m \u001b[1;33m(\u001b[0m\u001b[0msrm\u001b[0m\u001b[1;33m[\u001b[0m\u001b[1;34m'Indicator Name'\u001b[0m\u001b[1;33m]\u001b[0m\u001b[1;33m.\u001b[0m\u001b[0mstr\u001b[0m\u001b[1;33m.\u001b[0m\u001b[0mcontains\u001b[0m\u001b[1;33m(\u001b[0m\u001b[0mindicators\u001b[0m\u001b[1;33m,\u001b[0m\u001b[0mcase\u001b[0m \u001b[1;33m=\u001b[0m \u001b[1;32mFalse\u001b[0m\u001b[1;33m)\u001b[0m \u001b[1;32mfor\u001b[0m \u001b[0mindicators\u001b[0m \u001b[1;32min\u001b[0m \u001b[0msIndicator_split\u001b[0m\u001b[1;33m)\u001b[0m\u001b[1;33m)\u001b[0m\u001b[1;33m]\u001b[0m\u001b[1;33m\u001b[0m\u001b[1;33m\u001b[0m\u001b[0m\n\u001b[0m\u001b[0;32m     16\u001b[0m     \u001b[1;32mreturn\u001b[0m \u001b[0mdf\u001b[0m\u001b[1;33m.\u001b[0m\u001b[0mindex\u001b[0m\u001b[1;33m\u001b[0m\u001b[1;33m\u001b[0m\u001b[0m\n",
      "\u001b[1;32m<ipython-input-6-1fc6b0612a75>\u001b[0m in \u001b[0;36m<genexpr>\u001b[1;34m(.0)\u001b[0m\n\u001b[0;32m     13\u001b[0m     \u001b[0msIndicator_split\u001b[0m \u001b[1;33m=\u001b[0m \u001b[0mre\u001b[0m\u001b[1;33m.\u001b[0m\u001b[0msplit\u001b[0m\u001b[1;33m(\u001b[0m\u001b[1;34m'[,()\\s]'\u001b[0m\u001b[1;33m,\u001b[0m\u001b[0msIndicator\u001b[0m\u001b[1;33m)\u001b[0m\u001b[1;33m\u001b[0m\u001b[1;33m\u001b[0m\u001b[0m\n\u001b[0;32m     14\u001b[0m     \u001b[0msIndicator_split\u001b[0m \u001b[1;33m=\u001b[0m \u001b[0mlist\u001b[0m\u001b[1;33m(\u001b[0m\u001b[0mfilter\u001b[0m\u001b[1;33m(\u001b[0m\u001b[1;32mNone\u001b[0m\u001b[1;33m,\u001b[0m\u001b[0msIndicator_split\u001b[0m\u001b[1;33m)\u001b[0m\u001b[1;33m)\u001b[0m\u001b[1;33m\u001b[0m\u001b[1;33m\u001b[0m\u001b[0m\n\u001b[1;32m---> 15\u001b[1;33m     \u001b[0mdf\u001b[0m \u001b[1;33m=\u001b[0m \u001b[0msrm\u001b[0m\u001b[1;33m[\u001b[0m\u001b[0mreduce\u001b[0m\u001b[1;33m(\u001b[0m\u001b[1;32mlambda\u001b[0m \u001b[0ma\u001b[0m\u001b[1;33m,\u001b[0m \u001b[0mb\u001b[0m\u001b[1;33m:\u001b[0m \u001b[0ma\u001b[0m\u001b[1;33m&\u001b[0m\u001b[0mb\u001b[0m\u001b[1;33m,\u001b[0m \u001b[1;33m(\u001b[0m\u001b[0msrm\u001b[0m\u001b[1;33m[\u001b[0m\u001b[1;34m'Indicator Name'\u001b[0m\u001b[1;33m]\u001b[0m\u001b[1;33m.\u001b[0m\u001b[0mstr\u001b[0m\u001b[1;33m.\u001b[0m\u001b[0mcontains\u001b[0m\u001b[1;33m(\u001b[0m\u001b[0mindicators\u001b[0m\u001b[1;33m,\u001b[0m\u001b[0mcase\u001b[0m \u001b[1;33m=\u001b[0m \u001b[1;32mFalse\u001b[0m\u001b[1;33m)\u001b[0m \u001b[1;32mfor\u001b[0m \u001b[0mindicators\u001b[0m \u001b[1;32min\u001b[0m \u001b[0msIndicator_split\u001b[0m\u001b[1;33m)\u001b[0m\u001b[1;33m)\u001b[0m\u001b[1;33m]\u001b[0m\u001b[1;33m\u001b[0m\u001b[1;33m\u001b[0m\u001b[0m\n\u001b[0m\u001b[0;32m     16\u001b[0m     \u001b[1;32mreturn\u001b[0m \u001b[0mdf\u001b[0m\u001b[1;33m.\u001b[0m\u001b[0mindex\u001b[0m\u001b[1;33m\u001b[0m\u001b[1;33m\u001b[0m\u001b[0m\n",
      "\u001b[1;31mTypeError\u001b[0m: 'NoneType' object is not subscriptable"
     ]
    }
   ],
   "source": [
    "## This is an automatically graded test cell.\n",
    "# It contains public tests that you can use to help determine whether your\n",
    "# functions are correct. It also contains hidden tests that are run by\n",
    "# the autograder.\n",
    "\n",
    "# Use the defined functions\n",
    "srm = wdbe_read_metadata(sMetaFile)\n",
    "\n",
    "# Public tests\n",
    "# ---------------------------------------------------------\n",
    "assert 6 == len(wdbe_lookup_code(srm, 'net enrolment'))\n",
    "assert sorted(['SE.ADT.LITR.FE.ZS']) == sorted(wdbe_lookup_code(srm, 'adult literacy female'))\n"
   ]
  },
  {
   "cell_type": "markdown",
   "metadata": {
    "deletable": false,
    "editable": false,
    "nbgrader": {
     "checksum": "18a934cd01ffbcf0834bd778488d2c4b",
     "grade": false,
     "grade_id": "cell-fd37d63b8f9486bb",
     "locked": true,
     "schema_version": 1,
     "solution": false
    }
   },
   "source": [
    "### Read the data file and organize data (1 point)\n",
    "Complete the following function to read in the data file as a pandas dataframe. You might want to brush up on the pd.read_csv function parameters as you will need to use several of them.  \n",
    "- The column names for the years should be adjusted to just be the year as an integer\n",
    "- Note that NaN values should be included, and they are encoded as ..\n",
    "- Do not include the \"Series\" column\n",
    "- There are some comments at the end of the file that you will have to exclude\n",
    "- Note that the data file is encoded as UTF-8\n",
    "- The row order in the dataframe must be the same as the csv file\n",
    "\n",
    "The result will be a dataframe with shape (3696, 32)"
   ]
  },
  {
   "cell_type": "code",
   "execution_count": null,
   "metadata": {
    "deletable": false,
    "nbgrader": {
     "checksum": "0cc2331c6593fb72d3c5b43c577d59b0",
     "grade": false,
     "grade_id": "cell-6759088f32fa0de7",
     "locked": false,
     "schema_version": 1,
     "solution": true
    }
   },
   "outputs": [],
   "source": [
    "def wdbe_read_data(sFile):\n",
    "    '''\n",
    "    Read in a CSV data file exported from the World Data Bank Education dataset.\n",
    "    https://databank.worldbank.org/source/education-statistics-%5E-all-indicators/\n",
    "    '''\n",
    "    #url.split('.',1)[0]\n",
    "    df = pd.read_csv(sFile,na_values = '..',encoding = 'UTF-8',nrows = 3696)\n",
    "    df = df.drop(['Series'], axis=1)\n",
    "    new_cols = np.arange(1990,2019,1)\n",
    "    df.rename(columns=dict(zip(df.columns[3:], new_cols)),inplace=True)\n",
    "    return (df)\n",
    "#wdbe_read_data(sDataFile)"
   ]
  },
  {
   "cell_type": "code",
   "execution_count": null,
   "metadata": {
    "deletable": false,
    "editable": false,
    "nbgrader": {
     "checksum": "93478bd27d6a679ddf15d04b21d5b9a2",
     "grade": true,
     "grade_id": "cell-c82df806052cb842",
     "locked": true,
     "points": 0.5,
     "schema_version": 1,
     "solution": false
    }
   },
   "outputs": [],
   "source": [
    "## This is an automatically graded test cell.\n",
    "# It contains public tests that you can use to help determine whether your\n",
    "# functions are correct. It also contains hidden tests that are run by\n",
    "# the autograder.\n",
    "\n",
    "# Use the defined functions\n",
    "dfData = wdbe_read_data(sDataFile)\n",
    "\n",
    "# Public tests\n",
    "# ---------------------------------------------------------\n",
    "assert dfData.shape == (3696, 32)\n",
    "assert np.isnan(dfData[ (dfData['Country Code']=='LKA') & (dfData['Series Code'] == 'SE.PRM.TENR.MA') ].reset_index(drop=True).at[0,1990])\n",
    "                          "
   ]
  },
  {
   "cell_type": "markdown",
   "metadata": {
    "deletable": false,
    "editable": false,
    "nbgrader": {
     "checksum": "f4d7e85d1231791fee13801238cdc48f",
     "grade": false,
     "grade_id": "cell-7f51b689e3936b0f",
     "locked": true,
     "schema_version": 1,
     "solution": false
    }
   },
   "source": [
    "## Explore the data\n",
    "Given a 'Series Code' and a number of years (n), return a sorted list of country codes that have at least n years of data (not nan) available.\n",
    "- The returned value must be a list of strings\n",
    "- The list must be sorted alphabetically (A-Z)"
   ]
  },
  {
   "cell_type": "code",
   "execution_count": null,
   "metadata": {
    "deletable": false,
    "nbgrader": {
     "checksum": "2a1367dde39ee7472a2d9679f90392eb",
     "grade": false,
     "grade_id": "cell-f252783a00bacfe5",
     "locked": false,
     "schema_version": 1,
     "solution": true
    }
   },
   "outputs": [],
   "source": [
    "def wdbe_available_data(dfData, sSeries, nYrs):\n",
    "    '''\n",
    "    Find the country codes for rows that have at least nYrs of data for\n",
    "    the given series code.\n",
    "    '''\n",
    "    df = dfData[dfData['Series Code'] == sSeries]\n",
    "    df.loc[:,'Count'] = df.iloc[:,3:].count(axis=1)\n",
    "    df = df[df['Count']>=nYrs]\n",
    "    return (sorted(df['Country Code']))\n",
    "#wdbe_available_data(dfData, 'SE.XPD.TOTL.GD.ZS', 25)"
   ]
  },
  {
   "cell_type": "code",
   "execution_count": null,
   "metadata": {
    "deletable": false,
    "editable": false,
    "nbgrader": {
     "checksum": "5a5059b75b13e748febe385ad4059b15",
     "grade": true,
     "grade_id": "cell-6a5af4c1faa36b2d",
     "locked": true,
     "points": 1,
     "schema_version": 1,
     "solution": false
    }
   },
   "outputs": [],
   "source": [
    "## This is an automatically graded test cell.\n",
    "# It contains public tests that you can use to help determine whether your\n",
    "# functions are correct. It also contains hidden tests that are run by\n",
    "# the autograder.\n",
    "\n",
    "# Public tests\n",
    "# ---------------------------------------------------------\n",
    "assert isinstance(wdbe_available_data(dfData, 'SE.XPD.TOTL.GD.ZS', 25), list)\n",
    "assert ['CHE', 'CIV', 'ESP', 'IRL', 'IRN', 'JAM', 'NOR'] == wdbe_available_data(dfData, 'SE.XPD.TOTL.GD.ZS', 25)\n"
   ]
  },
  {
   "cell_type": "markdown",
   "metadata": {
    "deletable": false,
    "editable": false,
    "nbgrader": {
     "checksum": "17ee593d1d11e549e3bcc47275fd9c47",
     "grade": false,
     "grade_id": "cell-8c560b4fd92a8573",
     "locked": true,
     "schema_version": 1,
     "solution": false
    }
   },
   "source": [
    "## Extract data\n",
    "Given a series code, a list of country codes, and a minimum number of data points required, return a dataframe with the year as the row index value, and where each country that meets the minimum is a column with the country name (not country code) as the column name.\n",
    "- The result must be a dataframe\n",
    "- The name of the index must be \"Year\"\n",
    "- Return all years in the table. Missing data should be NaN.\n",
    "- The name of the dataframe columns must be \"Country Name\" "
   ]
  },
  {
   "cell_type": "code",
   "execution_count": null,
   "metadata": {
    "deletable": false,
    "nbgrader": {
     "checksum": "8f08c287214e3f22cc31625b33e58549",
     "grade": false,
     "grade_id": "cell-2333ff185f1cd0ed",
     "locked": false,
     "schema_version": 1,
     "solution": true
    }
   },
   "outputs": [],
   "source": [
    "def wdbe_extract_data(dfData, lsCountries, sSeries, nYrs ):\n",
    "    '''\n",
    "    Extract data from the education dataframe given:  \n",
    "    dfData - the education dataframe  \n",
    "    lsCountries - list of country codes\n",
    "    sSeries - single series name\n",
    "    nYrs - must have at least this many years of data\n",
    "    '''\n",
    "    df = dfData[(dfData['Country Code'].isin(lsCountries)) & (dfData['Series Code'] == sSeries)]\n",
    "    df.loc[:,'Count'] = df.iloc[:,3:].count(axis=1)\n",
    "    df = df[df['Count']>=nYrs]\n",
    "    df = df.drop(['Series Code','Country Code','Count'], axis=1)\n",
    "    df = df.set_index('Country Name')\n",
    "    df1_transposed = df.T\n",
    "    df1_transposed.index.name='Year'\n",
    "    df1_transposed.columns.name=\"Country Name\"\n",
    "    return (df1_transposed)"
   ]
  },
  {
   "cell_type": "code",
   "execution_count": null,
   "metadata": {
    "deletable": false,
    "editable": false,
    "nbgrader": {
     "checksum": "fb57e9e3da89762bc51c567f27ffb452",
     "grade": true,
     "grade_id": "cell-194a290f5e2bb08b",
     "locked": true,
     "points": 1,
     "schema_version": 1,
     "solution": false
    }
   },
   "outputs": [],
   "source": [
    "## This is an automatically graded test cell.\n",
    "# It contains public tests that you can use to help determine whether your\n",
    "# functions are correct. It also contains hidden tests that are run by\n",
    "# the autograder.\n",
    "\n",
    "# Call the functions\n",
    "sIndicator = 'Gross enrolment ratio, primary, gender parity index (GPI)'\n",
    "sCode = wdbe_lookup_code( srm, sIndicator )[0]\n",
    "assert 'SE.ENR.PRIM.FM.ZS' == sCode\n",
    "lsCountries = ['USA', 'CHN', 'RUS' ]\n",
    "nYrs = 20\n",
    "dfData = wdbe_read_data(sDataFile)\n",
    "dfGPI = wdbe_extract_data(dfData, lsCountries, sCode, nYrs )\n",
    "\n",
    "# Public tests\n",
    "# ---------------------------------------------------------\n",
    "assert 'Country Name' == dfGPI.columns.name\n",
    "assert 'Year' == dfGPI.index.name\n",
    "assert (29,3) == dfGPI.shape\n",
    "np.testing.assert_almost_equal(dfGPI['China'].mean(), 0.973437, decimal=6, err_msg='Almost equality failed', verbose=True)\n"
   ]
  },
  {
   "cell_type": "markdown",
   "metadata": {
    "deletable": false,
    "editable": false,
    "nbgrader": {
     "checksum": "6648c813b2006f4a10b08396d8f0032b",
     "grade": false,
     "grade_id": "cell-163c811b6f3a93b8",
     "locked": true,
     "schema_version": 1,
     "solution": false
    }
   },
   "source": [
    "## Plot Data\n",
    "Use the results from the previous extract (dfGPI) to plot the literacy rates as a function of year. The next cell produces a quick plot using the dataframe.plot call. Notes of interest:\n",
    "- it automatically includes a legend based on the column names\n",
    "- it labels the x axis using the index name\n",
    "- it does not label the y axis or automatically title the graph\n",
    "- missing data is skipped\n",
    "\n",
    "You might want to check out how this looks if you do not set the y axis limits."
   ]
  },
  {
   "cell_type": "code",
   "execution_count": null,
   "metadata": {
    "deletable": false,
    "editable": false,
    "nbgrader": {
     "checksum": "d4d42a175c452fa0051f95c51c606811",
     "grade": false,
     "grade_id": "cell-a025c42742f2426d",
     "locked": true,
     "schema_version": 1,
     "solution": false
    },
    "scrolled": true
   },
   "outputs": [],
   "source": [
    "# Use the pandas plot to produce a quick, rough plot\n",
    "ax = dfGPI.plot.line(title=sIndicator, figsize=[7,5])\n",
    "ax.set_ylim([0.5,1.1])\n",
    "ax.set_ylabel('GPI')"
   ]
  },
  {
   "cell_type": "markdown",
   "metadata": {
    "deletable": false,
    "editable": false,
    "nbgrader": {
     "checksum": "79ecca2acc777392f40b5d793946ca46",
     "grade": false,
     "grade_id": "cell-0c12d32c1e0c9d54",
     "locked": true,
     "schema_version": 1,
     "solution": false
    }
   },
   "source": [
    "Now produce essentially the same plot as above but use matplotlib with the following modifications.\n",
    "- put minor ticks on the x axis for each year\n",
    "- offset 1990 from the y axis so the first data point is not right on the axis\n",
    "\n",
    "This will be manually graded according to the following rubric:\n",
    "- Plot has correct title, legend, and labels on both axes (0.25 points)\n",
    "- Move the legend to the lower right corner (0.25)\n",
    "- 1990 is offset a little from the y axis (0.25 points)\n",
    "- x axis has minor ticks at 1 year intervals (0.25 points)\n"
   ]
  },
  {
   "cell_type": "code",
   "execution_count": null,
   "metadata": {
    "deletable": false,
    "nbgrader": {
     "checksum": "3ba28314c56b032227ec21a480c3841c",
     "grade": true,
     "grade_id": "cell-20b8991b259c07a9",
     "locked": false,
     "points": 1,
     "schema_version": 1,
     "solution": true
    }
   },
   "outputs": [],
   "source": [
    "h = plt.figure(figsize=[7,5])\n",
    "ax = plt.gca()\n",
    "ax.plot(dfGPI)\n",
    "plt.title('Gross enrolment ratio, primary, gender parity index (GPI)')\n",
    "plt.xlabel('Year')\n",
    "plt.ylabel('GPI')\n",
    "plt.legend(dfGPI.columns.values,title = 'Country Name',loc='lower right')\n",
    "ax.set_ylim([0.5,1.1])\n",
    "ax.set_xlim([1989,2018])\n",
    "ax.set_xticks(np.arange(1990,2019), minor=True)\n",
    "plt.show()\n"
   ]
  },
  {
   "cell_type": "code",
   "execution_count": null,
   "metadata": {},
   "outputs": [],
   "source": []
  }
 ],
 "metadata": {
  "kernelspec": {
   "display_name": "Python 3",
   "language": "python",
   "name": "python3"
  },
  "language_info": {
   "codemirror_mode": {
    "name": "ipython",
    "version": 3
   },
   "file_extension": ".py",
   "mimetype": "text/x-python",
   "name": "python",
   "nbconvert_exporter": "python",
   "pygments_lexer": "ipython3",
   "version": "3.7.3"
  }
 },
 "nbformat": 4,
 "nbformat_minor": 4
}
