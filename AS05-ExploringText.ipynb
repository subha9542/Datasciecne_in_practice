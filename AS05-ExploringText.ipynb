{
 "cells": [
  {
   "cell_type": "markdown",
   "metadata": {},
   "source": [
    "# Assignment Instructions\n",
    "## Completing the Assignment  \n",
    "1. Fill in your STUDENTID (abc123) in the code block below.\n",
    "2. Fill in any place that says `#YOUR CODE HERE` with python code that implements the indicated function.\n",
    "3. When filling in `#YOUR CODE HERE` sections, remove or comment out the line  `raise NotImplementedError()`, or else you will lose all credit for that function.\n",
    "4. Fill in any place that says `YOUR ANSWER HERE` with appropriate markdown text. This usually indicates a manually graded cell.\n",
    "\n",
    "## Assignment Submission Checklist  \n",
    "Before you submit this assignment for grading, you must do the following or you risk losing points. \n",
    "1. **Remove Extraneous prints** Long prints _might_ confuse the grader. If they do, you lose points.\n",
    "2. **Restart the kernel** (in the menubar, select Kernel$\\rightarrow$Restart)\n",
    "3. **Run all cells** (in the menubar, select Cell$\\rightarrow$Run All).  \n",
    "  - If any cell that contains code throws an exception or does not compile, fix it and restart this checklist \n",
    "  - If a grading cell throws an exception, you will not recieve any credit for that cell\n",
    "4. **Save the notebook** This ensures that any graphs or plots are in the submission   \n",
    "  - Do NOT rename your notebook. It must have the same name that was downloaded, or the grading will fail.  \n",
    "5. **Zip up the assignment notebook(s) and any files required to run the notebook**\n",
    "  - You must put your files into a `.zip` file with the same name that was used to download the assignment. For example `ASnn.zip` or `PRnn.zip` where nn is a two digit, zero padded number.\n",
    "  - All files must be in the root of the zip file, NOT in a subdirectory\n",
    "\n",
    "By submitting this notebook for grading, you affirm that all work was produced by the author identified below, and that references are included for all use of public source material (to include code, data, diagrams, pictures, and verbatim text)."
   ]
  },
  {
   "cell_type": "code",
   "execution_count": 1,
   "metadata": {},
   "outputs": [],
   "source": [
    "STUDENTID = \"tfs436\""
   ]
  },
  {
   "cell_type": "markdown",
   "metadata": {},
   "source": [
    "---"
   ]
  },
  {
   "cell_type": "markdown",
   "metadata": {
    "deletable": false,
    "editable": false,
    "nbgrader": {
     "cell_type": "markdown",
     "checksum": "09c9eae4186f37be2d61e3a909d8474a",
     "grade": false,
     "grade_id": "cell-b805bc2aba4d8111",
     "locked": true,
     "schema_version": 3,
     "solution": false,
     "task": false
    }
   },
   "source": [
    "# AS05: Exploring Text Data with NLTK\n",
    "**Version:**  1.1  \n",
    "**Total Points:** 5"
   ]
  },
  {
   "cell_type": "markdown",
   "metadata": {
    "deletable": false,
    "editable": false,
    "nbgrader": {
     "cell_type": "markdown",
     "checksum": "34ee04be3697f4865885989c45ce6646",
     "grade": false,
     "grade_id": "cell-adff02859576cc23",
     "locked": true,
     "schema_version": 3,
     "solution": false,
     "task": false
    }
   },
   "source": [
    "## Objective\n",
    "The objective of this assignment is to gain experience with the basic NLTK tools for processing text data and use them to develop a vocabulary that would be useful for machine learning tasks. "
   ]
  },
  {
   "cell_type": "markdown",
   "metadata": {
    "deletable": false,
    "editable": false,
    "nbgrader": {
     "cell_type": "markdown",
     "checksum": "aa8a00f0afae5291edf4c00f89ccbeca",
     "grade": false,
     "grade_id": "cell-69855e9adcbe9a5f",
     "locked": true,
     "schema_version": 3,
     "solution": false,
     "task": false
    }
   },
   "source": [
    "## Data Sources\n",
    "\n",
    "The relevant data sources for this exercise have been copied to the read-only Datasets directory.\n",
    "The data location is identified by the environment variable DATASETS_ROOT.\n",
    "The NLTK Corpus is identified by the environment variable NLTK_DATA"
   ]
  },
  {
   "cell_type": "markdown",
   "metadata": {
    "deletable": false,
    "editable": false,
    "nbgrader": {
     "cell_type": "markdown",
     "checksum": "30c8fcde90a418c3b2d1909a172644aa",
     "grade": false,
     "grade_id": "cell-6613a41f238c670f",
     "locked": true,
     "schema_version": 3,
     "solution": false,
     "task": false
    }
   },
   "source": [
    "## Instructions\n",
    "\n",
    "Be sure to read the instructions and guidelines provided for each portion of this assignment.  The number of points earned is in parenthesis next to the description in the table of contents below. All of the public tests will use the text _Tale of Two Cities_. The hidden tests use a different Project Gutenberg book, so you will want to test your functions on other texts as well.\n",
    "\n",
    "[Setup](#Setup) \n",
    "\n",
    "[Exercise 1](#Exercise-1)  (0.5) Reading and cleaning the text  \n",
    "[Exercise 2](#Exercise-2)  (0.5) Initial word tokenization  \n",
    "[Exercise 3](#Exercise-3)  (0.5) Examining the tokens  \n",
    "[Exercise 4](#Exercise-4)  (0.5) Removing stop words   \n",
    "[Exercise 5](#Exercise-5)  (0.5) Finding important words   \n",
    "[Exercise 6](#Exercise-6)  (0.5) Stemming   \n",
    "[Exercise 7](#Exercise-7)  (0.5) Bigrams  \n",
    "[Exercise 8](#Exercise-8)  (0.5) Part of Speech Tagging  \n",
    "[Exercise 9](#Exercise-9)  (0.5) Spelling recommender 1  \n",
    "[Exercise 10](#Exercise-10) (0.5) Spelling recommender 2 \n"
   ]
  },
  {
   "cell_type": "markdown",
   "metadata": {
    "deletable": false,
    "editable": false,
    "nbgrader": {
     "cell_type": "markdown",
     "checksum": "b397cce4ca1a0ec563410ebb1a3fc112",
     "grade": false,
     "grade_id": "cell-ff54024b7bf4b5d2",
     "locked": true,
     "schema_version": 3,
     "solution": false,
     "task": false
    }
   },
   "source": [
    "### Setup\n",
    "You will need to run this section each time you start this notebook. "
   ]
  },
  {
   "cell_type": "code",
   "execution_count": 2,
   "metadata": {
    "deletable": false,
    "editable": false,
    "nbgrader": {
     "cell_type": "code",
     "checksum": "e281463b356281ac212dfdb2679ffdb8",
     "grade": false,
     "grade_id": "cell-1d12e583c89d3c8d",
     "locked": true,
     "schema_version": 3,
     "solution": false,
     "task": false
    }
   },
   "outputs": [],
   "source": [
    "# Imports and globals for this exercise\n",
    "# mainline tools\n",
    "import os\n",
    "import re\n",
    "import string\n",
    "# data tools\n",
    "import pandas as pd\n",
    "import numpy as np\n",
    "# visualization tools\n",
    "import matplotlib.pyplot as plt\n",
    "import matplotlib.dates as mdates\n",
    "import matplotlib as mpl\n",
    "# text tools\n",
    "import nltk\n",
    "from sklearn.feature_extraction import text\n",
    "\n",
    "%matplotlib notebook\n",
    "\n",
    "# Set paths to directories for the data\n",
    "dataroot = os.environ['DATASETS_ROOT']\n",
    "\n",
    "\n",
    "# We will be using Charles Dickens book, \"A Tale of Two Cities\"\n",
    "# This is Project Gutenburg text 98-0.txt"
   ]
  },
  {
   "cell_type": "markdown",
   "metadata": {
    "deletable": false,
    "editable": false,
    "nbgrader": {
     "cell_type": "markdown",
     "checksum": "287d47f2ce5365cbd17e0c04b63ad946",
     "grade": false,
     "grade_id": "cell-086d928bf267f497",
     "locked": true,
     "schema_version": 3,
     "solution": false,
     "task": false
    }
   },
   "source": [
    "### Exercise 1\n",
    "**(0.5 pts)**  \n",
    "#### Reading and cleaning the text \n",
    "In this function, we will read in the raw Project Gutenberg (PG) text file and clean it up a little so that the subsequent analysis processes just the text, not the material added by PG at the beginning and the end of the file.\n",
    "\n",
    "If you look through several of the texts, you will see that almost all of them have a line of text near the beginning that looks like one of these:    \n",
    "- `*** START OF THIS PROJECT GUTENBERG EBOOK BOOKTITLE ***`\n",
    "- `*** START OF THE PROJECT GUTENBERG EBOOK BOOKTITLE ***`.  \n",
    "\n",
    "There will be some additional text, then the title of the book, indicating the actual start. However, the format for the first occurrance of the title varies widely. You need to find the title line AFTER the `START` line, and use that as the beginning of the book.\n",
    "\n",
    "Towards the end of the book, you will find one of these strings:  \n",
    "- `*** END OF THIS PROJECT GUTENBERG EBOOK BOOKTITLE ***`  \n",
    "- `*** END OF THE PROJECT GUTENBERG EBOOK BOOKTITLE ***`   \n",
    "Just before that string, you may see another line that starts:  \n",
    "- `End of the Project Gutenberg EBook`\n",
    "\n",
    "In the `gbt_clean_gutenburg_text` function, \n",
    "- Read in the book given the file name. Remember to set the encoding properly.\n",
    "- Find the title of the book using a regular expression that will catch either of the `START` lines\n",
    "- Find the subsequent title line using a regular expression that ignores case and extraneous punctuation.\n",
    "- Strip everything prior to the title line.\n",
    "- Locate the line marking the end of the text, whichever form is first.\n",
    "- Strip everything after and including the `END` or `End` line.\n",
    "- strip all whitespace at the beginning and end of the resulting string. \n",
    "\n",
    "[Instructions](#Instructions)"
   ]
  },
  {
   "cell_type": "code",
   "execution_count": 3,
   "metadata": {
    "deletable": false,
    "nbgrader": {
     "cell_type": "code",
     "checksum": "b7099126eeb0c416be7f42ee3fd98c13",
     "grade": false,
     "grade_id": "cell-f28e98ff163d2e46",
     "locked": false,
     "schema_version": 3,
     "solution": true,
     "task": false
    },
    "scrolled": true
   },
   "outputs": [],
   "source": [
    "def gbt_clean_gutenburg_text( sFileName ):\n",
    "    '''\n",
    "    Read a Project Gutenberg text and remove extraneous material from the\n",
    "    beginning and end.\n",
    "    '''\n",
    "    textbook_path = os.path.join(dataroot, 'ProjectGutenberg',sFileName)\n",
    "    if os.path.exists(textbook_path):\n",
    "        titlestr = re.compile(\"Title\", re.IGNORECASE)\n",
    "        with open (textbook_path, 'rt',encoding=\"utf-8\") as myfile:\n",
    "            for line in myfile:\n",
    "                line = line.rstrip(\"\\n\")\n",
    "                m = re.search(titlestr,line)\n",
    "                if  m!= None:\n",
    "                    line = line.split(\":\")\n",
    "                    if(line[-1].split(\";\")):\n",
    "                        line2 = line[-1].split(\";\")\n",
    "                        title = line2[0]\n",
    "                    else:\n",
    "                        title = line[-1]\n",
    "                    break\n",
    "            title = title.lower()\n",
    "            mat = re.search(r'START OF (THIS|THE) PROJECT GUTENBERG (.*)END OF (THIS|THE) PROJECT GUTENBERG ', myfile.read(),re.DOTALL)\n",
    "            text = mat.group(0).split(\"\\n\")\n",
    "            flag = 0\n",
    "            out = ''\n",
    "            count = 0\n",
    "            for txt in text:\n",
    "                if flag == 1:\n",
    "                    tmp = re.search(r'END OF (THIS |THE )*PROJECT GUTENBERG',txt, re.IGNORECASE)\n",
    "                    if tmp is not None:\n",
    "                        break\n",
    "                    out +=txt + '\\n'\n",
    "                my_new_string = re.sub('[^a-zA-Z0-9 \\n\\.]', ' ', txt.lower())\n",
    "                if my_new_string.find(title.strip()) != -1:\n",
    "                    count+=1\n",
    "                    if count ==2:\n",
    "                        out+=txt + '\\n'\n",
    "                        flag = 1\n",
    "            return out.strip()\n",
    "                \n",
    "    else:\n",
    "        raise ValueError('File not found: {}'.format(sFileName))\n"
   ]
  },
  {
   "cell_type": "code",
   "execution_count": 4,
   "metadata": {
    "deletable": false,
    "editable": false,
    "nbgrader": {
     "cell_type": "code",
     "checksum": "1cd22c5fb595340a8768a4080652c7be",
     "grade": true,
     "grade_id": "cell-b77e4dc8e40a0839",
     "locked": true,
     "points": 0.5,
     "schema_version": 3,
     "solution": false,
     "task": false
    }
   },
   "outputs": [],
   "source": [
    "## This is an automatically graded test cell.\n",
    "# It contains public tests that you can use to help determine whether your\n",
    "# functions are correct. It also contains hidden tests that are run by\n",
    "# the autograder.\n",
    "\n",
    "# Public tests\n",
    "# ---------------------------------------------------------\n",
    "# We will be using Charles Dickens book, \"A Tale of Two Cities\"\n",
    "# This is Project Gutenburg file: 98-0.txt\n",
    "sTOTCBook = gbt_clean_gutenburg_text('98-0.txt')\n",
    "assert 'A TALE OF TWO CITIES' == sTOTCBook[:20]\n",
    "assert 'I have ever known.”' == sTOTCBook[-19:]\n",
    "sPaPFile = 'pg42671.txt'\n",
    "sPaPBook = gbt_clean_gutenburg_text(sPaPFile)\n",
    "assert 691251 == len(sPaPBook)\n",
    "sTriFile = 'pg20782.txt'\n",
    "sTriBook = gbt_clean_gutenburg_text(sTriFile)\n",
    "assert 337971 == len(sTriBook)\n"
   ]
  },
  {
   "cell_type": "markdown",
   "metadata": {
    "deletable": false,
    "editable": false,
    "nbgrader": {
     "cell_type": "markdown",
     "checksum": "ff81e4bc6b80fa120682a2cb4f7dea08",
     "grade": false,
     "grade_id": "cell-41c403030ce854f9",
     "locked": true,
     "schema_version": 3,
     "solution": false,
     "task": false
    }
   },
   "source": [
    "### Exercise 2\n",
    "**(0.5 pts)**  \n",
    "#### Initial Word Tokenization\n",
    "In this function, we want to create a relatively clean token list that does not include punctuation.\n",
    "- use the nltk word tokenizer to break up the text into tokens\n",
    "- remove the tokens that are just punctuation. (see string.punctuation).\n",
    "- The standard string punctuation does not include the extended open and close double quotes (`“ ”`), so you will need to add them to the punctuation list.\n",
    "- turn all of the tokens into lower case.\n",
    "- return the list of tokens.\n",
    "\n",
    "[Instructions](#Instructions)"
   ]
  },
  {
   "cell_type": "code",
   "execution_count": 5,
   "metadata": {
    "deletable": false,
    "nbgrader": {
     "cell_type": "code",
     "checksum": "337b0c47c2f965f004abbdbc8b102720",
     "grade": false,
     "grade_id": "cell-25800f619926f801",
     "locked": false,
     "schema_version": 3,
     "solution": true,
     "task": false
    }
   },
   "outputs": [],
   "source": [
    "def gbt_tokenize_nopunct( sRawBook ):\n",
    "    '''\n",
    "    Initial tokenization of a Gutenberg text.\n",
    "    Returns a list of tokens, lower case, with punctuation tokens removed.\n",
    "    '''\n",
    "    tokens = nltk.word_tokenize(sRawBook)\n",
    "    tokens = [w.lower() for w in tokens]\n",
    "    # remove punctuation from each word\n",
    "    remove = string.punctuation+'“'+'”'\n",
    "    remove = list(remove)\n",
    "    #table = str.maketrans('', '', remove)\n",
    "    #stripped = [w.translate(table) for w in tokens]\n",
    "    words = [word for word in tokens if word not in remove]\n",
    "    return words"
   ]
  },
  {
   "cell_type": "code",
   "execution_count": 6,
   "metadata": {
    "deletable": false,
    "editable": false,
    "nbgrader": {
     "cell_type": "code",
     "checksum": "c78cf5386d2959e5e4a6c7eda8f7a777",
     "grade": true,
     "grade_id": "cell-a2ea66edd32c9ddd",
     "locked": true,
     "points": 0.5,
     "schema_version": 3,
     "solution": false,
     "task": false
    }
   },
   "outputs": [],
   "source": [
    "## This is an automatically graded test cell.\n",
    "# It contains public tests that you can use to help determine whether your\n",
    "# functions are correct. It also contains hidden tests that are run by\n",
    "# the autograder.\n",
    "\n",
    "# Public tests\n",
    "# ---------------------------------------------------------\n",
    "tokTOTC = gbt_tokenize_nopunct( sTOTCBook )\n",
    "\n",
    "assert 138144 == len(tokTOTC)\n"
   ]
  },
  {
   "cell_type": "markdown",
   "metadata": {
    "deletable": false,
    "editable": false,
    "nbgrader": {
     "cell_type": "markdown",
     "checksum": "094c49e41791da85d5ab7235780522aa",
     "grade": false,
     "grade_id": "cell-83ab4b6a6f44c5f1",
     "locked": true,
     "schema_version": 3,
     "solution": false,
     "task": false
    }
   },
   "source": [
    "### Exercise 3\n",
    "**(0.5 pts)**  \n",
    "#### Examining the tokens\n",
    "There are too many tokens to manually examine the list. We need some way of summarizing the tokens. The next function must return a tuple with various summary information bits in this order:\n",
    "- number of unique tokens\n",
    "- the lexical diversity (ratio of unique tokens to the total number of tokens)\n",
    "- a dictionary of the 10 most frequently appearing tokens ({token:count}).\n",
    "- a list of all the words that are only used once, sorted alphabetically.\n",
    "\n",
    "[Instructions](#Instructions)"
   ]
  },
  {
   "cell_type": "code",
   "execution_count": 7,
   "metadata": {
    "deletable": false,
    "nbgrader": {
     "cell_type": "code",
     "checksum": "edae91de4e87e9bf84ea320949c292b9",
     "grade": false,
     "grade_id": "cell-1509968588e64c00",
     "locked": false,
     "schema_version": 3,
     "solution": true,
     "task": false
    }
   },
   "outputs": [],
   "source": [
    "def gbt_token_summarize( tok ):\n",
    "    frequency = nltk.FreqDist(tok)\n",
    "    uUnique = frequency.B()\n",
    "    lexDiv = frequency.B()/frequency.N()\n",
    "    dctMost = dict(frequency.most_common(10))\n",
    "    lstLeast = sorted(frequency.hapaxes())\n",
    "    return (uUnique,lexDiv,dctMost,lstLeast)"
   ]
  },
  {
   "cell_type": "code",
   "execution_count": 8,
   "metadata": {
    "deletable": false,
    "editable": false,
    "nbgrader": {
     "cell_type": "code",
     "checksum": "1d26efb7eee29cee5034319935771c6c",
     "grade": true,
     "grade_id": "cell-ef9723d130e88e3b",
     "locked": true,
     "points": 0.5,
     "schema_version": 3,
     "solution": false,
     "task": false
    }
   },
   "outputs": [],
   "source": [
    "## This is an automatically graded test cell.\n",
    "# It contains public tests that you can use to help determine whether your\n",
    "# functions are correct. It also contains hidden tests that are run by\n",
    "# the autograder.\n",
    "\n",
    "# Public tests\n",
    "# ---------------------------------------------------------\n",
    "nUnique, lexDiv, dctMost, lstLeast = gbt_token_summarize( tokTOTC )\n",
    "assert 10640 == nUnique\n",
    "assert 8050 == dctMost['the']\n",
    "assert 4979 == dctMost['and']\n",
    "np.testing.assert_almost_equal(lexDiv, 0.077, decimal=3, err_msg='Incorrect lexical diversity', verbose=True)\n"
   ]
  },
  {
   "cell_type": "markdown",
   "metadata": {
    "deletable": false,
    "editable": false,
    "nbgrader": {
     "cell_type": "markdown",
     "checksum": "a98c2927eed873044a90166085aaec81",
     "grade": false,
     "grade_id": "cell-1872b1f8b850e085",
     "locked": true,
     "schema_version": 3,
     "solution": false,
     "task": false
    }
   },
   "source": [
    "### Exercise 4\n",
    "**(0.5 pts)**  \n",
    "#### Removing Stop Words\n",
    "Many of the most frequent words in the text have very little semantic value. This next function removes stopwords from the list of tokens. \n",
    "- Create a union of the stopwords from both NLTK and Scikit-learn.\n",
    "- The standard stopwords don't include a few obvious items such as quotes that appear twice in a row, and the apostrophe s that was tokenized from plural words. To correct this, add the following list of items to the stopwords: `[\"''\", '``', '--', \"'s\"]`\n",
    "- return the filtered list of tokens. The order of the remaining tokens must remain unchanged from the order in which they appear in the text.\n",
    "\n",
    "[Instructions](#Instructions)"
   ]
  },
  {
   "cell_type": "code",
   "execution_count": 9,
   "metadata": {
    "deletable": false,
    "nbgrader": {
     "cell_type": "code",
     "checksum": "f0c282a7bc163a35be804bcb54c0e7c7",
     "grade": false,
     "grade_id": "cell-cfba1e78b5706d74",
     "locked": false,
     "schema_version": 3,
     "solution": true,
     "task": false
    }
   },
   "outputs": [],
   "source": [
    "from nltk.corpus import stopwords as sw1\n",
    "from sklearn.feature_extraction import text \n",
    "stop_words = sw1.words('english') + [\"''\", '``', '--', \"'s\"]\n",
    "stop_words = text.ENGLISH_STOP_WORDS.union(stop_words)\n",
    "def gbt_remove_stopwords(tok):\n",
    "    words = [w for w in tok if not w in stop_words]\n",
    "    return words"
   ]
  },
  {
   "cell_type": "code",
   "execution_count": 10,
   "metadata": {
    "deletable": false,
    "editable": false,
    "nbgrader": {
     "cell_type": "code",
     "checksum": "e2fc16cba190dd50faeb4e7f4aa5c3dd",
     "grade": true,
     "grade_id": "cell-446bbdb2bf478d4c",
     "locked": true,
     "points": 0.5,
     "schema_version": 3,
     "solution": false,
     "task": false
    }
   },
   "outputs": [],
   "source": [
    "## This is an automatically graded test cell.\n",
    "# It contains public tests that you can use to help determine whether your\n",
    "# functions are correct. It also contains hidden tests that are run by\n",
    "# the autograder.\n",
    "\n",
    "# Public tests\n",
    "# ---------------------------------------------------------\n",
    "tokcleanTOTC = gbt_remove_stopwords(tokTOTC)\n",
    "\n",
    "assert 56027 == len(tokcleanTOTC)\n",
    "# Note that we have reduced the vocabulary from 138144 tokens to 56027 tokens\n",
    "# while hopefully maintaining the information content.\n",
    "\n",
    "nUnique, lexDiv, dctMost, lstLeast = gbt_token_summarize( tokcleanTOTC )\n",
    "assert 10340 == nUnique\n",
    "assert 359 == dctMost['lorry']\n",
    "assert 297 == dctMost['defarge']\n",
    "np.testing.assert_almost_equal(lexDiv, 0.184, decimal=3, err_msg='Incorrect lexical diversity', verbose=True)\n",
    "assert sorted(lstLeast[0:5]) == sorted([\"'and\", \"'at\", \"'barsad\", \"'bring\", \"'but\"])\n",
    "\n",
    "\n"
   ]
  },
  {
   "attachments": {
    "Wordfreq.png": {
     "image/png": "[encoded data removed]"
    }
   },
   "cell_type": "markdown",
   "metadata": {
    "deletable": false,
    "editable": false,
    "nbgrader": {
     "cell_type": "markdown",
     "checksum": "c91e68190a0de5d46bb51f659d7e3ac6",
     "grade": false,
     "grade_id": "cell-843f29bbd2c4233c",
     "locked": true,
     "schema_version": 3,
     "solution": false,
     "task": false
    }
   },
   "source": [
    "### Exercise 5\n",
    "**(0.5 pts)**  \n",
    "#### Finding important words  \n",
    "The vocabulary is still too large for a human to quickly peruse. We need another tool to examine frequently occurring words that are non-trivial. We'll use the word length as an analogue for triviality.\n",
    "- the following function requires the clean token list, a minimum word length, and a minimum frequency of occurrance.\n",
    "- the function must return a pandas series named `Frequency` with index named `Words`\n",
    "- the order of the entries in the series must be descending by `Frequency`, then alphabetical by index when the Frequency is the same\n",
    "- if the fourth parameter is set to `True`, then the function must also plot the frequency distribution of the returned list.\n",
    "\n",
    "\n",
    "![Wordfreq.png](attachment:Wordfreq.png)  \n",
    "\n",
    "The above is the plot for _Tale of Two Cities_ with minLength = 5 and minFreq = 100.\n",
    "\n",
    "[Instructions](#Instructions)"
   ]
  },
  {
   "cell_type": "code",
   "execution_count": 11,
   "metadata": {
    "deletable": false,
    "nbgrader": {
     "cell_type": "code",
     "checksum": "719cc74bc71ed80e6f61911da2bda0f0",
     "grade": false,
     "grade_id": "cell-cc08cee70df4b595",
     "locked": false,
     "schema_version": 3,
     "solution": true,
     "task": false
    }
   },
   "outputs": [],
   "source": [
    "def gbt_find_important_words( tok, minLength, minFreq, bPlot=False ):\n",
    "    freq = nltk.FreqDist(tok)\n",
    "    all = freq.most_common()\n",
    "    all = [(word,length) for word,length in all if len(word) >= minLength and length >= minFreq ]\n",
    "    df = pd.DataFrame(all,columns = ['Words','Frequency'])\n",
    "    df.sort_values(by=['Frequency','Words'], ascending=False,inplace = True)\n",
    "    df.set_index('Words',inplace = True)\n",
    "    if bPlot == True:\n",
    "        df.plot.bar(figsize = (8,4))\n",
    "    return (df['Frequency'])"
   ]
  },
  {
   "cell_type": "code",
   "execution_count": 12,
   "metadata": {
    "deletable": false,
    "editable": false,
    "nbgrader": {
     "cell_type": "code",
     "checksum": "edf7f0f47c71d783460032626e557eb1",
     "grade": true,
     "grade_id": "cell-92f30015e498b930",
     "locked": true,
     "points": 0.25,
     "schema_version": 3,
     "solution": false,
     "task": false
    }
   },
   "outputs": [],
   "source": [
    "## This is an automatically graded test cell.\n",
    "# It contains public tests that you can use to help determine whether your\n",
    "# functions are correct. It also contains hidden tests that are run by\n",
    "# the autograder.\n",
    "\n",
    "# Public tests\n",
    "# ---------------------------------------------------------\n",
    "srImpWordsTOTC = gbt_find_important_words(tokcleanTOTC, 6, 100)\n",
    "assert srImpWordsTOTC.index[0] == 'defarge'\n",
    "assert srImpWordsTOTC.index[-5] == 'looking'\n"
   ]
  },
  {
   "cell_type": "markdown",
   "metadata": {
    "deletable": false,
    "editable": false,
    "nbgrader": {
     "cell_type": "markdown",
     "checksum": "ad0cec52e53d5afd2dbf8ea20a251d1e",
     "grade": false,
     "grade_id": "cell-94da10886ac194e5",
     "locked": true,
     "schema_version": 3,
     "solution": false,
     "task": false
    }
   },
   "source": [
    "In the cell below, call gbt_find_important_words with minLength of 5, minFreq of 100, and bPlot being True so that it will produce a bargraph. Capture the output so that all you see is the bar graph."
   ]
  },
  {
   "cell_type": "code",
   "execution_count": 13,
   "metadata": {
    "deletable": false,
    "nbgrader": {
     "cell_type": "code",
     "checksum": "38b0d1df7cc31d269ef4152b8ea6cb79",
     "grade": true,
     "grade_id": "cell-2004a5c2c8e62d33",
     "locked": false,
     "points": 0.25,
     "schema_version": 3,
     "solution": true,
     "task": false
    }
   },
   "outputs": [
    {
     "data": {
      "image/png": "[encoded data removed]",
      "text/plain": [
       "<Figure size 576x288 with 1 Axes>"
      ]
     },
     "metadata": {
      "needs_background": "light"
     },
     "output_type": "display_data"
    }
   ],
   "source": [
    "# Plot the TOTC important words for minLength = 5 and minFreq = 100\n",
    "# Don't print the list\n",
    "srImpWordsTOTC_5 = gbt_find_important_words(tokcleanTOTC, 5, 100,True)"
   ]
  },
  {
   "cell_type": "markdown",
   "metadata": {
    "deletable": false,
    "editable": false,
    "nbgrader": {
     "cell_type": "markdown",
     "checksum": "6ad75229aa7f59e73d7dcb11f777db70",
     "grade": false,
     "grade_id": "cell-b54b5e77fc851c7d",
     "locked": true,
     "schema_version": 3,
     "solution": false,
     "task": false
    }
   },
   "source": [
    "### Exercise 6\n",
    "**(0.5 pts)**  \n",
    "#### Stemming\n",
    "Use the NLTK Snowball stemmer in the function below. \n",
    "- The function must return a list of stemmed tokens. \n",
    "- Note that many of these are no longer proper words.\n",
    "In your own cells (please delete or comment out before submitting) you might want to compare the list of words that only appear once in the cleaned text versus the subsequently stemmed text.\n",
    "\n",
    "[Instructions](#Instructions)"
   ]
  },
  {
   "cell_type": "code",
   "execution_count": 14,
   "metadata": {
    "deletable": false,
    "nbgrader": {
     "cell_type": "code",
     "checksum": "7b08a5219ca1367d60958881aff80135",
     "grade": false,
     "grade_id": "cell-f3fbbc515167bb55",
     "locked": false,
     "schema_version": 3,
     "solution": true,
     "task": false
    }
   },
   "outputs": [],
   "source": [
    "from nltk.stem.snowball import SnowballStemmer\n",
    "def gbt_stem_words(tok):\n",
    "    snowball = SnowballStemmer('english')\n",
    "    stemmed = [snowball.stem(word) for word in tok ]\n",
    "    return (stemmed)\n"
   ]
  },
  {
   "cell_type": "code",
   "execution_count": 15,
   "metadata": {
    "deletable": false,
    "editable": false,
    "nbgrader": {
     "cell_type": "code",
     "checksum": "83331e252b6052cb6dad488a54dce201",
     "grade": true,
     "grade_id": "cell-150d4ed1acc7cd4a",
     "locked": true,
     "points": 0.5,
     "schema_version": 3,
     "solution": false,
     "task": false
    }
   },
   "outputs": [],
   "source": [
    "## This is an automatically graded test cell.\n",
    "# It contains public tests that you can use to help determine whether your\n",
    "# functions are correct. It also contains hidden tests that are run by\n",
    "# the autograder.\n",
    "\n",
    "# Public tests\n",
    "# ---------------------------------------------------------\n",
    "tokstTOTC=gbt_stem_words(tokcleanTOTC)\n",
    "nUnique, lexDiv, dctMost, lstLeast = gbt_token_summarize(tokstTOTC)\n",
    "assert 6916 == nUnique\n",
    "np.testing.assert_almost_equal(lexDiv, 0.123, decimal=3, err_msg='Incorrect lexical diversity', verbose=True)\n",
    "assert dctMost['lorri'] == 363\n",
    "assert sorted(lstLeast[0:5]) == sorted(['1757', '1792', '21', '_am_', '_are_'])\n",
    "\n",
    "              "
   ]
  },
  {
   "cell_type": "markdown",
   "metadata": {
    "deletable": false,
    "editable": false,
    "nbgrader": {
     "cell_type": "markdown",
     "checksum": "06ac68e8a5adad02783b27475b0cd15f",
     "grade": false,
     "grade_id": "cell-23bd1610e211b06c",
     "locked": true,
     "schema_version": 3,
     "solution": false,
     "task": false
    }
   },
   "source": [
    "### Exercise 7 \n",
    "**(0.5 pts)**  \n",
    "#### Bigrams\n",
    "Sometime sequences of words are important. Bigrams - two consecutive words, and Trigrams - three consecutive words, are the most frequently encountered. Not all bigrams are necessarily important. One way to determine importance is to include a scoring function. A commonly used one is: \n",
    "\n",
    "$$score(w_i,w_j) = \\frac{count(w_i,w_j)}{count(w_i)*count(w_j)}$$\n",
    "\n",
    "Where $\\delta$ is the cutoff threshold. \n",
    "\n",
    "The following function finds important bigrams that are candidates for expanding the vocabulary. \n",
    "- The input will be the raw list of tokens BEFORE removing punctuation and changing case (why is this better?).\n",
    "- Only include bigrams that \n",
    "  - appear more than once in the text\n",
    "  - score at or above the threshold\n",
    "  - only contain alpha characters.\n",
    "- The return must be a dictionary where the key is the bigram (as a tuple), and the value is the score.\n",
    "\n",
    "[Instructions](#Instructions)"
   ]
  },
  {
   "cell_type": "code",
   "execution_count": 16,
   "metadata": {
    "deletable": false,
    "nbgrader": {
     "cell_type": "code",
     "checksum": "53ad482e2640f1b5927c03c9601367d8",
     "grade": false,
     "grade_id": "cell-17adbd410a8bb3a2",
     "locked": false,
     "schema_version": 3,
     "solution": true,
     "task": false
    }
   },
   "outputs": [],
   "source": [
    "def gbt_bigrams( tok, delta ):\n",
    "    bigrm = list(nltk.bigrams(tok))\n",
    "    freq = nltk.FreqDist(tok)\n",
    "    total = freq.N()\n",
    "    freq_bigrm = nltk.FreqDist(bigrm)\n",
    "    total_bigram = freq_bigrm.N()\n",
    "    final_bigram = {}\n",
    "    for grm in bigrm:\n",
    "        if grm[0].isalpha() & grm[1].isalpha():\n",
    "            grm1 = round(freq.freq(grm[0])*total)\n",
    "            grm2 = round(freq.freq(grm[1])*total)\n",
    "            grm_bi = round(freq_bigrm.freq(grm)*total_bigram)\n",
    "            if (grm_bi>1):\n",
    "                score = grm_bi/(grm1*grm2)\n",
    "                if(score>=delta):\n",
    "                    final_bigram.update({grm:score})\n",
    "    return (final_bigram)"
   ]
  },
  {
   "cell_type": "code",
   "execution_count": 17,
   "metadata": {
    "deletable": false,
    "editable": false,
    "nbgrader": {
     "cell_type": "code",
     "checksum": "27cee43f70458dae38f1756c4d99ce17",
     "grade": true,
     "grade_id": "cell-6e1fbe250f81f03b",
     "locked": true,
     "points": 0.5,
     "schema_version": 3,
     "solution": false,
     "task": false
    }
   },
   "outputs": [],
   "source": [
    "## This is an automatically graded test cell.\n",
    "# It contains public tests that you can use to help determine whether your\n",
    "# functions are correct. It also contains hidden tests that are run by\n",
    "# the autograder.\n",
    "\n",
    "# Public tests\n",
    "# ---------------------------------------------------------\n",
    "dctBgTOTC = gbt_bigrams( nltk.word_tokenize(sTOTCBook), .3 )\n",
    "assert isinstance(dctBgTOTC, dict)\n",
    "assert 17 == len(dctBgTOTC)\n",
    "np.testing.assert_almost_equal(dctBgTOTC[('Notre', 'Dame')], 0.5, decimal=1, err_msg='Incorrect score', verbose=True)\n",
    "np.testing.assert_almost_equal(dctBgTOTC[('indignant', 'refugee')], 0.33, decimal=2, err_msg='Incorrect score', verbose=True)\n"
   ]
  },
  {
   "cell_type": "markdown",
   "metadata": {
    "deletable": false,
    "editable": false,
    "nbgrader": {
     "cell_type": "markdown",
     "checksum": "49e053fe9e01d970d7e4a70a74ea8d25",
     "grade": false,
     "grade_id": "cell-289250b00d0ee214",
     "locked": true,
     "schema_version": 3,
     "solution": false,
     "task": false
    }
   },
   "source": [
    "### Exercise 8\n",
    "**(0.5 pts)**  \n",
    "#### Part of Speech Tagging\n",
    "Once again for part of speech tagging, we'll use the raw list of tokens BEFORE removing punctuation and changing case \n",
    "This function will find the most frequently used parts of speech.\n",
    "- The input is the tokenized text after initial cleaning but before removing punctuation and changing case\n",
    "- The second parameter is the number of parts of speech to return\n",
    "- The return is a list of tuples of the form (part_of_speech, frequency) sorted in descending order of frequency.\n",
    "\n",
    "[Instructions](#Instructions)\n"
   ]
  },
  {
   "cell_type": "code",
   "execution_count": 18,
   "metadata": {
    "deletable": false,
    "nbgrader": {
     "cell_type": "code",
     "checksum": "750cfeacd4924a5a8326b5a71eb4f6ad",
     "grade": false,
     "grade_id": "cell-0000c630d80e4f84",
     "locked": false,
     "schema_version": 3,
     "solution": true,
     "task": false
    },
    "scrolled": true
   },
   "outputs": [],
   "source": [
    "#nltk.download('averaged_perceptron_tagger')\n",
    "def gbt_pos_tag( tok, nFreq ):\n",
    "    pos = nltk.pos_tag(tok)\n",
    "    pos = [l for _,l in pos]\n",
    "    freq_pos = nltk.FreqDist(pos)\n",
    "    total_pos = freq_pos.N()\n",
    "    final_pos = {}\n",
    "    for posi in freq_pos:\n",
    "        pos_c = round(freq_pos.freq(posi)*total_pos)\n",
    "        final_pos.update({posi:pos_c})\n",
    "    s = [(k, final_pos[k]) for k in sorted(final_pos, key=final_pos.get, reverse=True)]\n",
    "    return (s[0:nFreq])\n",
    "    \n"
   ]
  },
  {
   "cell_type": "code",
   "execution_count": 19,
   "metadata": {
    "deletable": false,
    "editable": false,
    "nbgrader": {
     "cell_type": "code",
     "checksum": "47f27bc8328c64015975efdd03b245b4",
     "grade": true,
     "grade_id": "cell-cbab0f65d3a28985",
     "locked": true,
     "points": 0.5,
     "schema_version": 3,
     "solution": false,
     "task": false
    },
    "scrolled": true
   },
   "outputs": [
    {
     "data": {
      "text/plain": [
       "[('NN', 21066),\n",
       " ('IN', 18223),\n",
       " ('DT', 14332),\n",
       " (',', 13126),\n",
       " ('PRP', 11030),\n",
       " ('JJ', 9734)]"
      ]
     },
     "execution_count": 19,
     "metadata": {},
     "output_type": "execute_result"
    }
   ],
   "source": [
    "## This is an automatically graded test cell.\n",
    "# It contains public tests that you can use to help determine whether your\n",
    "# functions are correct. It also contains hidden tests that are run by\n",
    "# the autograder.\n",
    "\n",
    "# Public tests\n",
    "# ---------------------------------------------------------\n",
    "posTOTC = gbt_pos_tag( nltk.word_tokenize(sTOTCBook), 6 )\n",
    "assert 'NN' == posTOTC[0][0]\n",
    "assert 21066 == posTOTC[0][1]\n",
    "assert ',' == posTOTC[3][0]\n",
    "assert 13126 == posTOTC[3][1]\n",
    "posTOTC"
   ]
  },
  {
   "cell_type": "markdown",
   "metadata": {
    "deletable": false,
    "editable": false,
    "nbgrader": {
     "cell_type": "markdown",
     "checksum": "7d33bab1e98801434a77e892ad59c4ea",
     "grade": false,
     "grade_id": "cell-ff981c587b3aec7b",
     "locked": true,
     "schema_version": 3,
     "solution": false,
     "task": false
    }
   },
   "source": [
    "### Exercise 9\n",
    "**(0.5 pts)**  \n",
    "#### Spelling Recommender 1\n",
    "\n",
    "The purpose of this function is to recommend corrections for misspelled words. Note that the corpus of correct spellings is in the variable `correct_spellings`. For this first recommender,\n",
    "- The input is a list of words, some of which are misspelled.\n",
    "- For each word, find the **[Jaccard distance](https://en.wikipedia.org/wiki/Jaccard_index)** on the **trigrams** of the two words. Return as your recommendation the correct word with the shortest distance from the misspelled word.\n",
    "- The return is a list of recommended correct words. If a word is not misspelled, just return the same word.\n"
   ]
  },
  {
   "cell_type": "code",
   "execution_count": 20,
   "metadata": {
    "deletable": false,
    "editable": false,
    "nbgrader": {
     "cell_type": "code",
     "checksum": "d08dc69bf3142d513ebae841942d46f9",
     "grade": false,
     "grade_id": "cell-2706590b6fb5751d",
     "locked": true,
     "schema_version": 3,
     "solution": false,
     "task": false
    }
   },
   "outputs": [],
   "source": [
    "# You will need these\n",
    "from nltk.corpus import words\n",
    "correct_spellings = words.words()"
   ]
  },
  {
   "cell_type": "code",
   "execution_count": 25,
   "metadata": {
    "deletable": false,
    "nbgrader": {
     "cell_type": "code",
     "checksum": "87c1a271fd9567371827b57bff01b7c4",
     "grade": false,
     "grade_id": "cell-f439b84aac11ee67",
     "locked": false,
     "schema_version": 3,
     "solution": true,
     "task": false
    }
   },
   "outputs": [],
   "source": [
    "from nltk.metrics.distance import jaccard_distance\n",
    "from nltk.util import ngrams\n",
    "\n",
    "def spell_recommender_jac3( lst ):\n",
    "    final = []\n",
    "    for word in lst:\n",
    "        out = {}\n",
    "        words = [w for w in correct_spellings if w[0] == word[0]]\n",
    "        for x in words:\n",
    "            ed = jaccard_distance(set(nltk.trigrams(word)), set(nltk.trigrams(x)))\n",
    "            out.update({x:ed})\n",
    "        s = [[k, out[k]] for k in sorted(out, key=out.get)]\n",
    "        #for key,value in s[0]:\n",
    "        final.extend([s[0][0]])\n",
    "    return( final)"
   ]
  },
  {
   "cell_type": "code",
   "execution_count": 26,
   "metadata": {
    "deletable": false,
    "editable": false,
    "nbgrader": {
     "cell_type": "code",
     "checksum": "980462e7a65818f1238bf5b3e79f3957",
     "grade": true,
     "grade_id": "cell-0a27ca399bfeb913",
     "locked": true,
     "points": 0.5,
     "schema_version": 3,
     "solution": false,
     "task": false
    }
   },
   "outputs": [],
   "source": [
    "## This is an automatically graded test cell.\n",
    "# It contains public tests that you can use to help determine whether your\n",
    "# functions are correct. It also contains hidden tests that are run by\n",
    "# the autograder.\n",
    "\n",
    "# Public tests\n",
    "# ---------------------------------------------------------\n",
    "rec = spell_recommender_jac3(['indolent', 'cormulent', 'incendenece', 'validrate'])\n",
    "assert sorted(rec) == sorted(['indolent', 'corpulent', 'indecence', 'validate'])"
   ]
  },
  {
   "cell_type": "markdown",
   "metadata": {
    "deletable": false,
    "editable": false,
    "nbgrader": {
     "cell_type": "markdown",
     "checksum": "05aeaec591c329ff6ece8d6bf8060266",
     "grade": false,
     "grade_id": "cell-f5cf2f84a37470aa",
     "locked": true,
     "schema_version": 3,
     "solution": false,
     "task": false
    }
   },
   "source": [
    "### Exercise 10\n",
    "**(0.5 pts)**  \n",
    "#### Spelling Recommender 2\n",
    "This function also recommends corrections for misspelled words. Note that the corpus of correct spellings is in the variable `correct_spellings`. For this first recommender,\n",
    "- The input is a list of words, some of which are misspelled.\n",
    "- For each word, find the **[Edit distance on the two words with transpositions.](https://en.wikipedia.org/wiki/Damerau%E2%80%93Levenshtein_distance)**. Return as your recommendation the correct word with the shortest distance from the misspelled word.\n",
    "- The return is a list of recommended correct words. If a word is not misspelled, just return the same word.\n"
   ]
  },
  {
   "cell_type": "code",
   "execution_count": 27,
   "metadata": {
    "deletable": false,
    "nbgrader": {
     "cell_type": "code",
     "checksum": "9693c8c8aec5cf922d87d31cda249e47",
     "grade": false,
     "grade_id": "cell-6dec13e24fe57126",
     "locked": false,
     "schema_version": 3,
     "solution": true,
     "task": false
    }
   },
   "outputs": [],
   "source": [
    "from nltk.metrics.distance import edit_distance\n",
    "def spell_recommender_editdist( lst ):\n",
    "    final = []\n",
    "    for word in lst:\n",
    "        out = {}\n",
    "        words = [w for w in correct_spellings if w[0] == word[0]]\n",
    "        for x in words:\n",
    "            ed = edit_distance(word, x,transpositions=True)\n",
    "            out.update({x:ed})\n",
    "        s = [[k, out[k]] for k in sorted(out, key=out.get)]\n",
    "        #for key,value in s[0]:\n",
    "        final.extend([s[0][0]])\n",
    "    return( final)"
   ]
  },
  {
   "cell_type": "code",
   "execution_count": 28,
   "metadata": {
    "deletable": false,
    "editable": false,
    "nbgrader": {
     "cell_type": "code",
     "checksum": "cfc8c7d37453b440c338529f28f4b566",
     "grade": true,
     "grade_id": "cell-eef50f329aeca9d4",
     "locked": true,
     "points": 0.5,
     "schema_version": 3,
     "solution": false,
     "task": false
    }
   },
   "outputs": [],
   "source": [
    "## This is an automatically graded test cell.\n",
    "# It contains public tests that you can use to help determine whether your\n",
    "# functions are correct. It also contains hidden tests that are run by\n",
    "# the autograder.\n",
    "\n",
    "# Public tests\n",
    "# ---------------------------------------------------------\n",
    "\n",
    "rec = spell_recommender_editdist(['indolent', 'cormulent', 'incendenece', 'validrate'])\n",
    "assert sorted(rec) == sorted(['indolent', 'corpulent', 'intendence', 'validate'])"
   ]
  },
  {
   "cell_type": "code",
   "execution_count": null,
   "metadata": {},
   "outputs": [],
   "source": []
  }
 ],
 "metadata": {
  "kernelspec": {
   "display_name": "Python 3",
   "language": "python",
   "name": "python3"
  },
  "language_info": {
   "codemirror_mode": {
    "name": "ipython",
    "version": 3
   },
   "file_extension": ".py",
   "mimetype": "text/x-python",
   "name": "python",
   "nbconvert_exporter": "python",
   "pygments_lexer": "ipython3",
   "version": "3.7.4"
  }
 },
 "nbformat": 4,
 "nbformat_minor": 2
}
