{
 "cells": [
  {
   "cell_type": "markdown",
   "metadata": {},
   "source": [
    "# Assignment Instructions\n",
    "## Completing the Assignment  \n",
    "1. Fill in your STUDENTID (abc123) in the code block below.\n",
    "2. Fill in any place that says `#YOUR CODE HERE` with python code that implements the indicated function.\n",
    "3. When filling in `#YOUR CODE HERE` sections, remove or comment out the line  `raise NotImplementedError()`, or else you will lose all credit for that function.\n",
    "4. Fill in any place that says `YOUR ANSWER HERE` with appropriate markdown text. This usually indicates a manually graded cell.\n",
    "\n",
    "## Assignment Submission Checklist  \n",
    "Before you submit this assignment for grading, you must do the following or you risk losing points. \n",
    "1. **Remove Extraneous prints** Long prints _might_ confuse the grader. If they do, you lose points.\n",
    "2. **Restart the kernel** (in the menubar, select Kernel$\\rightarrow$Restart)\n",
    "3. **Run all cells** (in the menubar, select Cell$\\rightarrow$Run All).  \n",
    "  - If any cell that contains code throws an exception or does not compile, fix it and restart this checklist \n",
    "  - If a grading cell throws an exception, you will not recieve any credit for that cell\n",
    "4. **Save the notebook** This ensures that any graphs or plots are in the submission   \n",
    "  - Do NOT rename your notebook. It must have the same name that was downloaded, or the grading will fail.  \n",
    "5. **Zip up the assignment notebook(s) and any files required to run the notebook**\n",
    "  - You must put your files into a `.zip` file with the same name that was used to download the assignment. For example `ASnn.zip` or `PRnn.zip` where nn is a two digit, zero padded number.\n",
    "  - All files must be in the root of the zip file, NOT in a subdirectory\n",
    "\n",
    "By submitting this notebook for grading, you affirm that all work was produced by the author identified below, and that references are included for all use of public source material (to include code, data, diagrams, pictures, and verbatim text)."
   ]
  },
  {
   "cell_type": "code",
   "execution_count": null,
   "metadata": {},
   "outputs": [],
   "source": [
    "STUDENTID = \"\""
   ]
  },
  {
   "cell_type": "markdown",
   "metadata": {},
   "source": [
    "---"
   ]
  },
  {
   "cell_type": "markdown",
   "metadata": {
    "deletable": false,
    "editable": false,
    "nbgrader": {
     "cell_type": "markdown",
     "checksum": "a77db961f08f0e8692df30cd645e69cf",
     "grade": false,
     "grade_id": "cell-f92a78cf47f1ca1c",
     "locked": true,
     "schema_version": 3,
     "solution": false
    }
   },
   "source": [
    "# AS04: Exploring NOAA Data\n",
    "**Version:**  1.2  \n",
    "**Total Points:** 5"
   ]
  },
  {
   "cell_type": "markdown",
   "metadata": {
    "deletable": false,
    "editable": false,
    "nbgrader": {
     "cell_type": "markdown",
     "checksum": "af8b80ac7fc220d81e948f053e2d4023",
     "grade": false,
     "grade_id": "cell-f9413455bdc28a65",
     "locked": true,
     "schema_version": 3,
     "solution": false
    }
   },
   "source": [
    "## Objective\n",
    "The objective of this assignment is to begin exploring and understanding the solar data from the National Oceanic and Atmospheric Administration (NOAA). "
   ]
  },
  {
   "cell_type": "markdown",
   "metadata": {
    "deletable": false,
    "editable": false,
    "nbgrader": {
     "cell_type": "markdown",
     "checksum": "5607aec8e6e3e34eb7d6d4ffb9fe4e43",
     "grade": false,
     "grade_id": "cell-f921f0b01481b5d6",
     "locked": true,
     "schema_version": 3,
     "solution": false,
     "task": false
    }
   },
   "source": [
    "## Data Sources\n",
    "NOAA has an ongoing data collection and archiving program that is well organized, well documented, and publicly available. Data used in this assignment is available via anonymous FTP at the following locations:\n",
    "- ftp.ncdc.noaa.gov/pub/data/ghcn/daily/by_year\n",
    "- ftp.ncdc.noaa.gov/pub/data/nsrdb-solar\n",
    "[Terms of use](https://www.ncdc.noaa.gov/ghcnd-data-access) for the data include \"free and unrestricted use in research, education, and other non-commercial activities.\"\n",
    "\n",
    "Weather data exists for the years 1763 - 2019  \n",
    "Solar data exists for the years 1991 - 2005\n",
    "\n",
    "The relevant data sources for this exercise have been copied to the read-only Datasets directory (location is identified by the environment variable DATASETS_ROOT)."
   ]
  },
  {
   "cell_type": "markdown",
   "metadata": {
    "deletable": false,
    "editable": false,
    "nbgrader": {
     "cell_type": "markdown",
     "checksum": "012785070eebd1104972fb62908a6351",
     "grade": false,
     "grade_id": "cell-bab4150afda99733",
     "locked": true,
     "schema_version": 3,
     "solution": false,
     "task": false
    }
   },
   "source": [
    "## Instructions\n",
    "\n",
    "Be sure to read the instructions and guidelines provided for each portion of this assignment.  The number of points earned is in parenthesis next to the description in the table of contents below.\n",
    "\n",
    "[Setup](#Setup) \n",
    "\n",
    "### Exploring Solar Data\n",
    "[Exercise 1](#Exercise-1) (1.0) Extracting multiple years of solar data for a station    \n",
    "[Exercise 2](#Exercise-2) (0.5) First look at the solar data  \n",
    "[Exercise 3](#Exercise-3) (1.0) Organizing Values by day of year  \n",
    "[Exercise 4](#Exercise-4) (1.0) A different view  \n",
    "\n",
    "### Exploring Weather Data  \n",
    "[Exercise 5](#Exercise-5) (0.5) Finding the weather station closest to a given solar station  \n",
    "[Exercise 6](#Exercise-6) (1.0) Extracting multiple years of weather data for a station\n",
    "\n",
    "\n",
    "### VERY IMPORTANT!!\n",
    "As part of exercise 1 you will be extracting solar information that will be cached. You must turn in two cached files with your assignment.\n",
    "- solardata-700260.pqt\n",
    "- solardata-722506.pqt\n",
    "\n"
   ]
  },
  {
   "cell_type": "markdown",
   "metadata": {
    "deletable": false,
    "editable": false,
    "nbgrader": {
     "cell_type": "markdown",
     "checksum": "96f680a38527d2f766e116690a115246",
     "grade": false,
     "grade_id": "cell-2eab418bd577b8fb",
     "locked": true,
     "schema_version": 3,
     "solution": false,
     "task": false
    }
   },
   "source": [
    "### Setup\n",
    "You will need to run this section each time you start this notebook. Note that the functions from AS02 have been encapsulated into a couple of utility classes, and that the setup section instantiates one of each class to be used throughout this assignment. Each class has a couple of extra functions that you will find useful. You might want to open the .py files and look at the code, but please do not modify the code. When the grader runs, the original files will be used."
   ]
  },
  {
   "cell_type": "code",
   "execution_count": null,
   "metadata": {
    "deletable": false,
    "editable": false,
    "nbgrader": {
     "cell_type": "code",
     "checksum": "388b61503b6ef51ac1b2de819d8acf56",
     "grade": false,
     "grade_id": "cell-7bcb55fd0b3d2a8a",
     "locked": true,
     "schema_version": 3,
     "solution": false,
     "task": false
    }
   },
   "outputs": [],
   "source": [
    "# Imports and globals for this exercise\n",
    "# Setup notebook for interactive graphics\n",
    "%matplotlib inline\n",
    "# mainline tools\n",
    "import os\n",
    "import tarfile\n",
    "import re\n",
    "# data tools\n",
    "import numpy as np\n",
    "from scipy import stats\n",
    "import pandas as pd\n",
    "import matplotlib.pyplot as plt\n",
    "import matplotlib.dates as mdates\n",
    "import matplotlib as mpl\n",
    "import mplleaflet\n",
    "# utility functions to save and read a dataframe for later use\n",
    "import DSIPClassUtilities as utl\n",
    "\n",
    "# Set paths to directories for the NOAA data\n",
    "dataroot = os.environ['DATASETS_ROOT']\n",
    "weatherdir = os.path.join(dataroot, 'NOAA/ghcn/daily')\n",
    "solardir   = os.path.join(dataroot, 'NOAA/nsrdb-solar/solar-only')\n",
    "\n",
    "# Load the NOAA utility classes\n",
    "import NOAAWeatherUtilities\n",
    "import NOAASolarUtilities\n",
    "# Use these classes to call the utility functions\n",
    "ghcn = NOAAWeatherUtilities.GHCNUtilities(weatherdir)\n",
    "nsrb = NOAASolarUtilities.NSRBUtilities(solardir)\n",
    "\n",
    "# place to save temporary data and avoid lengthy reprocessing\n",
    "savedir = './_tmp' \n",
    "if not os.path.exists(savedir):\n",
    "    os.makedirs(savedir)\n",
    "\n",
    "# Document the paths and selectors\n",
    "print('Paths and data for this exercise')\n",
    "print('--------------------------------')\n",
    "print('Path to weather data: {}'.format(weatherdir))\n",
    "print('Path to solar data:   {}'.format(solardir))\n",
    "print('Temp files saved to:  {}'.format(savedir))   \n",
    "\n",
    "# For this assignment, we will be using the two solar stations furthest appart in latitude where solar data is measured.\n",
    "tSolarStations = ()\n",
    "dfSolarStations = nsrb.find_stations(solar=True)\n",
    "\n",
    "idSolarNorth = dfSolarStations['Latitude'].idxmax()\n",
    "idSolarSouth = dfSolarStations['Latitude'].idxmin()\n",
    "\n",
    "# Check to be sure we got the correct stations\n",
    "assert '700260' == idSolarNorth\n",
    "assert '722506' == idSolarSouth\n",
    "\n",
    "# Show where they are located\n",
    "print('--------------------------------')\n",
    "print('Use these solar stations')\n",
    "print('--------------------------------')\n",
    "print(nsrb.get_station_info(idSolarNorth) )\n",
    "print('--------------------------------')\n",
    "print(nsrb.get_station_info(idSolarSouth) )"
   ]
  },
  {
   "cell_type": "markdown",
   "metadata": {
    "deletable": false,
    "editable": false,
    "nbgrader": {
     "cell_type": "markdown",
     "checksum": "20d2c879dde1f198d746b13c99a711f3",
     "grade": false,
     "grade_id": "cell-fcfaea992348c9a2",
     "locked": true,
     "schema_version": 3,
     "solution": false,
     "task": false
    }
   },
   "source": [
    "### Exercise 1\n",
    "**(1.0 pts)**  \n",
    "#### Extracting multiple years of solar data for a station\n",
    "- If the station id is not valid, raise a ValueError\n",
    "- Use the tarfile package to read the file names from the .tgz\n",
    "- Parse out the available years from the file names\n",
    "- Call nsrb.read_solar_byyear for each year and combine into a single dataframe\n",
    "- The data will need some work to make it compatible with the weather data later.\n",
    "  - The measured data has a lot of NaN values. To keep things a little simpler for this exercise, we'll use on the modeled reading. The columns to drop from the dataframe returned from nsrb.read_solar_byyear are specified by `colDrop`\n",
    "  - The solar radiation received power is recorded on an hourly basis. We want the total energy delivered each day. You will need to group the data by `[year, month, day]` and sum the values in each group. The final result dataframe must have \n",
    "    - columns = 'GloMod_Wpm2', 'Year', 'Month', 'Day' \n",
    "    - index = 'Date'\n",
    "- As you are debugging your function, remove your cache file each time or set the code to where it temporarily ignores the cache. BE SURE CACHING IS ENABLED WHEN YOU SUBMIT YOUR CODE."
   ]
  },
  {
   "cell_type": "code",
   "execution_count": null,
   "metadata": {
    "deletable": false,
    "nbgrader": {
     "cell_type": "code",
     "checksum": "368efdf433e5e370c686e11bd5522a87",
     "grade": false,
     "grade_id": "cell-5e663bcb91be01f9",
     "locked": false,
     "schema_version": 3,
     "solution": true,
     "task": false
    }
   },
   "outputs": [],
   "source": [
    "def nsrb_aggregate_solar_data( stationid, savedir='.' ):\n",
    "    '''\n",
    "    Aggregate the solar data for the given station for all the\n",
    "    years for which data is available. \n",
    "    Return a dataframe \n",
    "    '''\n",
    "    # These are the columns to drop\n",
    "    colDrop = [ 'Date',         'SolarStnId',   'Time_LST',     \n",
    "                'Zenith_deg',   'Azimuth_deg',\n",
    "                'ETR_Wpm2',     'ETRN_Wpm2', \n",
    "                'MeasGlo_Wpm2', 'GloModUnc_pct',  'GloModSrc',\n",
    "                'DirMod_Wpm2',  'DirModUnc_pct',  'DirModSrc',\n",
    "                'DifMod_Wpm2',  'DifModUnc_pct',  'DifModSrc', \n",
    "                                'MeasGloQualFlg',\n",
    "                'MeasDir_Wpm2', 'MeasDirQualFlg', \n",
    "                'MeasDif_Wpm2', 'MeasDifQualFlg'\n",
    "              ]\n",
    "    # Which initially leaves these columns. We'll recreate the date\n",
    "    # column after grouping the hourly readings.\n",
    "    colKeep = ['GloMod_Wpm2', 'Year', 'Month', 'Day' ]\n",
    "\n",
    "    # Check for cached data first\n",
    "    sCacheFile = 'solardata-{}'.format(stationid)\n",
    "    sCachePath = os.path.join(savedir,sCacheFile+'.pqt')\n",
    "    if os.path.exists(sCachePath):\n",
    "        print('Reading cached data for {}'.format(stationid))\n",
    "        df = utl.read_dataframe( sCachePath )\n",
    "        return df\n",
    "    # Need to read the data from the source files\n",
    "    \n",
    "    # YOUR CODE HERE\n",
    "    raise NotImplementedError()\n",
    "    utl.save_dataframe( df, sCacheFile, savedir )                 \n",
    "    return df\n"
   ]
  },
  {
   "cell_type": "code",
   "execution_count": null,
   "metadata": {
    "deletable": false,
    "editable": false,
    "nbgrader": {
     "cell_type": "code",
     "checksum": "09626984a9d3d6a66c37b9a5cfc8d6c7",
     "grade": true,
     "grade_id": "cell-2b263e18db2e3aca",
     "locked": true,
     "points": 1,
     "schema_version": 3,
     "solution": false,
     "task": false
    }
   },
   "outputs": [],
   "source": [
    "## This is an automatically graded test cell.\n",
    "# The public tests help you determine whether your solutions are correct.                          \n",
    "# It also contains hidden tests that are run by the autograder.\n",
    "\n",
    "# Public tests (make sure your function passes these tests)\n",
    "# ---------------------------------------------------------\n",
    "dfSolarNorthData = nsrb_aggregate_solar_data( idSolarNorth )                          \n",
    "dfSolarSouthData = nsrb_aggregate_solar_data( idSolarSouth ) \n",
    "\n",
    "assert (5479,4) == dfSolarNorthData.shape\n",
    "assert (1991, 2005) == (dfSolarSouthData['Year'].min(), dfSolarSouthData['Year'].max())\n",
    "assert sorted(dfSolarSouthData.columns) == sorted(['GloMod_Wpm2', 'Year', 'Month', 'Day'])\n"
   ]
  },
  {
   "cell_type": "markdown",
   "metadata": {
    "deletable": false,
    "editable": false,
    "nbgrader": {
     "cell_type": "markdown",
     "checksum": "d24d3054ce001557043dde8201819979",
     "grade": false,
     "grade_id": "cell-bf79d8a193017105",
     "locked": true,
     "schema_version": 3,
     "solution": false,
     "task": false
    }
   },
   "source": [
    "### Exercise 2\n",
    "**(0.5 pts)**  \n",
    "#### First look at the Solar data\n",
    "To get a quick look at the data, plot the modeled values from both solar stations as lines on the same chart.\n",
    "- Combine the 'GloMod_Wpm2' data from both stations into a dataframe named dfAllSolar\n",
    "  - Index must be 'Date'\n",
    "  - Use the solar station id as the column name\n",
    "  - Northern station as the first column, Southern station as the second\n",
    "- Then just call df.plot()"
   ]
  },
  {
   "cell_type": "code",
   "execution_count": null,
   "metadata": {
    "deletable": false,
    "nbgrader": {
     "cell_type": "code",
     "checksum": "ef4ee13850b4d99a52617fe695f86eab",
     "grade": true,
     "grade_id": "cell-bfbc6b3c64a26d90",
     "locked": false,
     "points": 0.5,
     "schema_version": 3,
     "solution": true,
     "task": false
    }
   },
   "outputs": [],
   "source": [
    "# YOUR CODE HERE\n",
    "raise NotImplementedError()\n",
    "\n",
    "h = dfAllSolar.plot(figsize=[8,4])\n",
    "plt.show()"
   ]
  },
  {
   "attachments": {
    "SolarPowerByDayBoxPlot.png": {
     "image/png": "[encoded data removed]"
    }
   },
   "cell_type": "markdown",
   "metadata": {
    "deletable": false,
    "editable": false,
    "nbgrader": {
     "cell_type": "markdown",
     "checksum": "1d52f2e211c31910a40e9dc18a1beb37",
     "grade": false,
     "grade_id": "cell-0a16fb85ed9dc332",
     "locked": true,
     "schema_version": 3,
     "solution": false,
     "task": false
    }
   },
   "source": [
    "### Exercise 3\n",
    "**(1.0 pts)**  \n",
    "#### Organizing values by day of year.\n",
    "\n",
    "We want to get a sense of how the daily solar power varies each day from year to year. We'll use the solstice and equinox dates from 2019 as our comparison points.\n",
    "- The dates to use are: Mar 20, Jun 21, Sep 23, Dec 22.\n",
    "- Create a dataframe in the variable `dfSolarDays`.\n",
    "- Column names must be in this order, where (N) is north station and (S) is south station. For this case, the index does not matter.  \n",
    "`['Mar20(N)', 'Mar20(S)', 'Jun21(N)', 'Jun21(S)', 'Sep23(N)', 'Sep23(S)', 'Dec22(N)', 'Dec22(S)']`\n",
    "- Each row will be the total solar power recieved on that day for each year in the range `[1991,2005]`\n",
    "- The row values are the daily readings (created above by summing the hourly readings) for each day of the month. \n",
    "- The next cell will draw a boxplot. It should look like this:\n",
    "![SolarPowerByDayBoxPlot.png](attachment:SolarPowerByDayBoxPlot.png)\n"
   ]
  },
  {
   "cell_type": "code",
   "execution_count": null,
   "metadata": {
    "deletable": false,
    "nbgrader": {
     "cell_type": "code",
     "checksum": "c5a381140d21f8c3230215de084452d4",
     "grade": false,
     "grade_id": "cell-335022ec3f94fb91",
     "locked": false,
     "schema_version": 3,
     "solution": true,
     "task": false
    }
   },
   "outputs": [],
   "source": [
    "dfSolarDays = pd.DataFrame()\n",
    "\n",
    "# YOUR CODE HERE\n",
    "raise NotImplementedError()\n",
    "\n"
   ]
  },
  {
   "cell_type": "code",
   "execution_count": null,
   "metadata": {
    "deletable": false,
    "editable": false,
    "nbgrader": {
     "cell_type": "code",
     "checksum": "2e1707ccbe070ca7aac34ca5addf8d5b",
     "grade": true,
     "grade_id": "cell-83d718ff3695665e",
     "locked": true,
     "points": 0.5,
     "schema_version": 3,
     "solution": false,
     "task": false
    }
   },
   "outputs": [],
   "source": [
    "## This is an automatically graded test cell.\n",
    "# The public tests help you determine whether your solutions are correct.                          \n",
    "# This one has no hidden tests\n",
    "\n",
    "assert (15, 8) == dfSolarDays.shape\n",
    "assert sorted(['Mar20(N)', 'Mar20(S)', 'Jun21(N)', 'Jun21(S)', 'Sep23(N)', 'Sep23(S)', 'Dec22(N)', 'Dec22(S)']) == sorted(dfSolarDays.columns)\n",
    "\n"
   ]
  },
  {
   "cell_type": "code",
   "execution_count": null,
   "metadata": {
    "deletable": false,
    "nbgrader": {
     "cell_type": "code",
     "checksum": "d4964dda3425f018d23d35bf0c75507e",
     "grade": true,
     "grade_id": "cell-c345fa44ce185711",
     "locked": false,
     "points": 0.5,
     "schema_version": 3,
     "solution": true,
     "task": false
    }
   },
   "outputs": [],
   "source": [
    "# YOUR CODE HERE\n",
    "raise NotImplementedError()"
   ]
  },
  {
   "cell_type": "code",
   "execution_count": null,
   "metadata": {
    "deletable": false,
    "editable": false,
    "nbgrader": {
     "cell_type": "code",
     "checksum": "7a9070f9e8e1ffaa9e7aff044dbe3d05",
     "grade": false,
     "grade_id": "cell-fe29718c6676822f",
     "locked": true,
     "schema_version": 3,
     "solution": false,
     "task": false
    }
   },
   "outputs": [],
   "source": [
    "dfSolarDays.describe()"
   ]
  },
  {
   "attachments": {
    "SolarYear.png": {
     "image/png": "[encoded data removed]"
    }
   },
   "cell_type": "markdown",
   "metadata": {
    "deletable": false,
    "editable": false,
    "nbgrader": {
     "cell_type": "markdown",
     "checksum": "db4cdcbaa126f29b3893a9fcbd9e4b86",
     "grade": false,
     "grade_id": "cell-0c7c913418c107e9",
     "locked": true,
     "schema_version": 3,
     "solution": false,
     "task": false
    }
   },
   "source": [
    "### Exercise 4\n",
    "**(1.0 pts)**  \n",
    "#### A different view \n",
    "We now want to plot values for an \"average\" year, where average is one of the central tendency measures across all years available. Since the box plot shows that for most of the sample days the mean is off center, we'll just use the **median** for our first cut.\n",
    "- Fill in the function in the next cell. \n",
    "- It takes a dfSolar dataframe as input (we'll be using dfSolarNorthData and dfSolarSouthData)\n",
    "- It returns a Pandas Series with the stationid as the series name\n",
    "- The index must be named `DOY` (day of year). It is ok if the index starts at 0. \n",
    "- The values in each row are the median values of all the sums for that day.\n",
    "- Be sure to drop leap year days (Feb 29) before developing your index\n",
    "When you plot your data, it should look like this:\n",
    "![SolarYear.png](attachment:SolarYear.png)\n"
   ]
  },
  {
   "cell_type": "code",
   "execution_count": null,
   "metadata": {
    "deletable": false,
    "nbgrader": {
     "cell_type": "code",
     "checksum": "0298f853ac2fde65f48ceb94cde21698",
     "grade": false,
     "grade_id": "cell-894913a55e9cebd1",
     "locked": false,
     "schema_version": 3,
     "solution": true,
     "task": false
    }
   },
   "outputs": [],
   "source": [
    "def nsrb_avg_solar_year( stationid, dfSolarData ):\n",
    "    # YOUR CODE HERE\n",
    "    raise NotImplementedError()\n"
   ]
  },
  {
   "cell_type": "code",
   "execution_count": null,
   "metadata": {
    "deletable": false,
    "editable": false,
    "nbgrader": {
     "cell_type": "code",
     "checksum": "a003a59df6d55b46bdd12a78f7fd2505",
     "grade": true,
     "grade_id": "cell-f281edcf08c5d67f",
     "locked": true,
     "points": 0.5,
     "schema_version": 3,
     "solution": false,
     "task": false
    }
   },
   "outputs": [],
   "source": [
    "## This is an automatically graded test cell.\n",
    "# The public tests help you determine whether your solutions are correct.                          \n",
    "# It also contains hidden tests that are run by the autograder.\n",
    "\n",
    "srSolarNorthYear = nsrb_avg_solar_year( idSolarNorth, dfSolarNorthData )\n",
    "srSolarSouthYear = nsrb_avg_solar_year( idSolarSouth, dfSolarSouthData )\n",
    "\n",
    "# Public tests (make sure your function passes these tests)\n",
    "# ---------------------------------------------------------\n",
    "assert srSolarSouthYear.shape == (365,)    \n",
    "assert srSolarSouthYear.name == idSolarSouth\n",
    "np.testing.assert_almost_equal(srSolarSouthYear[0], 2666.0, decimal=1, err_msg='Incorrect data in srSolarSouthYear', verbose=True)\n",
    "np.testing.assert_almost_equal(srSolarNorthYear[128], 2890.0, decimal=1, err_msg='Incorrect data in srSolarNorthYear', verbose=True)\n",
    "\n"
   ]
  },
  {
   "cell_type": "markdown",
   "metadata": {
    "deletable": false,
    "editable": false,
    "nbgrader": {
     "cell_type": "markdown",
     "checksum": "5c21f9cac26c2daad2d4d3eca5b52337",
     "grade": false,
     "grade_id": "cell-64ae2fb77bd33175",
     "locked": true,
     "schema_version": 3,
     "solution": false,
     "task": false
    }
   },
   "source": [
    "In the plot below, you get 0.25 points for the correct lines, 0.25 points for axis labeled and legend present with correct values. Both should happen automatically if you have the dataframe correct."
   ]
  },
  {
   "cell_type": "code",
   "execution_count": null,
   "metadata": {
    "deletable": false,
    "nbgrader": {
     "cell_type": "code",
     "checksum": "785d7db984b50811d482f2a92db48367",
     "grade": true,
     "grade_id": "cell-861a3e897c42dc5a",
     "locked": false,
     "points": 0.5,
     "schema_version": 3,
     "solution": true,
     "task": false
    }
   },
   "outputs": [],
   "source": [
    "# Combine srSolarNorthYear and srSolarSouthYear into a dataframe and plot a line graph\n",
    "h3fig = plt.figure(num=2, figsize=[8,4], dpi=100, clear=True)\n",
    "dfSolarYear = pd.DataFrame()\n",
    "# YOUR CODE HERE\n",
    "raise NotImplementedError()\n"
   ]
  },
  {
   "cell_type": "markdown",
   "metadata": {
    "deletable": false,
    "editable": false,
    "nbgrader": {
     "cell_type": "markdown",
     "checksum": "2bb8f81a34a4b9aae64ec67a47349e60",
     "grade": false,
     "grade_id": "cell-3e9459dfbface294",
     "locked": true,
     "schema_version": 3,
     "solution": false,
     "task": false
    }
   },
   "source": [
    "### Exercise 5 \n",
    "**(0.5 pts)**  \n",
    "#### Find the weather stations closest to each of the identified solar stations.  \n",
    "\n",
    "To do this, you will need to write the function: find_closest_weather_station\n",
    "- Return a series with the stationid as the index, distance as the value\n",
    "- The series must be sorted on the distance, with smallest first\n",
    "- Use the utl.haversine_km() function to calculate the distance between two locations. \n",
    "- If you calculate the distance from the given solar station to all weather stations, this can take a long time. You can save a lot of time by using the fact that 1 degree of latitude is about 111 km. \n"
   ]
  },
  {
   "cell_type": "code",
   "execution_count": null,
   "metadata": {
    "deletable": false,
    "nbgrader": {
     "cell_type": "code",
     "checksum": "3a35283b8d0374b88b118a06a2c060d0",
     "grade": false,
     "grade_id": "cell-0ecf0a043c0d0861",
     "locked": false,
     "schema_version": 3,
     "solution": true,
     "task": false
    }
   },
   "outputs": [],
   "source": [
    "def find_close_weather_stations( solarstationid, dist_km ):\n",
    "    '''\n",
    "    Finds the weather stations less than dist_km of the given solar station.\n",
    "    This uses global classes nsrb and ghcn.\n",
    "    Returns a series containing the candidate weather stations.\n",
    "    '''\n",
    "    # YOUR CODE HERE\n",
    "    raise NotImplementedError()\n",
    "    "
   ]
  },
  {
   "cell_type": "code",
   "execution_count": null,
   "metadata": {
    "deletable": false,
    "editable": false,
    "nbgrader": {
     "cell_type": "code",
     "checksum": "c612b4156a74ebc2d16e96cc876fc425",
     "grade": true,
     "grade_id": "cell-cff81d68e103da68",
     "locked": true,
     "points": 0.5,
     "schema_version": 3,
     "solution": false,
     "task": false
    }
   },
   "outputs": [],
   "source": [
    "## This is an automatically graded test cell.\n",
    "# The public tests help you determine whether your solutions are correct.                          \n",
    "# It also contains hidden tests that are run by the autograder.\n",
    "\n",
    "# Public tests (make sure your function passes these tests)\n",
    "# ---------------------------------------------------------\n",
    "srWeatherNorth = find_close_weather_stations(idSolarNorth, 20)\n",
    "srWeatherSouth = find_close_weather_stations(idSolarSouth, 20) \n",
    "\n",
    "# We will be using weather data from the years 1978 to 2018. \n",
    "# Not all of the weather stations close to the solar stations\n",
    "# were active during that time. We'll use the following.\n",
    "idWeatherSouth = 'USC00415701'\n",
    "idWeatherNorth = 'USW00027502'\n",
    "\n",
    "assert idWeatherSouth in srWeatherSouth.index.to_list()\n",
    "assert idWeatherNorth in srWeatherNorth.index.to_list()\n",
    "                        \n",
    "# The hidden tests check that your function works for other locations    "
   ]
  },
  {
   "cell_type": "markdown",
   "metadata": {
    "deletable": false,
    "editable": false,
    "nbgrader": {
     "cell_type": "markdown",
     "checksum": "38ccd7bb9169513b7927229227202167",
     "grade": false,
     "grade_id": "cell-228cffc3843e828b",
     "locked": true,
     "schema_version": 3,
     "solution": false,
     "task": false
    }
   },
   "source": [
    "### Exercise 6\n",
    "**(1.0 pts)**  \n",
    "#### Extracting multiple years of weather data for a station\n",
    "- If the station id is not valid, raise a ValueError\n",
    "- If years is not a tuple with two integer values, raise a ValueError\n",
    "- If there are years missing in the supplied range, just skip over them.\n",
    "- If none of the years are valid, return an empty dataframe\n",
    "- Call nsrb.read_weather_byyear for each year in the range and combine into a single dataframe \n",
    "- Remove all the Elements except TMIN and TMAX.\n",
    "- The resulting dataframe should have columns: `['WeatherStnId', 'Date',  'Element', 'Value', 'Year', 'Month', 'Day']`\n",
    "- Use the following format for your cache file name\n",
    "  - sCacheFile = `'weatherdata-{}-{}-{}'.format(stationid,years[0],years[1])`\n",
    "\n"
   ]
  },
  {
   "cell_type": "code",
   "execution_count": null,
   "metadata": {
    "deletable": false,
    "nbgrader": {
     "cell_type": "code",
     "checksum": "f8ea4dd33ebf478b7750eeb7daa21a56",
     "grade": false,
     "grade_id": "cell-d88b4458f3fd6d1b",
     "locked": false,
     "schema_version": 3,
     "solution": true,
     "task": false
    }
   },
   "outputs": [],
   "source": [
    "def ghcn_aggregate_weather_data( stationid, years, savedir='.' ):\n",
    "    '''\n",
    "    Aggregate the weather data for specific station for a range years.\n",
    "    stationid is the weather station identifier\n",
    "    years is a tuple with the year range, inclusive. (firstyear, lastyear)\n",
    "    '''\n",
    "    # YOUR CODE HERE\n",
    "    raise NotImplementedError()\n"
   ]
  },
  {
   "cell_type": "code",
   "execution_count": null,
   "metadata": {
    "deletable": false,
    "editable": false,
    "nbgrader": {
     "cell_type": "code",
     "checksum": "d32eff504c1ccd76a8d1dad9193a0ec8",
     "grade": true,
     "grade_id": "cell-9911854fa6cfa6a3",
     "locked": true,
     "points": 0.5,
     "schema_version": 3,
     "solution": false,
     "task": false
    }
   },
   "outputs": [],
   "source": [
    "## This is an automatically graded test cell.\n",
    "# The public tests help you determine whether your solutions are correct.                          \n",
    "\n",
    "\n",
    "# Public tests (make sure your function passes these tests)\n",
    "# ---------------------------------------------------------\n",
    "# To test, we are using a weather station that is present in old files, which are shorter.\n",
    "sCacheFile = 'weatherdata-CA006119064-1900-1902.pqt'\n",
    "if os.path.exists(sCacheFile):\n",
    "    os.remove(sCacheFile)\n",
    "years = (1900,1902)\n",
    "dfw = ghcn_aggregate_weather_data( 'CA006119064', years )\n",
    "assert (2190,7) == dfw.shape\n",
    "del dfw\n"
   ]
  },
  {
   "cell_type": "code",
   "execution_count": null,
   "metadata": {
    "deletable": false,
    "editable": false,
    "nbgrader": {
     "cell_type": "code",
     "checksum": "f89d17c9fd14fc5274134e45917f9158",
     "grade": true,
     "grade_id": "cell-3e40346a26aa4549",
     "locked": true,
     "points": 0.5,
     "schema_version": 3,
     "solution": false,
     "task": false
    }
   },
   "outputs": [],
   "source": [
    "# These are the hidden tests that are run by the autograder."
   ]
  },
  {
   "cell_type": "markdown",
   "metadata": {
    "deletable": false,
    "editable": false,
    "nbgrader": {
     "cell_type": "markdown",
     "checksum": "2370da386dbeb80d8e30bf8ca8081ea2",
     "grade": false,
     "grade_id": "cell-3c3d2201a7352c0e",
     "locked": true,
     "schema_version": 3,
     "solution": false,
     "task": false
    }
   },
   "source": [
    "Since aggregating the weather for a single station over a 20 year period takes a long time (> 30 minutes), the next assignment will come with two cached files containing the necessary data. They were produced using the code below. You can copy this into a new cell and try it if you want to, but DO NOT leave it in your submission!!!!!!!!!!"
   ]
  },
  {
   "cell_type": "code",
   "execution_count": null,
   "metadata": {
    "deletable": false,
    "editable": false,
    "nbgrader": {
     "cell_type": "code",
     "checksum": "7b531310d3e4b0d939de03fbd07d1842",
     "grade": false,
     "grade_id": "cell-a86c51f0a99c3925",
     "locked": true,
     "schema_version": 3,
     "solution": false,
     "task": false
    }
   },
   "outputs": [],
   "source": [
    "years = (1763,2018)\n",
    "# Uncommenting the following lines would accumulate all of the weather data for these two stations.\n",
    "# That would take a few hours...\n",
    "#ghcn_aggregate_weather_data( idWeatherNorth, years )\n",
    "#ghcn_aggregate_weather_data( idWeatherSouth, years )"
   ]
  },
  {
   "cell_type": "markdown",
   "metadata": {
    "deletable": false,
    "editable": false,
    "nbgrader": {
     "cell_type": "markdown",
     "checksum": "9744b2649bf67f324f09cd13337b915f",
     "grade": false,
     "grade_id": "cell-7647c803b0079ec9",
     "locked": true,
     "schema_version": 3,
     "solution": false,
     "task": false
    }
   },
   "source": [
    "## References\n",
    "1. [Solar Radiation Measurements Workshop](https://www.nrel.gov/docs/gen/fy04/36831p.pdf), National Renewable Energy Laboratory, Aug. 2004.\n",
    "2. Stoffel, Tom, [State of the Practice for Diffuse Solar Irradiance Measurements](https://www.nrel.gov/pv/assets/pdfs/2015_pvmrw_171_stoffel.pdf), Feb. 2015."
   ]
  },
  {
   "cell_type": "code",
   "execution_count": null,
   "metadata": {},
   "outputs": [],
   "source": []
  }
 ],
 "metadata": {
  "kernelspec": {
   "display_name": "Python 3",
   "language": "python",
   "name": "python3"
  },
  "language_info": {
   "codemirror_mode": {
    "name": "ipython",
    "version": 3
   },
   "file_extension": ".py",
   "mimetype": "text/x-python",
   "name": "python",
   "nbconvert_exporter": "python",
   "pygments_lexer": "ipython3",
   "version": "3.7.4"
  }
 },
 "nbformat": 4,
 "nbformat_minor": 4
}
