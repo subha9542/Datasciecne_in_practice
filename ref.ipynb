{
 "cells": [
  {
   "cell_type": "markdown",
   "metadata": {},
   "source": [
    "# Assignment Instructions\n",
    "## Completing the Assignment  \n",
    "1. Fill in your STUDENTID (abc123) in the code block below.\n",
    "2. Make sure you fill in any place that says `#YOUR CODE HERE` or \"YOUR ANSWER HERE\"\n",
    "3. When filling in `#YOUR CODE HERE` sections, remove or comment out the line  \n",
    "> `raise NotImplementedError()`  \n",
    "\n",
    "## Assignment Submission Checklist  \n",
    "Before you submit this assignment for grading, you must do the following or you risk losing points. \n",
    "1. **Remove Extraneous prints** Long prints _might_ confuse the grader. If they do, you lose points.\n",
    "2. **Restart the kernel** (in the menubar, select Kernel$\\rightarrow$Restart)\n",
    "3. **Run all cells** (in the menubar, select Cell$\\rightarrow$Run All).  \n",
    "  - If any cell that contains code throws an exception or does not compile, fix it and restart this checklist \n",
    "  - If a grading cell throws an exception, you will not recieve any credit for that cell\n",
    "4. **Save the notebook** This ensures that any graphs or plots are in the submission   \n",
    "  - Do NOT rename your notebook. It must have the same name that was downloaded, or the grading will fail.  \n",
    "5. **Zip up the assignment notebook(s) and any files required to run the notebook**\n",
    "  - You must name the zip file \"ASnn.zip\" where nn is the zero padded assignment number. This is the same file name used to download the assignment.  \n",
    "  - All files must be in the root of the zip file, NOT in a subdirectory\n",
    "\n",
    "By submitting this notebook for grading, you affirm that all work was produced by the author identified below, and that references are included for all use of public source material (to include code, data, diagrams, pictures, and verbatim text)."
   ]
  },
  {
   "cell_type": "code",
   "execution_count": 1,
   "metadata": {},
   "outputs": [],
   "source": [
    "STUDENTID = \"igy530\""
   ]
  },
  {
   "cell_type": "markdown",
   "metadata": {},
   "source": [
    "---"
   ]
  },
  {
   "cell_type": "markdown",
   "metadata": {
    "deletable": false,
    "editable": false,
    "nbgrader": {
     "cell_type": "markdown",
     "checksum": "8a26890c9f07e4a5b8ebb9b6f457bf75",
     "grade": false,
     "grade_id": "cell-5902cb76ec45ec0e",
     "locked": true,
     "schema_version": 3,
     "solution": false,
     "task": false
    }
   },
   "source": [
    "# AS03: Text Data Basics\n",
    "**Version:**  1.0  \n",
    "**Total Points:**  5  "
   ]
  },
  {
   "cell_type": "markdown",
   "metadata": {
    "deletable": false,
    "editable": false,
    "nbgrader": {
     "cell_type": "markdown",
     "checksum": "c290cee8ad64e67d3c2214ccf9f0af2c",
     "grade": false,
     "grade_id": "cell-25c2bbc6f09c7f07",
     "locked": true,
     "schema_version": 3,
     "solution": false,
     "task": false
    }
   },
   "source": [
    "## Objective\n",
    "The objective of this assignment is to become familiar with regular expressions as an essential tools for extracting specific information from text."
   ]
  },
  {
   "cell_type": "markdown",
   "metadata": {
    "deletable": false,
    "editable": false,
    "nbgrader": {
     "cell_type": "markdown",
     "checksum": "71d2d072660f6fc98b9fc9884c1eec89",
     "grade": false,
     "grade_id": "cell-fb567c852075e2f6",
     "locked": true,
     "schema_version": 3,
     "solution": false,
     "task": false
    }
   },
   "source": [
    "## Data Sources\n",
    "The data file for this exercise was modified from a problem in the Coursera \"Applied Text Mining in Python\" course. Each line in the data file corresponds to a hand transcribed medical note. Each note has a date that needs to be extracted, but there are several different date formats.\n",
    "\n",
    "The relevant data sources for this exercise have been copied to the read-only Datasets directory (location is identified by the environment variable DATASETS_ROOT)."
   ]
  },
  {
   "cell_type": "markdown",
   "metadata": {
    "deletable": false,
    "editable": false,
    "nbgrader": {
     "cell_type": "markdown",
     "checksum": "a22eba487b0ef7296f3b8899a35a7d44",
     "grade": false,
     "grade_id": "cell-3d0baa0ee5aa7f2b",
     "locked": true,
     "schema_version": 3,
     "solution": false,
     "task": false
    }
   },
   "source": [
    "## Setup\n",
    "This section must be run to initialize everything.\n",
    "\n",
    "[Back to Instructions](#Instructions)"
   ]
  },
  {
   "cell_type": "code",
   "execution_count": 2,
   "metadata": {
    "deletable": false,
    "editable": false,
    "nbgrader": {
     "cell_type": "code",
     "checksum": "5481d82b686b6a96305204f27699333e",
     "grade": false,
     "grade_id": "cell-ae60f3af31c9ca61",
     "locked": true,
     "schema_version": 3,
     "solution": false,
     "task": false
    }
   },
   "outputs": [
    {
     "name": "stdout",
     "output_type": "stream",
     "text": [
      "Paths and data for this exercise\n",
      "--------------------------------\n",
      "Data File: \\\\adfs01\\datasets\\Misc\\dated-transcriptions.txt\n",
      "Temp files saved to:  ./_tmp\n"
     ]
    }
   ],
   "source": [
    "# Imports and globals for this exercise\n",
    "# mainline tools\n",
    "import os\n",
    "import re\n",
    "# data tools\n",
    "import pandas as pd\n",
    "import numpy as np\n",
    "# DSIP class utilities\n",
    "import DSIPClassUtilities as utl\n",
    "\n",
    "# Set paths to directories for the data\n",
    "dataroot = os.environ['DATASETS_ROOT']\n",
    "sDataFile = os.path.join(dataroot, 'Misc', 'dated-transcriptions.txt')\n",
    "\n",
    "# For this exercise, we'll need a list of months to use in our regular expressions.\n",
    "sMonthPattern = 'jan|feb|mar|apr|may|jun|jul|aug|sep|oct|nov|dec'\n",
    "\n",
    "# place to save temporary data and avoid lengthy reprocessing\n",
    "TmpSaveDir = './_tmp' \n",
    "if not os.path.exists(TmpSaveDir):\n",
    "    os.makedirs(TmpSaveDir)\n",
    "\n",
    "# Document the paths and selectors\n",
    "print('Paths and data for this exercise')\n",
    "print('--------------------------------')\n",
    "print('Data File: {}'.format(sDataFile))\n",
    "print('Temp files saved to:  {}'.format(TmpSaveDir))    "
   ]
  },
  {
   "cell_type": "markdown",
   "metadata": {
    "deletable": false,
    "editable": false,
    "nbgrader": {
     "cell_type": "markdown",
     "checksum": "5b5b3ac79adbcddcc2708d178234fed0",
     "grade": false,
     "grade_id": "cell-40738dc84937f5d0",
     "locked": true,
     "schema_version": 3,
     "solution": false,
     "task": false
    }
   },
   "source": [
    "## Read in the text file\n",
    "Define a function that reads in a text file. \n",
    "- The output must be a pandas Series named Text, with index named `Line`\n",
    "- Each entry in the series is a line in the file (in order)\n",
    "- Strip the line end (`\\n`) from each line\n",
    "- The resulting Series will have 500 entries  \n",
    "\n",
    "This is easier if you just use standard python file reading tools, then create the Series."
   ]
  },
  {
   "cell_type": "code",
   "execution_count": 3,
   "metadata": {
    "deletable": false,
    "nbgrader": {
     "cell_type": "code",
     "checksum": "43e305b880bfc83bf187c573f9a94c24",
     "grade": false,
     "grade_id": "cell-2ce83910bd5236f2",
     "locked": false,
     "schema_version": 3,
     "solution": true,
     "task": false
    }
   },
   "outputs": [],
   "source": [
    "def read_file( sFileName ):\n",
    "    # YOUR CODE HERE\n",
    "    ps = pd.read_fwf(sFileName, usecols=[0], header = None)\n",
    "    ps = pd.Series(ps[0].values, name = 'Text')\n",
    "    ps.index.name='Line'\n",
    "    return ps \n",
    "    #raise NotImplementedError()"
   ]
  },
  {
   "cell_type": "code",
   "execution_count": 4,
   "metadata": {
    "deletable": false,
    "editable": false,
    "nbgrader": {
     "cell_type": "code",
     "checksum": "a39da4fdce89d44b4735126dec29a3c6",
     "grade": true,
     "grade_id": "cell-4e8fa474547b5164",
     "locked": true,
     "points": 0.5,
     "schema_version": 3,
     "solution": false,
     "task": false
    }
   },
   "outputs": [],
   "source": [
    "## This is an automatically graded test cell.\n",
    "# It contains public tests that you can use to help determine whether your\n",
    "# functions are correct. It also contains hidden tests that are run by\n",
    "# the autograder.\n",
    "\n",
    "# Use the defined functions\n",
    "srDoc = read_file(sDataFile)\n",
    "l100 = srDoc[100]\n",
    "\n",
    "# Public tests (make sure your function passes these tests)\n",
    "# ---------------------------------------------------------\n",
    "assert 500 == len(srDoc), 'Incorrect size'\n",
    "assert l100[ len(l100)-1 ] != '\\n', 'Line ending was not stripped'\n",
    "                          "
   ]
  },
  {
   "cell_type": "markdown",
   "metadata": {
    "deletable": false,
    "editable": false,
    "nbgrader": {
     "cell_type": "markdown",
     "checksum": "e328c819b92360d4fbbc63b30cce66b6",
     "grade": false,
     "grade_id": "cell-eaf6cc0f719b7bc1",
     "locked": true,
     "schema_version": 3,
     "solution": false,
     "task": false
    }
   },
   "source": [
    "## Extract dates from strings\n",
    "The following functions are designed to match a particular type of date format. Although the tests for these functions will only be date strings, they must be able to find the date string anywhere it appears in a line.\n"
   ]
  },
  {
   "cell_type": "markdown",
   "metadata": {
    "deletable": false,
    "editable": false,
    "nbgrader": {
     "cell_type": "markdown",
     "checksum": "fdcca3815512f3a7a80ab6e56edb6598",
     "grade": false,
     "grade_id": "cell-69c22e5e19fd1fcc",
     "locked": true,
     "schema_version": 3,
     "solution": false,
     "task": false
    }
   },
   "source": [
    "The first function, `extract_numeric_date()`, must extract a date from a string where the date format is all numbers and separators\n",
    "- Example forms include: 04/20/2009; 04/20/09; 4/20/09; 4/3/09; 6/2008; 12/2009; 5-13-92; 6-13-1983\n",
    "- this function should ignore stand alone 4 digit years\n",
    "- The return must be a datetime object (use pd.to_datetime()) if a date is found, otherwise None\n",
    "- If no day is specified, set it to the first day of the month\n",
    "- For two digit years, assume the century is 1900 (e.g., 2/95 is 02/01/1995)\n",
    "- Assume all dates in xx/xx/xx format are mm/dd/yy"
   ]
  },
  {
   "cell_type": "code",
   "execution_count": 5,
   "metadata": {
    "deletable": false,
    "nbgrader": {
     "cell_type": "code",
     "checksum": "6171ee1c26bda9dcecd823c13a3bfd3d",
     "grade": false,
     "grade_id": "cell-7130ed41e9016c40",
     "locked": false,
     "schema_version": 3,
     "solution": true,
     "task": false
    }
   },
   "outputs": [],
   "source": [
    "def extract_numeric_date(s):\n",
    "    # YOUR CODE HERE\n",
    "    \n",
    "    if(re.search('(\\d{1,2})[/-](\\d{1,2})[/-](\\d{4})',s)):\n",
    "        return pd.to_datetime(re.search('(\\d{1,2})[/-](\\d{1,2})[/-](\\d{4})',s).group(0),errors= 'coerce')\n",
    "    elif(re.search('(\\d{1,2})[/-](\\d{1,2})[/-](\\d{2})',s)):\n",
    "        y = '19'+re.search('(\\d{1,2})[/-](\\d{1,2})[/-](\\d{2})',s).group(3)\n",
    "        d = re.search('(\\d{1,2})[/-](\\d{1,2})[/-](\\d{2})',s).group(1)+'/'+ re.search('(\\d{1,2})[/-](\\d{1,2})[/-](\\d{2})',s).group(2) + '/'+ y\n",
    "        return pd.to_datetime(d,errors= 'coerce')\n",
    "    elif(re.search('(\\d{1,2})[/-](\\d{4})',s)):\n",
    "        m = re.search('(\\d{1,2})[/-](\\d{4})',s).group(1)\n",
    "        y = re.search('(\\d{1,2})[/-](\\d{4})',s).group(2)\n",
    "        d = m+'/'+ '01' + '/'+ y\n",
    "        return pd.to_datetime(d,errors= 'coerce')\n",
    "    elif(re.search('(\\d{1,2})[/-](\\d{2})',s)):\n",
    "        m = re.search('(\\d{1,2})[/-](\\d{4})',s).group(1)\n",
    "        y = '19' + re.search('(\\d{1,2})[/-](\\d{4})',s).group(2)\n",
    "        d = m+'/'+ '01' + '/'+ y\n",
    "        return pd.to_datetime(d,errors= 'coerce')\n",
    "    else:\n",
    "        return None\n"
   ]
  },
  {
   "cell_type": "code",
   "execution_count": 6,
   "metadata": {
    "deletable": false,
    "editable": false,
    "nbgrader": {
     "cell_type": "code",
     "checksum": "9c89d29f9776f54c4a579a166012142e",
     "grade": true,
     "grade_id": "cell-ebfedf8f08502a53",
     "locked": true,
     "points": 1,
     "schema_version": 3,
     "solution": false,
     "task": false
    }
   },
   "outputs": [],
   "source": [
    "## This is an automatically graded test cell.\n",
    "# It contains public tests that you can use to help determine whether your\n",
    "# functions are correct. It also contains hidden tests that are run by\n",
    "# the autograder.\n",
    "\n",
    "# Use the defined functions\n",
    "dfDates = pd.DataFrame( \n",
    "   [\n",
    "    (  '04/20/2009',        '2009-04-20 00:00:00'),\n",
    "    (  '4-13-82',           '1982-04-13 00:00:00'),\n",
    "    (  '4/3/09',            '1909-04-03 00:00:00'),\n",
    "    (  '6/2008',            '2008-06-01 00:00:00'),\n",
    "   ],\n",
    "    columns=['text', 'truth'])\n",
    "dfDates['truth'] = pd.to_datetime(dfDates['truth'],infer_datetime_format=True)\n",
    "\n",
    "# Public tests\n",
    "# ---------------------------------------------------------\n",
    "for idx, row in dfDates.iterrows():\n",
    "    assert row['truth'] == extract_numeric_date(row['text']), 'Incorrect for text: {}'.format(row['text'])\n"
   ]
  },
  {
   "cell_type": "markdown",
   "metadata": {
    "deletable": false,
    "editable": false,
    "nbgrader": {
     "cell_type": "markdown",
     "checksum": "5fb215c09e9d5e682366c032285206aa",
     "grade": false,
     "grade_id": "cell-1a186c5c66d9e4c9",
     "locked": true,
     "schema_version": 3,
     "solution": false,
     "task": false
    }
   },
   "source": [
    "The second function, `extract_alpha_date()` must extract a date from a string where the month is spelled out in some form \n",
    "- Examples include: \n",
    "  - Mar-20-2009; Mar 20, 2009; March 20, 2009; Mar. 20, 2009; Mar 20 2009;\n",
    "  - 20 Mar 2009; 20 March 2009; 20 Mar. 2009; 20 March, 2009\n",
    "  - Mar 20th, 2009; Mar 21st, 2009; mar 22nd, 2009\n",
    "  - Feb 2009; SEP 2009; Oct 2010\n",
    "- In the Setup cell, there is a variable named `sMonthPattern` that you can use to help construct re patterns to match against month names.   \n",
    "- For months that are spelled out, there may be typo's. You should only rely on the first 3 letters begin correct.\n",
    "- Comparison should be case insensitive\n"
   ]
  },
  {
   "cell_type": "code",
   "execution_count": 18,
   "metadata": {
    "deletable": false,
    "nbgrader": {
     "cell_type": "code",
     "checksum": "b935d9eeed0424aadf77abc1ff7040d5",
     "grade": false,
     "grade_id": "cell-d2d2a0d86d476a4b",
     "locked": false,
     "schema_version": 3,
     "solution": true,
     "task": false
    }
   },
   "outputs": [
    {
     "name": "stdout",
     "output_type": "stream",
     "text": [
      "yo yo jan-20-2009\n",
      "jan\n",
      "ok\n",
      "yo yo jan-20-2009\n",
      "NaT\n"
     ]
    },
    {
     "ename": "AssertionError",
     "evalue": "Incorrect for text: yo yo Jan-20-2009",
     "output_type": "error",
     "traceback": [
      "\u001b[1;31m---------------------------------------------------------------------------\u001b[0m",
      "\u001b[1;31mAssertionError\u001b[0m                            Traceback (most recent call last)",
      "\u001b[1;32m<ipython-input-18-86d35201ad71>\u001b[0m in \u001b[0;36m<module>\u001b[1;34m\u001b[0m\n\u001b[0;32m     40\u001b[0m \u001b[1;31m# ---------------------------------------------------------\u001b[0m\u001b[1;33m\u001b[0m\u001b[1;33m\u001b[0m\u001b[1;33m\u001b[0m\u001b[0m\n\u001b[0;32m     41\u001b[0m \u001b[1;32mfor\u001b[0m \u001b[0midx\u001b[0m\u001b[1;33m,\u001b[0m \u001b[0mrow\u001b[0m \u001b[1;32min\u001b[0m \u001b[0mdfDates\u001b[0m\u001b[1;33m.\u001b[0m\u001b[0miterrows\u001b[0m\u001b[1;33m(\u001b[0m\u001b[1;33m)\u001b[0m\u001b[1;33m:\u001b[0m\u001b[1;33m\u001b[0m\u001b[1;33m\u001b[0m\u001b[0m\n\u001b[1;32m---> 42\u001b[1;33m     \u001b[1;32massert\u001b[0m \u001b[0mrow\u001b[0m\u001b[1;33m[\u001b[0m\u001b[1;34m'truth'\u001b[0m\u001b[1;33m]\u001b[0m \u001b[1;33m==\u001b[0m \u001b[0mextract_alpha_date\u001b[0m\u001b[1;33m(\u001b[0m\u001b[0mrow\u001b[0m\u001b[1;33m[\u001b[0m\u001b[1;34m'text'\u001b[0m\u001b[1;33m]\u001b[0m\u001b[1;33m)\u001b[0m\u001b[1;33m,\u001b[0m \u001b[1;34m'Incorrect for text: {}'\u001b[0m\u001b[1;33m.\u001b[0m\u001b[0mformat\u001b[0m\u001b[1;33m(\u001b[0m\u001b[0mrow\u001b[0m\u001b[1;33m[\u001b[0m\u001b[1;34m'text'\u001b[0m\u001b[1;33m]\u001b[0m\u001b[1;33m)\u001b[0m\u001b[1;33m\u001b[0m\u001b[1;33m\u001b[0m\u001b[0m\n\u001b[0m",
      "\u001b[1;31mAssertionError\u001b[0m: Incorrect for text: yo yo Jan-20-2009"
     ]
    }
   ],
   "source": [
    "def extract_alpha_date(s):\n",
    "    # YOUR CODE HERE\n",
    "    s = s.lower()\n",
    "    matchstring = sMonthPattern.split('|')\n",
    "    findstring = re.findall('[a-zA-Z]', s)\n",
    "    findstring = \"\".join(findstring).lower()\n",
    "            print(s)\n",
    "            return pd.to_datetime(s, errors = 'coerce')\n",
    "            break\n",
    "        else:\n",
    "            if(i == matchstring[-1]):\n",
    "                return None\n",
    "            else:\n",
    "                continue\n",
    "    #raise NotImplementedError()\n",
    "dfDates = pd.DataFrame( \n",
    "   [\n",
    "    (  'yo yo Jan-20-2009',       '2009-01-20 00:00:00'),\n",
    "    (  'March 20, 2009',    '2009-03-20 00:00:00'),\n",
    "    (  'Apr. 20, 2009',     '2009-04-20 00:00:00'),\n",
    "    (  'Jul 21st, 2009',    '2009-07-21 00:00:00'),\n",
    "    (  'Aug 22nd, 2009',    '2009-08-22 00:00:00'),\n",
    "    (  'Oct 2009',          '2009-10-01 00:00:00'),\n",
    "    (  'Novenber 2010',     '2010-11-01 00:00:00'),\n",
    "    (  '20 Jan 2009',       '2009-01-20 00:00:00'),\n",
    "    (  '20 April, 2009',    '2009-04-20 00:00:00'),\n",
    "    (  '2Jun 1999',         '1999-06-02 00:00:00')\n",
    "   ], columns=['text', 'truth'])\n",
    "dfDates['truth'] = pd.to_datetime(dfDates['truth'],infer_datetime_format=True)\n",
    "\n",
    "\n",
    "# Public tests\n",
    "# ---------------------------------------------------------\n",
    "for idx, row in dfDates.iterrows():\n",
    "    assert row['truth'] == extract_alpha_date(row['text']), 'Incorrect for text: {}'.format(row['text'])"
   ]
  },
  {
   "cell_type": "code",
   "execution_count": 8,
   "metadata": {
    "deletable": false,
    "editable": false,
    "nbgrader": {
     "cell_type": "code",
     "checksum": "6c257c9b11d41993702ef135fc2942ec",
     "grade": true,
     "grade_id": "cell-5bee2bec79002fe5",
     "locked": true,
     "points": 1,
     "schema_version": 3,
     "solution": false,
     "task": false
    },
    "scrolled": true
   },
   "outputs": [],
   "source": [
    "## This is an automatically graded test cell.\n",
    "# It contains public tests that you can use to help determine whether your\n",
    "# functions are correct. It also contains hidden tests that are run by\n",
    "# the autograder.\n",
    "\n",
    "# Use the defined functions\n",
    "dfDates = pd.DataFrame( \n",
    "   [\n",
    "    (  'Jan-20-2009',       '2009-01-20 00:00:00'),\n",
    "    (  'March 20, 2009',    '2009-03-20 00:00:00'),\n",
    "    (  'Apr. 20, 2009',     '2009-04-20 00:00:00'),\n",
    "    (  'Jul 21st, 2009',    '2009-07-21 00:00:00'),\n",
    "    (  'Aug 22nd, 2009',    '2009-08-22 00:00:00'),\n",
    "    (  'Oct 2009',          '2009-10-01 00:00:00'),\n",
    "    (  'Novenber 2010',     '2010-11-01 00:00:00'),\n",
    "    (  '20 Jan 2009',       '2009-01-20 00:00:00'),\n",
    "    (  '20 April, 2009',    '2009-04-20 00:00:00'),\n",
    "    (  '2Jun 1999',         '1999-06-02 00:00:00')\n",
    "   ], columns=['text', 'truth'])\n",
    "dfDates['truth'] = pd.to_datetime(dfDates['truth'],infer_datetime_format=True)\n",
    "\n",
    "\n",
    "# Public tests\n",
    "# ---------------------------------------------------------\n",
    "for idx, row in dfDates.iterrows():\n",
    "    assert row['truth'] == extract_alpha_date(row['text']), 'Incorrect for text: {}'.format(row['text'])\n",
    "    "
   ]
  },
  {
   "cell_type": "markdown",
   "metadata": {
    "deletable": false,
    "editable": false,
    "nbgrader": {
     "cell_type": "markdown",
     "checksum": "eeed2379225e82cc857807a2f091abf0",
     "grade": false,
     "grade_id": "cell-edab9d487bcf4f0b",
     "locked": true,
     "schema_version": 3,
     "solution": false,
     "task": false
    }
   },
   "source": [
    "The third function, `extract_fourdigit_date()` just looks for a four digit year, but only for years in the 1900's or 2000's\n",
    "- Examples include: 1950; 2010\n",
    "- When no month is given, assume January 1 of that year.\n"
   ]
  },
  {
   "cell_type": "code",
   "execution_count": 9,
   "metadata": {
    "deletable": false,
    "nbgrader": {
     "cell_type": "code",
     "checksum": "f797e1c238282901f922ba03e1592eec",
     "grade": false,
     "grade_id": "cell-73e38a51379ecae3",
     "locked": false,
     "schema_version": 3,
     "solution": true,
     "task": false
    }
   },
   "outputs": [],
   "source": [
    "def extract_fourdigit_date(s):\n",
    "    # YOUR CODE HERE\n",
    "    if(re.search('(\\d{4})',s)):\n",
    "        if(len(s) == 4):\n",
    "            if((re.search('(\\d{4})',s).group().startswith('19')) or (re.search('(\\d{4})',s).group().startswith('20'))):\n",
    "                y = re.search('(\\d{4})',s).group()\n",
    "                d = '01'+'/'+ '01' + '/'+ y\n",
    "                return pd.to_datetime(d,errors= 'coerce')\n",
    "            else:\n",
    "                return None\n",
    "        else:\n",
    "            return None\n",
    "    else:\n",
    "        return None\n",
    "    #raise NotImplementedError()"
   ]
  },
  {
   "cell_type": "code",
   "execution_count": 10,
   "metadata": {
    "deletable": false,
    "editable": false,
    "nbgrader": {
     "cell_type": "code",
     "checksum": "4b6e39cfa046b71fcb50ea74c5f81819",
     "grade": true,
     "grade_id": "cell-65b652e4abeb4fb8",
     "locked": true,
     "points": 0.5,
     "schema_version": 3,
     "solution": false,
     "task": false
    }
   },
   "outputs": [],
   "source": [
    "## This is an automatically graded test cell.\n",
    "# It contains public tests that you can use to help determine whether your\n",
    "# functions are correct. It also contains hidden tests that are run by\n",
    "# the autograder.\n",
    "\n",
    "# Public tests\n",
    "# ---------------------------------------------------------\n",
    "assert extract_fourdigit_date('2009') == pd.to_datetime('2009-01-01 00:00:00')\n",
    "assert extract_fourdigit_date('1927') == pd.to_datetime('1927-01-01 00:00:00')\n"
   ]
  },
  {
   "cell_type": "markdown",
   "metadata": {
    "deletable": false,
    "editable": false,
    "nbgrader": {
     "cell_type": "markdown",
     "checksum": "a49e4aba20755ba401efdc0f05ba2e67",
     "grade": false,
     "grade_id": "cell-15adbc588740bbfa",
     "locked": true,
     "schema_version": 3,
     "solution": false,
     "task": false
    }
   },
   "source": [
    "## Putting them together\n",
    "Use the three functions above to build a function `extract_date` that parses out a date in any of the three styles handled by these functions. The order that you use them matters! This function will be tested against the data file.\n",
    "- Remember to return None if no date is found."
   ]
  },
  {
   "cell_type": "code",
   "execution_count": 11,
   "metadata": {
    "deletable": false,
    "nbgrader": {
     "cell_type": "code",
     "checksum": "3c86513e309b68da899209bfc20c46b4",
     "grade": false,
     "grade_id": "cell-051417bc2c2a6de2",
     "locked": false,
     "schema_version": 3,
     "solution": true,
     "task": false
    }
   },
   "outputs": [],
   "source": [
    "def extract_date(s):\n",
    "    # YOUR CODE HERE\n",
    "    s= s.lower()\n",
    "    if (re.search('(\\d{0,})[/-](\\d{1,})[/-](\\d)', s)):\n",
    "        return extract_numeric_date(s)\n",
    "    elif (re.search('[a-z]', s)):\n",
    "        return extract_alpha_date(s)\n",
    "    elif (re.search('(\\d{4})', s)):\n",
    "        return extract_fourdigit_date(s)\n",
    "    else:\n",
    "        return None\n",
    "    #raise NotImplementedError()"
   ]
  },
  {
   "cell_type": "code",
   "execution_count": 12,
   "metadata": {
    "deletable": false,
    "editable": false,
    "nbgrader": {
     "cell_type": "code",
     "checksum": "5c2582da39cbaba38ffcb165640d7bbe",
     "grade": false,
     "grade_id": "cell-33e2f187d716e926",
     "locked": true,
     "schema_version": 3,
     "solution": false,
     "task": false
    }
   },
   "outputs": [],
   "source": [
    "# Loop through the document lines\n",
    "def date_finder(srDoc):\n",
    "    # Start with a blank Series\n",
    "    srOut = pd.Series()\n",
    "    srOut.name = 'date'\n",
    "    # Run through the lines\n",
    "    for idx, s in srDoc.iteritems():\n",
    "        srOut.loc[idx] = extract_date(s)\n",
    "    return srOut\n"
   ]
  },
  {
   "cell_type": "code",
   "execution_count": 13,
   "metadata": {
    "deletable": false,
    "editable": false,
    "nbgrader": {
     "cell_type": "code",
     "checksum": "613cce5533d1c8139daec37012d856a1",
     "grade": true,
     "grade_id": "cell-db1256525304d03c",
     "locked": true,
     "points": 1,
     "schema_version": 3,
     "solution": false,
     "task": false
    }
   },
   "outputs": [],
   "source": [
    "## This is an automatically graded test cell.\n",
    "# It contains public tests that you can use to help determine whether your\n",
    "# functions are correct. It also contains hidden tests that are run by\n",
    "# the autograder.\n",
    "\n",
    "# Public tests\n",
    "# ---------------------------------------------------------\n",
    "# This first set of tests is against strings that you have already been using\n",
    "srDates = pd.Series(['04/20/2009', '4-13-82', '14 January 2011', \n",
    "                     '2010','Oct 2009','Novenber 2010'])\n",
    "srTruth = pd.Series(['2009-04-20 00:00:00', '1982-04-13 00:00:00', '2011-01-14 00:00:00',\n",
    "                     '2010-01-01 00:00:00', '2009-10-01 00:00:00','2010-11-01 00:00:00'])\n",
    "srTruth = pd.to_datetime(srTruth)\n",
    "\n",
    "ans = date_finder(srDates)\n",
    "idx = ans == srTruth\n",
    "assert len(idx) == sum(idx), 'Only got {} correct.'.format(sum(idx))\n",
    "assert date_finder(pd.Series(['Not a date']))[0] is None\n",
    "\n",
    "\n"
   ]
  },
  {
   "cell_type": "code",
   "execution_count": 14,
   "metadata": {
    "deletable": false,
    "editable": false,
    "nbgrader": {
     "cell_type": "code",
     "checksum": "3da6771fd5015c835a3ca969a0bb1712",
     "grade": true,
     "grade_id": "cell-fab3dbcac80e0c9a",
     "locked": true,
     "points": 0.5,
     "schema_version": 3,
     "solution": false,
     "task": false
    }
   },
   "outputs": [],
   "source": [
    "## This is an automatically graded test cell.\n",
    "# It contains public tests that you can use to help determine whether your\n",
    "# functions are correct. It also contains hidden tests that are run by\n",
    "# the autograder.\n",
    "\n",
    "# Now we start testing against the data file.\n",
    "# The next three test blocks add up to 2 points.\n",
    "# 1 point (total) if you get them all right\n",
    "# 0.5 points if you get >480 right\n",
    "\n",
    "# Use the defined functions\n",
    "srDates = date_finder(srDoc)\n",
    "\n",
    "# Public tests (make sure your function passes these tests)\n",
    "# ---------------------------------------------------------\n",
    "# No public tests\n",
    "\n"
   ]
  },
  {
   "cell_type": "code",
   "execution_count": 15,
   "metadata": {
    "deletable": false,
    "editable": false,
    "nbgrader": {
     "cell_type": "code",
     "checksum": "981b4e0d238da269195bb813c399e5a2",
     "grade": true,
     "grade_id": "cell-5e5c348da0434082",
     "locked": true,
     "points": 0.5,
     "schema_version": 3,
     "solution": false,
     "task": false
    }
   },
   "outputs": [],
   "source": [
    "## This is an automatically graded test cell.\n",
    "# No public tests\n",
    "\n"
   ]
  },
  {
   "cell_type": "code",
   "execution_count": 19,
   "metadata": {},
   "outputs": [
    {
     "name": "stdout",
     "output_type": "stream",
     "text": [
      "124\n"
     ]
    }
   ],
   "source": [
    "print(srDates.count())"
   ]
  },
  {
   "cell_type": "code",
   "execution_count": null,
   "metadata": {},
   "outputs": [],
   "source": []
  }
 ],
 "metadata": {
  "kernelspec": {
   "display_name": "Python 3",
   "language": "python",
   "name": "python3"
  },
  "language_info": {
   "codemirror_mode": {
    "name": "ipython",
    "version": 3
   },
   "file_extension": ".py",
   "mimetype": "text/x-python",
   "name": "python",
   "nbconvert_exporter": "python",
   "pygments_lexer": "ipython3",
   "version": "3.7.3"
  }
 },
 "nbformat": 4,
 "nbformat_minor": 2
}
