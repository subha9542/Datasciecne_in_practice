{
 "cells": [
  {
   "cell_type": "markdown",
   "metadata": {},
   "source": [
    "# Assignment Instructions\n",
    "## Completing the Assignment  \n",
    "1. Fill in your STUDENTID (abc123) in the code block below.\n",
    "2. Fill in any place that says `#YOUR CODE HERE` with python code that implements the indicated function.\n",
    "3. When filling in `#YOUR CODE HERE` sections, remove or comment out the line  `raise NotImplementedError()`, or else you will lose all credit for that function.\n",
    "4. Fill in any place that says `YOUR ANSWER HERE` with appropriate markdown text. This usually indicates a manually graded cell.\n",
    "\n",
    "## Assignment Submission Checklist  \n",
    "Before you submit this assignment for grading, you must do the following or you risk losing points. \n",
    "1. **Remove extraneous prints** Long prints _might_ confuse the grader. If they do, you lose points.\n",
    "2. **Restart the kernel** (in the menubar, select Kernel$\\rightarrow$Restart)\n",
    "3. **Run all cells** (in the menubar, select Cell$\\rightarrow$Run All).  \n",
    "  - If any cell that contains code throws an exception or does not compile, fix it and restart this checklist \n",
    "  - If a grading cell throws an exception, you will not recieve any credit for that cell\n",
    "4. **Save the notebook** This ensures that any graphs or plots are in the submission   \n",
    "  - Do NOT rename your notebook. It must have the same name that was downloaded, or the grading will fail.  \n",
    "5. **Zip up the assignment notebook(s) and any files required to run the notebook**\n",
    "  - You must put your files into a `.zip` file with the same name that was used to download the assignment. For example `ASnn.zip` or `PRnn.zip` where nn is a two digit, zero padded number.\n",
    "  - All files must be in the root of the zip file, NOT in a subdirectory\n",
    "\n",
    "By submitting this notebook for grading, you affirm that all work was produced by the author identified below, and that references are included for all use of public source material (to include code, data, diagrams, pictures, and verbatim text)."
   ]
  },
  {
   "cell_type": "code",
   "execution_count": 1,
   "metadata": {},
   "outputs": [],
   "source": [
    "STUDENTID = \"tfs436\""
   ]
  },
  {
   "cell_type": "markdown",
   "metadata": {},
   "source": [
    "---"
   ]
  },
  {
   "cell_type": "markdown",
   "metadata": {
    "deletable": false,
    "editable": false,
    "nbgrader": {
     "cell_type": "markdown",
     "checksum": "12c9ca99e0c6d8cd8debcbebd198a92b",
     "grade": false,
     "grade_id": "cell-8a56e78fd5c59dbd",
     "locked": true,
     "schema_version": 3,
     "solution": false,
     "task": false
    }
   },
   "source": [
    "# AS11: Exploring Networks\n",
    "**Version:**  1.2  \n",
    "**Total Points:** 5"
   ]
  },
  {
   "cell_type": "markdown",
   "metadata": {
    "deletable": false,
    "editable": false,
    "nbgrader": {
     "cell_type": "markdown",
     "checksum": "470b820ade4aadc54a5ff49ec6c7605a",
     "grade": false,
     "grade_id": "cell-2ccdbfe1e3510c59",
     "locked": true,
     "schema_version": 3,
     "solution": false,
     "task": false
    }
   },
   "source": [
    "## Objective\n",
    "The objective of this assignment is to become familiar with creating and working with networks (graphs) using NetworkX."
   ]
  },
  {
   "cell_type": "markdown",
   "metadata": {
    "deletable": false,
    "editable": false,
    "nbgrader": {
     "cell_type": "markdown",
     "checksum": "0ad65625f45d147292799f47138d27d5",
     "grade": false,
     "grade_id": "cell-43c80c59de521007",
     "locked": true,
     "schema_version": 3,
     "solution": false,
     "task": false
    }
   },
   "source": [
    "## Instructions\n",
    "\n",
    "**Word Graphs**  \n",
    "\n",
    "[Build a Graph from Text](#Build-a-Graph-from-Text) (1.0)  \n",
    "[Compare Graph Information](#Compare-Graph-Information) (0.5)  \n",
    "[Compare Centrality Measures](#Compare-Centrality-Measures) (0.5)  \n",
    "[Normalize Edges](#Normalize-Edges) (0.5)  \n",
    "[Generate Sentences](#Generate-Sentences) (1.0)  \n",
    "[Visualize a Word Graph](#Visualize-a-Word-Graph) (reference only)  \n",
    "\n",
    "**Graph Structures**  \n",
    "[Scale-free Networks](#Scale-free-Networks)  \n",
    "[Small-world Networks](#Small-world-Networks)  \n",
    "[Compare Network Structures](#Compare-Network-Structures) (0.5)  \n",
    "[Plot Network Degree Distribution](#Plot-Network-Degree-Distribution) (0.5)  \n",
    "[Structure for Word Networks](#Structure-for-Word-Networks) (0.5)  \n",
    "\n",
    "**Geographic Networks**  \n",
    "[The osmnx Library](#The-osmnx-Library) (reference only)  \n",
    "\n",
    "\n"
   ]
  },
  {
   "cell_type": "markdown",
   "metadata": {
    "deletable": false,
    "editable": false,
    "nbgrader": {
     "cell_type": "markdown",
     "checksum": "389245d17d3544a90e6fd81757895e5d",
     "grade": false,
     "grade_id": "cell-e04440a009eb0cf3",
     "locked": true,
     "schema_version": 3,
     "solution": false,
     "task": false
    }
   },
   "source": [
    "## Setup"
   ]
  },
  {
   "cell_type": "code",
   "execution_count": 2,
   "metadata": {
    "deletable": false,
    "editable": false,
    "nbgrader": {
     "cell_type": "code",
     "checksum": "f072783d624b7d446723a2f45c175a1a",
     "grade": false,
     "grade_id": "cell-0ec06eb12874db08",
     "locked": true,
     "schema_version": 3,
     "solution": false,
     "task": false
    }
   },
   "outputs": [],
   "source": [
    "%matplotlib inline\n",
    "# Imports and globals for this exercise\n",
    "# mainline tools\n",
    "import os\n",
    "import re\n",
    "import string\n",
    "import math\n",
    "import itertools\n",
    "# data tools\n",
    "import pandas as pd\n",
    "import numpy as np\n",
    "\n",
    "# visualization tools\n",
    "import matplotlib.pyplot as plt\n",
    "import matplotlib.dates as mdates\n",
    "import matplotlib as mpl\n",
    "from mpl_toolkits.mplot3d import Axes3D\n",
    "import mplleaflet\n",
    "# text tools\n",
    "import nltk\n",
    "# Network tools\n",
    "import networkx as nx\n",
    "import graphviz as pgv\n",
    "import pydot\n",
    "import osmnx as ox\n",
    "\n",
    "# Use seaborn theme, scaling, and color palette.\n",
    "import seaborn as sns\n",
    "sns.set()\n",
    "# Styling seems more consistent if set using MPL instead of sns\n",
    "plt.style.use('seaborn-whitegrid')\n",
    "\n",
    "# Set paths to directories for the data\n",
    "dataroot = os.environ['DATASETS_ROOT']\n"
   ]
  },
  {
   "cell_type": "markdown",
   "metadata": {
    "deletable": false,
    "editable": false,
    "nbgrader": {
     "cell_type": "markdown",
     "checksum": "8afd10aa841d2a1e12b3d43c639a7349",
     "grade": false,
     "grade_id": "cell-ea16156b1dfb0a2c",
     "locked": true,
     "schema_version": 3,
     "solution": false,
     "task": false
    }
   },
   "source": [
    "## Utilities"
   ]
  },
  {
   "cell_type": "code",
   "execution_count": 3,
   "metadata": {
    "deletable": false,
    "editable": false,
    "nbgrader": {
     "cell_type": "code",
     "checksum": "360fcddf938b1e54b4704c86bd4ccb20",
     "grade": false,
     "grade_id": "cell-519d8ec14e0f499e",
     "locked": true,
     "schema_version": 3,
     "solution": false,
     "task": false
    }
   },
   "outputs": [],
   "source": [
    "def read_text(sPath):\n",
    "    with open(sPath, 'r', encoding='utf8') as f:\n",
    "        sText = f.read()        \n",
    "    return( sText )    "
   ]
  },
  {
   "cell_type": "markdown",
   "metadata": {
    "deletable": false,
    "editable": false,
    "nbgrader": {
     "cell_type": "markdown",
     "checksum": "12e17493715aad7a2a589db5104f2935",
     "grade": false,
     "grade_id": "cell-a564c9623bdd75b8",
     "locked": true,
     "schema_version": 3,
     "solution": false,
     "task": false
    }
   },
   "source": [
    "## Word Graphs"
   ]
  },
  {
   "cell_type": "markdown",
   "metadata": {
    "deletable": false,
    "editable": false,
    "nbgrader": {
     "cell_type": "markdown",
     "checksum": "63ab40a302d5dfa225af15059d80c82b",
     "grade": false,
     "grade_id": "cell-1d12b58c719e358a",
     "locked": true,
     "schema_version": 3,
     "solution": false,
     "task": false
    }
   },
   "source": [
    "### Utility functions for the word networks"
   ]
  },
  {
   "cell_type": "code",
   "execution_count": 4,
   "metadata": {
    "deletable": false,
    "editable": false,
    "nbgrader": {
     "cell_type": "code",
     "checksum": "488227603f52540bb84a3f18f4b6f4dc",
     "grade": false,
     "grade_id": "cell-15f895fbed160aff",
     "locked": true,
     "schema_version": 3,
     "solution": false,
     "task": false
    }
   },
   "outputs": [],
   "source": [
    "# Check whether two graphs are equal. For this exercise, \n",
    "# just need to check that the probability for each edge is the same.\n",
    "# Depending on the method used to construct the graph, the specific order\n",
    "# the edges may not be the same, so we can't check the cumulative probability.\n",
    "def word_graph_is_isomorphic(G1, G2):\n",
    "    def node_comparison(N1, N2):\n",
    "        return N1['count'] == N2['count']\n",
    "    def edge_comparison(E1,E2):\n",
    "        return E1['prob'] == E2['prob']\n",
    "    return(nx.is_isomorphic(G1, G2, node_match=node_comparison, edge_match=edge_comparison))\n",
    "\n",
    "def list_start_words(G):\n",
    "    return sorted([t for t, data in G.nodes(data=True) if data['bStart'] ])\n",
    "\n",
    "def list_end_tokens(G):\n",
    "    return sorted([t for t, data in G.nodes(data=True) if data['bEnd'] ])"
   ]
  },
  {
   "cell_type": "markdown",
   "metadata": {
    "deletable": false,
    "editable": false,
    "nbgrader": {
     "cell_type": "markdown",
     "checksum": "31d2c17900f54080e246457596d0058a",
     "grade": false,
     "grade_id": "cell-11de86c1d8d1a401",
     "locked": true,
     "schema_version": 3,
     "solution": false,
     "task": false
    }
   },
   "source": [
    "### Build a Graph from Text\n",
    "**Points: 1.0**\n",
    "\n",
    "If you consider that a sentence is a directed progression from one word to the next, then we can build a directed network from a text. This next function accepts text as an input. The text we will be using has been preprocessed to avoid some complications. All sentences end in either a period (.), question mark (?), or exclamation point (!). \n",
    "\n",
    "To create the graph:\n",
    "- Use the standard NLTK sentence tokenizer to break the input text into sentences\n",
    "- Use the standard NLTK word tokenizer to break each sentence into a sequence of tokens\n",
    "- Create (or update) a node for each token to include the attributes listed below. Use the token as the node name.\n",
    "- Create (or update) an edge to connect a token to the one that follows it to include the edge attributes listed below.\n",
    "- **Do not** connect the last token in a sentence to the first token in the next sentence.\n",
    "\n",
    "**Graph Attributes**\n",
    "\n",
    "| Attribute | Data Type | Description |\n",
    "| :--- | :--- | :--- |\n",
    "| name | String | Name associated with the graph |\n",
    "\n",
    "**Node Attributes**  \n",
    "\n",
    "| Attribute | Data Type | Description |\n",
    "| :--- | :--- | :--- |\n",
    "| bStart | Boolean | True if this token occurred as the first one in a sentence, otherwise False |\n",
    "| bEnd | Boolean | True if this token occurred as the last one in a sentence, otherwise False |\n",
    "| count | integer | number of times the token was seen in the training corpus |\n",
    "\n",
    "**Edge Attributes**\n",
    "\n",
    "| Attribute | Data Type | Description |\n",
    "| :--- | :--- | :--- |\n",
    "| count | integer | number of times the word sequence was seen in the training corpus |\n",
    "\n",
    "\n",
    "\n",
    "[Instructions](#Instructions) "
   ]
  },
  {
   "cell_type": "code",
   "execution_count": 5,
   "metadata": {
    "deletable": false,
    "nbgrader": {
     "cell_type": "code",
     "checksum": "5ab0c5226593c5cd9da0b54486c8c32f",
     "grade": false,
     "grade_id": "cell-6439a5c23d02c136",
     "locked": false,
     "schema_version": 3,
     "solution": true,
     "task": false
    }
   },
   "outputs": [],
   "source": [
    "from collections import Counter\n",
    "def bigrams(sentence):\n",
    "    words = nltk.word_tokenize(sentence)\n",
    "    return zip(words, words[1:])\n",
    "def build_graph_from_text(sText, sGraphName):\n",
    "    '''\n",
    "    sText - input is a single string representing a text corpus.\n",
    "    output is a NetworkX graph.\n",
    "    '''\n",
    "    G = nx.DiGraph(name = sGraphName)\n",
    "    texts = nltk.sent_tokenize(sText)\n",
    "    counts = Counter()\n",
    "    for text in texts:\n",
    "        counts.update(bigrams(text))\n",
    "    d = dict() \n",
    "    for line in texts: \n",
    "        line = line.strip() \n",
    "        #line = line.lower() \n",
    "        words = nltk.word_tokenize(line) \n",
    "        for word in words: \n",
    "            if word in d: \n",
    "                d[word] = d[word] + 1\n",
    "            else: \n",
    "                d[word] = 1\n",
    "    for text in texts:\n",
    "        #print(text)\n",
    "        words = nltk.word_tokenize(text)\n",
    "        Start = False\n",
    "        End = False\n",
    "        c = 0\n",
    "        for word in words:\n",
    "                Start = False\n",
    "                End = False\n",
    "                if word == words[0]:\n",
    "                    Start = True\n",
    "                if word == words[-1]:\n",
    "                    End = True\n",
    "                if G.has_node(word) == True:\n",
    "                    if G.node[word]['bStart'] == True:\n",
    "                        Start = True\n",
    "                    if G.node[word]['bEnd'] == True:\n",
    "                        Stop = True\n",
    "                c = sText.count(word)\n",
    "                G.add_node(word,count = d[word],bStart = Start,bEnd = End)\n",
    "        for i in np.arange(len(words)-1):\n",
    "            if G.has_edge(words[i],words[i+1]) == False:\n",
    "                G.add_edge(words[i],words[i+1],count = counts[(words[i],words[i+1])])\n",
    "    return G\n"
   ]
  },
  {
   "cell_type": "code",
   "execution_count": 6,
   "metadata": {
    "deletable": false,
    "editable": false,
    "nbgrader": {
     "cell_type": "code",
     "checksum": "275e22da7e2b62565bc9734864fe460b",
     "grade": true,
     "grade_id": "cell-16c63ed3d651ab8d",
     "locked": true,
     "points": 0.4,
     "schema_version": 3,
     "solution": false,
     "task": false
    }
   },
   "outputs": [],
   "source": [
    "## This is an automatically graded test cell.\n",
    "# The public tests help you determine whether your solutions are correct.                          \n",
    "\n",
    "sTest = '''\n",
    "See Spot run. See Spot jump! See Jane run. See Jane jump! \n",
    "Spot and Jane are walking down the street. \n",
    "See Spot chase the car. Can Jane catch Spot? Can Spot catch the car? \n",
    "'''\n",
    "\n",
    "Gt = build_graph_from_text(sTest,'Test')\n",
    "sSaveFile = './AS11-TestTextGraph.pkl'\n",
    "#nx.write_gpickle(Gt, sSaveFile)\n",
    "\n",
    "\n",
    "# Public tests (make sure your function passes these tests)\n",
    "# ---------------------------------------------------------\n",
    "\n",
    "# Check a few nodes and edges to make the intent clear\n",
    "assert Gt.graph['name'] == 'Test'\n",
    "\n",
    "assert 18 == len(Gt.nodes())\n",
    "assert Gt.has_node('catch')\n",
    "assert 2 == Gt.node['catch']['count']\n",
    "assert False == Gt.node['catch']['bStart']\n",
    "assert False == Gt.node['catch']['bEnd']\n",
    "\n",
    "assert 28 == len(Gt.edges())\n",
    "assert Gt.has_edge('See', 'Spot')\n",
    "assert 3 == Gt['See']['Spot']['count'] \n",
    "assert Gt.has_edge('jump', '!')\n",
    "assert 2 == Gt['jump']['!']['count'] \n",
    "\n",
    "# These should be the only end tokens\n",
    "assert sorted([t for t, dat in Gt.nodes(data=True) if dat['bEnd'] ]) == sorted(['.', '!', '?'])\n",
    "\n",
    "# Check the whole graph\n",
    "Gtcomp = nx.read_gpickle(sSaveFile)\n",
    "assert sorted(Gt.nodes(data=True)) == sorted(Gtcomp.nodes(data=True))\n",
    "assert sorted(Gt.edges(data=True)) == sorted(Gtcomp.edges(data=True))\n",
    "del Gtcomp\n",
    "\n"
   ]
  },
  {
   "cell_type": "code",
   "execution_count": 7,
   "metadata": {},
   "outputs": [
    {
     "data": {
      "text/plain": [
       "['Can', 'See', 'Spot']"
      ]
     },
     "execution_count": 7,
     "metadata": {},
     "output_type": "execute_result"
    }
   ],
   "source": [
    "# Take a look at the starting words\n",
    "list_start_words(Gt)"
   ]
  },
  {
   "cell_type": "code",
   "execution_count": 8,
   "metadata": {},
   "outputs": [
    {
     "data": {
      "text/plain": [
       "['!', '.', '?']"
      ]
     },
     "execution_count": 8,
     "metadata": {},
     "output_type": "execute_result"
    }
   ],
   "source": [
    "# Take a look at the ending tokens\n",
    "list_end_tokens(Gt)    "
   ]
  },
  {
   "cell_type": "code",
   "execution_count": 9,
   "metadata": {
    "deletable": false,
    "editable": false,
    "nbgrader": {
     "cell_type": "code",
     "checksum": "4c72b3fea7e53ef25426736490ac4627",
     "grade": true,
     "grade_id": "cell-c914552649cbc672",
     "locked": true,
     "points": 0.3,
     "schema_version": 3,
     "solution": false,
     "task": false
    }
   },
   "outputs": [],
   "source": [
    "## This is an automatically graded test cell.\n",
    "# The public tests help you determine whether your solutions are correct.                          \n",
    "\n",
    "# This text is a preprocessed version of \n",
    "# Lincoln's 1865 state of the union address\n",
    "sSpeachPath = './Preprocessed-1865-Lincoln.txt' \n",
    "sSpeach = read_text(sSpeachPath)\n",
    "Gs = build_graph_from_text(sSpeach, 'Lincoln1865')\n",
    "sSaveFile = './AS11-TestLincolnGraph.pkl' \n",
    "#nx.write_gpickle(Gs,sSaveFile)\n",
    "\n",
    "# Public tests (make sure your function passes these tests)\n",
    "# ---------------------------------------------------------\n",
    "\n",
    "# Check the whole graph\n",
    "Gscomp = nx.read_gpickle(sSaveFile)\n",
    "assert Gs.graph['name'] == Gscomp.graph['name']\n",
    "assert sorted(Gs.nodes(data=True)) == sorted(Gscomp.nodes(data=True))\n",
    "assert sorted(Gs.edges(data=True)) == sorted(Gscomp.edges(data=True))\n",
    "del Gscomp"
   ]
  },
  {
   "cell_type": "code",
   "execution_count": 10,
   "metadata": {
    "deletable": false,
    "editable": false,
    "nbgrader": {
     "cell_type": "code",
     "checksum": "42669871c21c5a0f9929ea2da4d00d09",
     "grade": true,
     "grade_id": "cell-e67f90f3001ad721",
     "locked": true,
     "points": 0.3,
     "schema_version": 3,
     "solution": false,
     "task": false
    }
   },
   "outputs": [],
   "source": [
    "## This is an automatically graded test cell.\n",
    "# The public tests help you determine whether your solutions are correct.                          \n",
    "\n",
    "# This text is a preprocessed version of \n",
    "# The Project Gutenberg EBook of The Prince, by Nicolo Machiavelli\n",
    "# EBook #1232\n",
    "sPrincePath = './Preprocessed-Machiavelli_ThePrince.txt'\n",
    "sPrince = read_text(sPrincePath)\n",
    "Gp = build_graph_from_text(sPrince,'ThePrince')\n",
    "sSaveFile = './AS11-TestPrinceGraph.pkl' \n",
    "#nx.write_gpickle(Gp, sSaveFile)\n",
    "\n",
    "# Public tests (make sure your function passes these tests)\n",
    "# ---------------------------------------------------------\n",
    "\n",
    "# Check the whole graph\n",
    "Gpcomp = nx.read_gpickle(sSaveFile)\n",
    "assert Gp.graph['name'] == Gpcomp.graph['name']\n",
    "assert sorted(Gp.nodes(data=True)) == sorted(Gpcomp.nodes(data=True))\n",
    "assert sorted(Gp.edges(data=True)) == sorted(Gpcomp.edges(data=True))\n",
    "del Gpcomp"
   ]
  },
  {
   "attachments": {
    "AS11-Compare.png": {
     "image/png": "[encoded data removed]"
    }
   },
   "cell_type": "markdown",
   "metadata": {
    "deletable": false,
    "editable": false,
    "nbgrader": {
     "cell_type": "markdown",
     "checksum": "895eaf2dc55a3ca044169b9e44807771",
     "grade": false,
     "grade_id": "cell-ccd354b06f9f9018",
     "locked": true,
     "schema_version": 3,
     "solution": false,
     "task": false
    }
   },
   "source": [
    "### Compare Graph Information\n",
    "**Points: 0.5**\n",
    "\n",
    "For the following function:\n",
    "- the input is a single graphs or a list of directed graphs\n",
    "- the output is a Pandas dataframe with one row per graph\n",
    "  - each row index is the `name` attribute for the graph\n",
    "  - the column values are from the following table\n",
    "  \n",
    "| Column Name | Description |\n",
    "| :--- | :--- |\n",
    "| Nodes | the number of nodes in the graph |\n",
    "| Edges  | the number of edges in the graph  |\n",
    "| Self-Loops  | the number of self-loops in the graph  |\n",
    "| IsAcyclic  | True if the graph is acyclic  |\n",
    "| IsStrongCnct  | True if the graph is strongly connected  |\n",
    "| SC-comps  | number of strongly connected components  |\n",
    "| IsWeakCnct  | True if the graph is weakly connected  |\n",
    "| WC-comps  | number of weakly connected components  |\n",
    "| AvgInDeg | average in degree |\n",
    "| AvgOutDeg | average out degree |\n",
    "\n",
    "The result for all three graphs must look like this:\n",
    "![AS11-Compare.png](attachment:AS11-Compare.png)\n",
    "\n",
    "[Instructions](#Instructions)"
   ]
  },
  {
   "cell_type": "code",
   "execution_count": 11,
   "metadata": {
    "deletable": false,
    "nbgrader": {
     "cell_type": "code",
     "checksum": "9bc9a1b96e1d0b0a92421b85be644672",
     "grade": false,
     "grade_id": "cell-42759fb951fd1a2a",
     "locked": false,
     "schema_version": 3,
     "solution": true,
     "task": false
    }
   },
   "outputs": [],
   "source": [
    "lstCols = ['Nodes', 'Edges', 'Self-Loops', \n",
    "           'IsAcyclic', 'IsStrongCnct', 'SC-comps', \n",
    "           'IsWeakCnct', 'WC-comps', \n",
    "           'AvgInDeg', 'AvgOutDeg' ]\n",
    "\n",
    "def summarize_digraphs(lstGraphs):\n",
    "    df = pd.DataFrame(columns = lstCols,index = [i.graph['name'] for i in lstGraphs])\n",
    "    #print(df)\n",
    "    for G in lstGraphs:\n",
    "                                  #nx.is_strongly_connected(G),nx.number_strongly_connected_components(G),\n",
    "                                   #nx.is_weakly_connected(G),nx.number_weakly_connected_components(G),\n",
    "        in_de = list(G.in_degree()) \n",
    "        in_dic = {}\n",
    "        for l in in_de:\n",
    "            in_dic[l[0]]=l[1]\n",
    "        out_de = list(G.out_degree()) \n",
    "        out_dic = {}\n",
    "        for l in in_de:\n",
    "            out_dic[l[0]]=l[1]\n",
    "        df.loc[G.graph['name']] = [G.number_of_nodes(), G.number_of_edges(), \n",
    "                                   G.number_of_selfloops(),nx.is_directed_acyclic_graph(G),\n",
    "                                   nx.is_strongly_connected(G),nx.number_strongly_connected_components(G),\n",
    "                                   nx.is_weakly_connected(G),nx.number_weakly_connected_components(G),\n",
    "                                   pd.Series([*in_dic.values()]).mean(),pd.Series([*out_dic.values()]).mean()]\n",
    "    return(df)"
   ]
  },
  {
   "cell_type": "code",
   "execution_count": 12,
   "metadata": {
    "deletable": false,
    "editable": false,
    "nbgrader": {
     "cell_type": "code",
     "checksum": "729d4c2cabdf659122bd24d804bc6013",
     "grade": false,
     "grade_id": "cell-d62b13d55bef04c0",
     "locked": true,
     "schema_version": 3,
     "solution": false,
     "task": false
    }
   },
   "outputs": [
    {
     "data": {
      "text/html": [
       "<div>\n",
       "<style scoped>\n",
       "    .dataframe tbody tr th:only-of-type {\n",
       "        vertical-align: middle;\n",
       "    }\n",
       "\n",
       "    .dataframe tbody tr th {\n",
       "        vertical-align: top;\n",
       "    }\n",
       "\n",
       "    .dataframe thead th {\n",
       "        text-align: right;\n",
       "    }\n",
       "</style>\n",
       "<table border=\"1\" class=\"dataframe\">\n",
       "  <thead>\n",
       "    <tr style=\"text-align: right;\">\n",
       "      <th></th>\n",
       "      <th>Nodes</th>\n",
       "      <th>Edges</th>\n",
       "      <th>Self-Loops</th>\n",
       "      <th>IsAcyclic</th>\n",
       "      <th>IsStrongCnct</th>\n",
       "      <th>SC-comps</th>\n",
       "      <th>IsWeakCnct</th>\n",
       "      <th>WC-comps</th>\n",
       "      <th>AvgInDeg</th>\n",
       "      <th>AvgOutDeg</th>\n",
       "    </tr>\n",
       "  </thead>\n",
       "  <tbody>\n",
       "    <tr>\n",
       "      <td>Test</td>\n",
       "      <td>18</td>\n",
       "      <td>28</td>\n",
       "      <td>0</td>\n",
       "      <td>False</td>\n",
       "      <td>False</td>\n",
       "      <td>15</td>\n",
       "      <td>True</td>\n",
       "      <td>1</td>\n",
       "      <td>1.55556</td>\n",
       "      <td>1.55556</td>\n",
       "    </tr>\n",
       "    <tr>\n",
       "      <td>Lincoln1865</td>\n",
       "      <td>355</td>\n",
       "      <td>671</td>\n",
       "      <td>0</td>\n",
       "      <td>False</td>\n",
       "      <td>False</td>\n",
       "      <td>60</td>\n",
       "      <td>True</td>\n",
       "      <td>1</td>\n",
       "      <td>1.89014</td>\n",
       "      <td>1.89014</td>\n",
       "    </tr>\n",
       "    <tr>\n",
       "      <td>ThePrince</td>\n",
       "      <td>3422</td>\n",
       "      <td>16907</td>\n",
       "      <td>0</td>\n",
       "      <td>False</td>\n",
       "      <td>False</td>\n",
       "      <td>222</td>\n",
       "      <td>True</td>\n",
       "      <td>1</td>\n",
       "      <td>4.94068</td>\n",
       "      <td>4.94068</td>\n",
       "    </tr>\n",
       "  </tbody>\n",
       "</table>\n",
       "</div>"
      ],
      "text/plain": [
       "            Nodes  Edges Self-Loops IsAcyclic IsStrongCnct SC-comps  \\\n",
       "Test           18     28          0     False        False       15   \n",
       "Lincoln1865   355    671          0     False        False       60   \n",
       "ThePrince    3422  16907          0     False        False      222   \n",
       "\n",
       "            IsWeakCnct WC-comps AvgInDeg AvgOutDeg  \n",
       "Test              True        1  1.55556   1.55556  \n",
       "Lincoln1865       True        1  1.89014   1.89014  \n",
       "ThePrince         True        1  4.94068   4.94068  "
      ]
     },
     "execution_count": 12,
     "metadata": {},
     "output_type": "execute_result"
    }
   ],
   "source": [
    "dfSummary = summarize_digraphs([Gt, Gs, Gp])\n",
    "sSaveFile = './AS11-TestDFSummary.pkl'\n",
    "#dfSummary.to_pickle(sSaveFile)\n",
    "dfSummary"
   ]
  },
  {
   "cell_type": "code",
   "execution_count": 13,
   "metadata": {
    "deletable": false,
    "editable": false,
    "nbgrader": {
     "cell_type": "code",
     "checksum": "e4517c6e453bf0d7d2baf716d3f323f7",
     "grade": true,
     "grade_id": "cell-5aafb5fc00dae68d",
     "locked": true,
     "points": 0.5,
     "schema_version": 3,
     "solution": false,
     "task": false
    }
   },
   "outputs": [],
   "source": [
    "## This is an automatically graded test cell.\n",
    "# The public tests help you determine whether your solutions are correct.                          \n",
    "\n",
    "# Public tests (make sure your function passes these tests)\n",
    "# ---------------------------------------------------------\n",
    "dfSumComp = pd.read_pickle(sSaveFile)\n",
    "assert dfSummary.equals(dfSumComp)\n",
    "del dfSumComp\n"
   ]
  },
  {
   "attachments": {
    "AS11-Centrality.png": {
     "image/png": "[encoded data removed]"
    }
   },
   "cell_type": "markdown",
   "metadata": {
    "deletable": false,
    "editable": false,
    "nbgrader": {
     "cell_type": "markdown",
     "checksum": "98ef9a922cb433b8fd8a65017ae67d63",
     "grade": false,
     "grade_id": "cell-0618b266325eb593",
     "locked": true,
     "schema_version": 3,
     "solution": false,
     "task": false
    }
   },
   "source": [
    "### Compare Centrality Measures\n",
    "**Points: 0.5**\n",
    "\n",
    "This next function compares node importance for a graph using four different centrality measures. \n",
    "- input is a graph (G) and the number of top nodes to return (nTop)\n",
    "- output is a pandas dataframe\n",
    "  - Column names are `in_degree`, `out_degree`, `closeness`, `betweenness`\n",
    "  - There will be nTop rows, where each column contains the node name. Order must be descending by centrality measure. If multiple nodes have the same value, then sort alphabetically within that value.\n",
    "The output for compare_centrality(Gt,5) will be:\n",
    "![AS11-Centrality.png](attachment:AS11-Centrality.png)\n",
    "\n",
    "\n",
    "[Instructions](#Instructions)"
   ]
  },
  {
   "cell_type": "code",
   "execution_count": 14,
   "metadata": {
    "deletable": false,
    "nbgrader": {
     "cell_type": "code",
     "checksum": "c32aec645583a9d3555caa7a49a34295",
     "grade": false,
     "grade_id": "cell-674ba7142b6166d7",
     "locked": false,
     "schema_version": 3,
     "solution": true,
     "task": false
    }
   },
   "outputs": [],
   "source": [
    "import operator\n",
    "from heapq import nlargest\n",
    "def compare_centrality(G, nTop):\n",
    "    lstCols = ['in_degree', 'out_degree', 'closeness', 'betweenness']\n",
    "    in_degree_dict = dict(G.in_degree(G.nodes()))\n",
    "    sorted_degree = sorted(in_degree_dict.items(), key=operator.itemgetter(1,0))\n",
    "    sorted_degree = dict(sorted_degree)\n",
    "    top_largest_in = nlargest(nTop+1, sorted_degree, key=sorted_degree.get)\n",
    "    #print(top_largest_in)\n",
    "    out_degree_dict = dict(G.out_degree(G.nodes()))\n",
    "    sorted_degree = sorted(out_degree_dict.items(), key=operator.itemgetter(1,0))\n",
    "    sorted_degree = dict(sorted_degree)\n",
    "    top_largest_out = nlargest(nTop+1, sorted_degree, key=sorted_degree.get)\n",
    "    #print(top_largest_out)\n",
    "    close_dict = dict(nx.closeness_centrality(G))\n",
    "    sorted_degree = sorted(close_dict.items(), key=operator.itemgetter(1,0))\n",
    "    sorted_degree = dict(sorted_degree)\n",
    "    top_largest_clo = nlargest(nTop+1, sorted_degree, key=sorted_degree.get)\n",
    "    #print(top_largest_clo)\n",
    "    between_dict = dict(nx.betweenness_centrality(G))\n",
    "    sorted_degree = sorted(between_dict.items(), key=operator.itemgetter(1,0))\n",
    "    sorted_degree = dict(sorted_degree)\n",
    "    top_largest_bet = nlargest(nTop+1, sorted_degree, key=sorted_degree.get)\n",
    "    #print(top_largest_bet)\n",
    "    df = pd.DataFrame({lstCols[0]:top_largest_in,lstCols[1]:top_largest_out,\n",
    "                      lstCols[2]:top_largest_clo,lstCols[3]:top_largest_bet},\n",
    "                      index = np.arange(nTop+1))\n",
    "    return(df)"
   ]
  },
  {
   "cell_type": "code",
   "execution_count": 15,
   "metadata": {
    "deletable": false,
    "editable": false,
    "nbgrader": {
     "cell_type": "code",
     "checksum": "a79ae37e7855fda0d671fb4cf71045bf",
     "grade": false,
     "grade_id": "cell-258ec19a99d6ae3b",
     "locked": true,
     "schema_version": 3,
     "solution": false,
     "task": false
    }
   },
   "outputs": [
    {
     "data": {
      "text/html": [
       "<div>\n",
       "<style scoped>\n",
       "    .dataframe tbody tr th:only-of-type {\n",
       "        vertical-align: middle;\n",
       "    }\n",
       "\n",
       "    .dataframe tbody tr th {\n",
       "        vertical-align: top;\n",
       "    }\n",
       "\n",
       "    .dataframe thead th {\n",
       "        text-align: right;\n",
       "    }\n",
       "</style>\n",
       "<table border=\"1\" class=\"dataframe\">\n",
       "  <thead>\n",
       "    <tr style=\"text-align: right;\">\n",
       "      <th></th>\n",
       "      <th>in_degree</th>\n",
       "      <th>out_degree</th>\n",
       "      <th>closeness</th>\n",
       "      <th>betweenness</th>\n",
       "    </tr>\n",
       "  </thead>\n",
       "  <tbody>\n",
       "    <tr>\n",
       "      <td>0</td>\n",
       "      <td>.</td>\n",
       "      <td>Spot</td>\n",
       "      <td>.</td>\n",
       "      <td>Jane</td>\n",
       "    </tr>\n",
       "    <tr>\n",
       "      <td>1</td>\n",
       "      <td>Jane</td>\n",
       "      <td>Jane</td>\n",
       "      <td>the</td>\n",
       "      <td>Spot</td>\n",
       "    </tr>\n",
       "    <tr>\n",
       "      <td>2</td>\n",
       "      <td>Spot</td>\n",
       "      <td>Can</td>\n",
       "      <td>?</td>\n",
       "      <td>the</td>\n",
       "    </tr>\n",
       "    <tr>\n",
       "      <td>3</td>\n",
       "      <td>the</td>\n",
       "      <td>See</td>\n",
       "      <td>car</td>\n",
       "      <td>catch</td>\n",
       "    </tr>\n",
       "    <tr>\n",
       "      <td>4</td>\n",
       "      <td>?</td>\n",
       "      <td>car</td>\n",
       "      <td>street</td>\n",
       "      <td>are</td>\n",
       "    </tr>\n",
       "    <tr>\n",
       "      <td>5</td>\n",
       "      <td>catch</td>\n",
       "      <td>catch</td>\n",
       "      <td>jump</td>\n",
       "      <td>walking</td>\n",
       "    </tr>\n",
       "    <tr>\n",
       "      <td>6</td>\n",
       "      <td>jump</td>\n",
       "      <td>the</td>\n",
       "      <td>run</td>\n",
       "      <td>down</td>\n",
       "    </tr>\n",
       "    <tr>\n",
       "      <td>7</td>\n",
       "      <td>run</td>\n",
       "      <td>and</td>\n",
       "      <td>Jane</td>\n",
       "      <td>and</td>\n",
       "    </tr>\n",
       "    <tr>\n",
       "      <td>8</td>\n",
       "      <td>!</td>\n",
       "      <td>are</td>\n",
       "      <td>Spot</td>\n",
       "      <td>car</td>\n",
       "    </tr>\n",
       "    <tr>\n",
       "      <td>9</td>\n",
       "      <td>and</td>\n",
       "      <td>chase</td>\n",
       "      <td>catch</td>\n",
       "      <td>jump</td>\n",
       "    </tr>\n",
       "    <tr>\n",
       "      <td>10</td>\n",
       "      <td>are</td>\n",
       "      <td>down</td>\n",
       "      <td>!</td>\n",
       "      <td>run</td>\n",
       "    </tr>\n",
       "  </tbody>\n",
       "</table>\n",
       "</div>"
      ],
      "text/plain": [
       "   in_degree out_degree closeness betweenness\n",
       "0          .       Spot         .        Jane\n",
       "1       Jane       Jane       the        Spot\n",
       "2       Spot        Can         ?         the\n",
       "3        the        See       car       catch\n",
       "4          ?        car    street         are\n",
       "5      catch      catch      jump     walking\n",
       "6       jump        the       run        down\n",
       "7        run        and      Jane         and\n",
       "8          !        are      Spot         car\n",
       "9        and      chase     catch        jump\n",
       "10       are       down         !         run"
      ]
     },
     "execution_count": 15,
     "metadata": {},
     "output_type": "execute_result"
    }
   ],
   "source": [
    "dfCt = compare_centrality(Gt, 10)\n",
    "dfCt"
   ]
  },
  {
   "cell_type": "code",
   "execution_count": 16,
   "metadata": {
    "deletable": false,
    "editable": false,
    "nbgrader": {
     "cell_type": "code",
     "checksum": "7ed2a3f054cb092d43334830511fd709",
     "grade": false,
     "grade_id": "cell-80f707d46c73bb36",
     "locked": true,
     "schema_version": 3,
     "solution": false,
     "task": false
    }
   },
   "outputs": [
    {
     "data": {
      "text/html": [
       "<div>\n",
       "<style scoped>\n",
       "    .dataframe tbody tr th:only-of-type {\n",
       "        vertical-align: middle;\n",
       "    }\n",
       "\n",
       "    .dataframe tbody tr th {\n",
       "        vertical-align: top;\n",
       "    }\n",
       "\n",
       "    .dataframe thead th {\n",
       "        text-align: right;\n",
       "    }\n",
       "</style>\n",
       "<table border=\"1\" class=\"dataframe\">\n",
       "  <thead>\n",
       "    <tr style=\"text-align: right;\">\n",
       "      <th></th>\n",
       "      <th>in_degree</th>\n",
       "      <th>out_degree</th>\n",
       "      <th>closeness</th>\n",
       "      <th>betweenness</th>\n",
       "    </tr>\n",
       "  </thead>\n",
       "  <tbody>\n",
       "    <tr>\n",
       "      <td>0</td>\n",
       "      <td>the</td>\n",
       "      <td>the</td>\n",
       "      <td>the</td>\n",
       "      <td>the</td>\n",
       "    </tr>\n",
       "    <tr>\n",
       "      <td>1</td>\n",
       "      <td>,</td>\n",
       "      <td>,</td>\n",
       "      <td>,</td>\n",
       "      <td>,</td>\n",
       "    </tr>\n",
       "    <tr>\n",
       "      <td>2</td>\n",
       "      <td>to</td>\n",
       "      <td>to</td>\n",
       "      <td>.</td>\n",
       "      <td>to</td>\n",
       "    </tr>\n",
       "    <tr>\n",
       "      <td>3</td>\n",
       "      <td>.</td>\n",
       "      <td>and</td>\n",
       "      <td>to</td>\n",
       "      <td>and</td>\n",
       "    </tr>\n",
       "    <tr>\n",
       "      <td>4</td>\n",
       "      <td>of</td>\n",
       "      <td>of</td>\n",
       "      <td>that</td>\n",
       "      <td>of</td>\n",
       "    </tr>\n",
       "    <tr>\n",
       "      <td>5</td>\n",
       "      <td>and</td>\n",
       "      <td>that</td>\n",
       "      <td>war</td>\n",
       "      <td>that</td>\n",
       "    </tr>\n",
       "    <tr>\n",
       "      <td>6</td>\n",
       "      <td>it</td>\n",
       "      <td>all</td>\n",
       "      <td>it</td>\n",
       "      <td>war</td>\n",
       "    </tr>\n",
       "    <tr>\n",
       "      <td>7</td>\n",
       "      <td>that</td>\n",
       "      <td>be</td>\n",
       "      <td>right</td>\n",
       "      <td>in</td>\n",
       "    </tr>\n",
       "    <tr>\n",
       "      <td>8</td>\n",
       "      <td>for</td>\n",
       "      <td>it</td>\n",
       "      <td>is</td>\n",
       "      <td>it</td>\n",
       "    </tr>\n",
       "    <tr>\n",
       "      <td>9</td>\n",
       "      <td>in</td>\n",
       "      <td>war</td>\n",
       "      <td>woe</td>\n",
       "      <td>all</td>\n",
       "    </tr>\n",
       "    <tr>\n",
       "      <td>10</td>\n",
       "      <td>war</td>\n",
       "      <td>for</td>\n",
       "      <td>and</td>\n",
       "      <td>for</td>\n",
       "    </tr>\n",
       "  </tbody>\n",
       "</table>\n",
       "</div>"
      ],
      "text/plain": [
       "   in_degree out_degree closeness betweenness\n",
       "0        the        the       the         the\n",
       "1          ,          ,         ,           ,\n",
       "2         to         to         .          to\n",
       "3          .        and        to         and\n",
       "4         of         of      that          of\n",
       "5        and       that       war        that\n",
       "6         it        all        it         war\n",
       "7       that         be     right          in\n",
       "8        for         it        is          it\n",
       "9         in        war       woe         all\n",
       "10       war        for       and         for"
      ]
     },
     "execution_count": 16,
     "metadata": {},
     "output_type": "execute_result"
    }
   ],
   "source": [
    "dfCs = compare_centrality(Gs, 10)\n",
    "dfCs"
   ]
  },
  {
   "cell_type": "code",
   "execution_count": null,
   "metadata": {
    "deletable": false,
    "editable": false,
    "nbgrader": {
     "cell_type": "code",
     "checksum": "d4e056a9399ca95a1900e3cb974a98a1",
     "grade": false,
     "grade_id": "cell-2112acc5060e82ee",
     "locked": true,
     "schema_version": 3,
     "solution": false,
     "task": false
    }
   },
   "outputs": [],
   "source": [
    "#%%timeit -n1 -r1\n",
    "# This is likely to take over 1 minute to run\n",
    "dfCp = compare_centrality(Gp, 10)\n",
    "dfCp"
   ]
  },
  {
   "cell_type": "code",
   "execution_count": null,
   "metadata": {
    "deletable": false,
    "editable": false,
    "nbgrader": {
     "cell_type": "code",
     "checksum": "8e9e2e053c06fedb7c2fbdacac5faf55",
     "grade": true,
     "grade_id": "cell-429ed1623732247a",
     "locked": true,
     "points": 0.1,
     "schema_version": 3,
     "solution": false,
     "task": false
    }
   },
   "outputs": [],
   "source": [
    "## This is an automatically graded test cell.\n",
    "sSaveFile = './AS11-Centrality-t.pkl'\n",
    "#dfCt.to_pickle(sSaveFile)\n",
    "dfCtComp = pd.read_pickle(sSaveFile)\n",
    "assert dfCt.equals(dfCtComp)\n",
    "del dfCtComp"
   ]
  },
  {
   "cell_type": "code",
   "execution_count": null,
   "metadata": {
    "deletable": false,
    "editable": false,
    "nbgrader": {
     "cell_type": "code",
     "checksum": "dab6904aba66d0fb613393fa9139b8bb",
     "grade": true,
     "grade_id": "cell-23bb8afc9ccb116d",
     "locked": true,
     "points": 0.2,
     "schema_version": 3,
     "solution": false,
     "task": false
    }
   },
   "outputs": [],
   "source": [
    "## This is an automatically graded test cell.\n",
    "sSaveFile = './AS11-Centrality-s.pkl'\n",
    "#dfCs.to_pickle(sSaveFile)\n",
    "dfCsComp = pd.read_pickle(sSaveFile)\n",
    "assert dfCs.equals(dfCsComp)\n",
    "del dfCsComp"
   ]
  },
  {
   "cell_type": "code",
   "execution_count": null,
   "metadata": {
    "deletable": false,
    "editable": false,
    "nbgrader": {
     "cell_type": "code",
     "checksum": "9b4d110cf1dedeea7bc3996529d5c588",
     "grade": true,
     "grade_id": "cell-3bff6393ae52f106",
     "locked": true,
     "points": 0.2,
     "schema_version": 3,
     "solution": false,
     "task": false
    }
   },
   "outputs": [],
   "source": [
    "## This is an automatically graded test cell.\n",
    "sSaveFile = './AS11-Centrality-p.pkl'\n",
    "#dfCp.to_pickle(sSaveFile)\n",
    "dfCpComp = pd.read_pickle(sSaveFile)\n",
    "assert dfCp.equals(dfCpComp)\n",
    "del dfCpComp"
   ]
  },
  {
   "cell_type": "markdown",
   "metadata": {
    "deletable": false,
    "editable": false,
    "nbgrader": {
     "cell_type": "markdown",
     "checksum": "1b60e2ae089a87b7fb9576eef307207c",
     "grade": false,
     "grade_id": "cell-9e787030de8f6b11",
     "locked": true,
     "schema_version": 3,
     "solution": false,
     "task": false
    }
   },
   "source": [
    "### Normalize Edges\n",
    "**Points: 0.5**\n",
    "\n",
    "The edges in the graph currently have a count of how many times that edge occurred in a corpus. This next function goes through every node in the graph, and for each edge leaving that node, assigns the equivalent of a cumulative probability. For example, if node A has three outgoing edges: \n",
    "- `(A,B,count=2)`, \n",
    "- `(A,C,count=1)`,\n",
    "- `(A,D,count=3)`.  \n",
    "\n",
    "This meanst that there were a total of 6 times that a sentence passed through node A. Each edge will be assigned two new attributes named `prob` and `cumprob` so that\n",
    "- `(A,B,count=2, prob=0.3333, cumprob=0.3333)`, \n",
    "- `(A,C,count=1, prob=0.1666, cumprob=0.5)`,\n",
    "- `(A,D,count=3, prob=0.5,    cumprob=1.0)`.  \n",
    "Note that the last edge must always have `cumprob=1.0`\n",
    "\n",
    "The function returns the updated graph. It is expected to modify the passed in graph, so you do not need to make a copy.\n",
    "\n",
    "[Instructions](#Instructions)"
   ]
  },
  {
   "cell_type": "code",
   "execution_count": null,
   "metadata": {
    "deletable": false,
    "nbgrader": {
     "cell_type": "code",
     "checksum": "9f99428590da199a7abcc51af03659ef",
     "grade": false,
     "grade_id": "cell-0c849fc83c6735fa",
     "locked": false,
     "schema_version": 3,
     "solution": true,
     "task": false
    }
   },
   "outputs": [],
   "source": [
    "def normalize_edges(G):\n",
    "    for n in G.nodes():\n",
    "        neigours = [i for i in G.neighbors(n)]\n",
    "        #print(neigours)\n",
    "        t_c = 0\n",
    "        if neigours:\n",
    "            for i in np.arange(len(neigours)):\n",
    "                t_c += G[n][neigours[i]]['count']\n",
    "            c_p = 0\n",
    "            for i in np.arange(len(neigours)):\n",
    "                G[n][neigours[i]]['prob'] = G[n][neigours[i]]['count']/t_c\n",
    "                c_p += G[n][neigours[i]]['prob']\n",
    "                G[n][neigours[i]]['cumprob'] = c_p\n",
    "#             for i in np.arange(len(neigours)):\n",
    "#                 print(n,neigours[i],G[n][neigours[i]])\n",
    "    return G\n",
    "#Y = normalize_edges(Gt)"
   ]
  },
  {
   "cell_type": "code",
   "execution_count": null,
   "metadata": {
    "deletable": false,
    "editable": false,
    "nbgrader": {
     "cell_type": "code",
     "checksum": "5126812c0f0a55272ee836931a4be0a0",
     "grade": true,
     "grade_id": "cell-01dbccfb670578b7",
     "locked": true,
     "points": 0.1,
     "schema_version": 3,
     "solution": false,
     "task": false
    }
   },
   "outputs": [],
   "source": [
    "## This is an automatically graded test cell.\n",
    "Gt = normalize_edges(Gt)\n",
    "sSaveFile = './AS11-Normalized-t.pkl'\n",
    "#nx.write_gpickle(Gt, sSaveFile)\n",
    "\n",
    "np.testing.assert_almost_equal(Gt['See']['Spot']['prob'], 0.6, decimal=4, verbose=True)\n",
    "np.testing.assert_almost_equal(Gt['and']['Jane']['prob'], 1.0, decimal=4, verbose=True)\n",
    "np.testing.assert_almost_equal(Gt['Can']['Jane']['prob'], 0.5, decimal=4, verbose=True)\n",
    "np.testing.assert_almost_equal(Gt['Jane']['are']['prob'], 0.25, decimal=4, verbose=True)\n",
    "np.testing.assert_almost_equal(Gt['Spot']['chase']['prob'], 0.1666, decimal=4, verbose=True)\n",
    "np.testing.assert_almost_equal(Gt['the']['street']['prob'], 0.3333, decimal=4, verbose=True)\n",
    "\n",
    "# Now check the entire graph\n",
    "GtnComp = nx.read_gpickle(sSaveFile)\n",
    "assert word_graph_is_isomorphic(GtnComp, Gt)\n",
    "\n",
    "# From here on use the presaved version to make sure all the cumulative values are on the same edges.\n",
    "Gt = GtnComp"
   ]
  },
  {
   "cell_type": "code",
   "execution_count": null,
   "metadata": {
    "deletable": false,
    "editable": false,
    "nbgrader": {
     "cell_type": "code",
     "checksum": "9a58ad7ca5feb25e1baa5718412c8561",
     "grade": true,
     "grade_id": "cell-01388e672c0e0a6d",
     "locked": true,
     "points": 0.2,
     "schema_version": 3,
     "solution": false,
     "task": false
    }
   },
   "outputs": [],
   "source": [
    "## This is an automatically graded test cell.\n",
    "Gs = normalize_edges(Gs)\n",
    "sSaveFile = './AS11-Normalized-s.pkl'\n",
    "#nx.write_gpickle(Gs, sSaveFile)\n",
    "\n",
    "np.testing.assert_almost_equal(Gs['to']['it']['prob'], 0.03846, decimal=5, verbose=True)\n",
    "np.testing.assert_almost_equal(Gs['the']['expiration']['prob'], 0.01818, decimal=5, verbose=True)\n",
    "np.testing.assert_almost_equal(Gs['this']['interest']['prob'], 0.28571, decimal=5, verbose=True)\n",
    "np.testing.assert_almost_equal(Gs['the']['Union']['prob'], 0.07272, decimal=5, verbose=True)\n",
    "np.testing.assert_almost_equal(Gs['office']['there']['prob'], 1.0, decimal=5, verbose=True)\n",
    "np.testing.assert_almost_equal(Gs['less']['fundamental']['prob'], 0.5, decimal=5, verbose=True)\n",
    "np.testing.assert_almost_equal(Gs['With']['high']['prob'], 0.5, decimal=5, verbose=True)\n",
    "np.testing.assert_almost_equal(Gs['do']['all']['prob'], 0.25, decimal=5, verbose=True)\n",
    "np.testing.assert_almost_equal(Gs['men']['should']['prob'], 0.5, decimal=5, verbose=True)\n",
    "np.testing.assert_almost_equal(Gs['offenses']['which']['prob'], 0.33333, decimal=5, verbose=True)\n",
    "\n",
    "# Now check the entire graph\n",
    "GsnComp = nx.read_gpickle(sSaveFile)\n",
    "assert word_graph_is_isomorphic(GsnComp, Gs)\n",
    "\n",
    "# From here on use the presaved version to make sure all the cumulative values are on the same edges.\n",
    "Gs = GsnComp"
   ]
  },
  {
   "cell_type": "code",
   "execution_count": null,
   "metadata": {
    "deletable": false,
    "editable": false,
    "nbgrader": {
     "cell_type": "code",
     "checksum": "7b5886ccf8a1c8a5f7d2de81e561874e",
     "grade": true,
     "grade_id": "cell-3042a5476600f44b",
     "locked": true,
     "points": 0.1,
     "schema_version": 3,
     "solution": false,
     "task": false
    }
   },
   "outputs": [],
   "source": [
    "## This is an automatically graded test cell.\n",
    "Gp = normalize_edges(Gp)\n",
    "sSaveFile = './AS11-Normalized-p.pkl'\n",
    "#nx.write_gpickle(Gp, sSaveFile)\n",
    "\n",
    "np.testing.assert_almost_equal(Gp['states']['constituted']['prob'], 0.0434782, decimal=5, verbose=True)\n",
    "np.testing.assert_almost_equal(Gp[',']['feeling']['prob'], 0.0003877, decimal=5, verbose=True)\n",
    "np.testing.assert_almost_equal(Gp['have']['borne']['prob'], 0.00333, decimal=5, verbose=True)\n",
    "np.testing.assert_almost_equal(Gp['over']['those']['prob'], 0.06666, decimal=5, verbose=True)\n",
    "np.testing.assert_almost_equal(Gp['this']['being']['prob'], 0.012121, decimal=5, verbose=True)\n",
    "np.testing.assert_almost_equal(Gp['first']['drawn']['prob'], 0.022727, decimal=5, verbose=True)\n",
    "np.testing.assert_almost_equal(Gp['own']['army']['prob'], 0.014285, decimal=5, verbose=True)\n",
    "np.testing.assert_almost_equal(Gp['defend']['himself']['prob'], 0.294117, decimal=5, verbose=True)\n",
    "np.testing.assert_almost_equal(Gp['whoever']['will']['prob'], 0.142857, decimal=5, verbose=True)\n",
    "\n"
   ]
  },
  {
   "cell_type": "code",
   "execution_count": null,
   "metadata": {
    "deletable": false,
    "editable": false,
    "nbgrader": {
     "cell_type": "code",
     "checksum": "02a010901de73dbf80a16b5674bf3b50",
     "grade": true,
     "grade_id": "cell-c3a103666c143bf0",
     "locked": true,
     "points": 0.1,
     "schema_version": 3,
     "solution": false,
     "task": false
    }
   },
   "outputs": [],
   "source": [
    "## This is an automatically graded test cell\n",
    "# Now check the entire graph. This will likely take a couple of minutes to run.\n",
    "GpnComp = nx.read_gpickle(sSaveFile)\n",
    "assert word_graph_is_isomorphic(GpnComp, Gp)\n",
    "\n",
    "# From here on use the presaved version to make sure all the cumulative values are on the same edges.\n",
    "Gp = GpnComp"
   ]
  },
  {
   "cell_type": "markdown",
   "metadata": {
    "deletable": false,
    "editable": false,
    "nbgrader": {
     "cell_type": "markdown",
     "checksum": "539a1f4feb3aaa6d6279b51702427529",
     "grade": false,
     "grade_id": "cell-0f8b4fef9689c982",
     "locked": true,
     "schema_version": 3,
     "solution": false,
     "task": false
    }
   },
   "source": [
    "### Generate Sentences\n",
    "**Points: 1.0**  \n",
    "\n",
    "Now use the word graph to generate a set of sentences. To ensure this gets graded properly, please follow the directions closely.\n",
    "- There are four inputs\n",
    "  - the word graph, \n",
    "  - the number of sentences to generate, \n",
    "  - A list of words to use to start each sentence.\n",
    "    - You must check to ensure that each of these is a correct starter word. That is, the attribute (`bStart==True`)\n",
    "    - If a word is not a valid start word or is not present as a node, raise a ValueError exception.\n",
    "  - optional random seed to use\n",
    "- The output is a single string containing the requested number of sentences. Think of it as a paragraph. Be sure to strip off any leading or trailing whitespace.\n",
    "- If the list of starter words is shorter than the requested number of sentences, just cycle through them again in order.  \n",
    "- If a random seed is supplied, be sure to set the np random seed before doing anything else.\n",
    "- To make a sentence\n",
    "  1. The first word will be the start word.\n",
    "  2. Generate a uniform random number between 0 and 1 (a threshold)\n",
    "  3. Compare each outgoing edge (use `for e in G.out_edges`)\n",
    "     - the first edge where the cumulative probability is greater than or equal to the threshold is the edge to use to transition to the next word.\n",
    "  4. If the next word is a sentence ending word (`bEnd==True`), then the sentence is complete. Otherwise, add the word to the sentence and use it as the start word, cycling back to step 2 above.\n",
    "- There are a few formatting considerations. Due to tokenizing effects, the spacing for some punctuation must be adjusted.\n",
    "  - There must be no space between the end of the sentence and the ending punctuation (period, question mark, etc.)\n",
    "  - If a comma, semicolon, or apostrophe is preceded by a space, you must remove the space.\n",
    "  - There must be only one space following a sentence before the next sentence begins\n",
    "  \n",
    "There are several obvious problems with this simple approach. For example, the words allowed to start questions are not checked, parts of speach are not checked, etc. However, each of these could be addressed in a more complete implementation. Nevertheless, this still generates interesting text!\n",
    "  \n",
    "\n",
    "\n"
   ]
  },
  {
   "cell_type": "code",
   "execution_count": null,
   "metadata": {
    "deletable": false,
    "nbgrader": {
     "cell_type": "code",
     "checksum": "c542512fa39b505e3e8cd719aab6a6f8",
     "grade": false,
     "grade_id": "cell-db823e3bf7da9d81",
     "locked": false,
     "schema_version": 3,
     "solution": true,
     "task": false
    }
   },
   "outputs": [],
   "source": [
    "def generate_sentences(G, numSents, lstStartWords, seed=None):\n",
    "    for word in lstStartWords:\n",
    "        if G.has_node(word) == False:\n",
    "            raise ValueError()\n",
    "        if G.node[word]['bStart'] == False:\n",
    "            raise ValueError()\n",
    "    lst = lstStartWords\n",
    "    np.random.seed(seed)\n",
    "    i = 0\n",
    "    while len(lstStartWords)<numSents:\n",
    "        lst.append(lstStartWords[i])\n",
    "        i += 1\n",
    "        if i == len(lstStartWords):\n",
    "            i = 0\n",
    "    sen = []\n",
    "    co = 0\n",
    "    for word in lst:\n",
    "        co += 1\n",
    "        wr = [word]\n",
    "        while True:\n",
    "            rand = np.random.random()\n",
    "            word = ww(G,word,rand)\n",
    "            wr.append(word)\n",
    "            if G.node[word]['bEnd'] == True:\n",
    "                break\n",
    "        wrx = ''\n",
    "        for elem in wr:\n",
    "            if str(elem).isalnum():\n",
    "                wrx += ' ' + str(elem)\n",
    "            else:\n",
    "                wrx += ''.join(str(elem)) \n",
    "        #wr = ' '.join([str(elem) for elem in wr])\n",
    "        sen.append(wrx)\n",
    "        if co == numSents:\n",
    "            break\n",
    "    sen = ''.join([str(elem) for elem in sen])\n",
    "    #print(sen)\n",
    "    return(sen.strip())\n",
    "def ww(G,word,rand):\n",
    "    for e in G.out_edges(word):\n",
    "            if G[word][e[1]]['cumprob'] >= rand:\n",
    "                return e[1]"
   ]
  },
  {
   "cell_type": "code",
   "execution_count": null,
   "metadata": {
    "deletable": false,
    "editable": false,
    "nbgrader": {
     "cell_type": "code",
     "checksum": "b8583381d2ac212dea5c928cbd255e85",
     "grade": true,
     "grade_id": "cell-b564f90e6c10d953",
     "locked": true,
     "points": 0.5,
     "schema_version": 3,
     "solution": false,
     "task": false
    }
   },
   "outputs": [],
   "source": [
    "## This is an automatically graded test cell.\n",
    "nSeed = 42\n",
    "lstStartWords = ['Can', 'See', 'Spot']\n",
    "\n",
    "# Check for single sentence creation\n",
    "assert 'Can Jane catch the car.' == generate_sentences(Gt, 1, lstStartWords, seed=nSeed)\n",
    "\n",
    "# Check for cycling\n",
    "sRes = 'Can Jane catch the car. See Spot run. Spot chase the street. Can Spot jump! See Spot jump! Spot and Jane are walking down the car?'\n",
    "assert sRes == generate_sentences(Gt, 6, lstStartWords, seed=nSeed)\n",
    "\n",
    "# Check for rejecting invalid starter\n",
    "try:\n",
    "    generate_sentences(Gt, 1, ['Jane'], seed=nSeed)\n",
    "except ValueError:\n",
    "    pass\n",
    "else:\n",
    "    raise AssertionError(\"Did not raise exception for invalid start word\")\n",
    "\n",
    "\n"
   ]
  },
  {
   "cell_type": "code",
   "execution_count": null,
   "metadata": {
    "deletable": false,
    "editable": false,
    "nbgrader": {
     "cell_type": "code",
     "checksum": "b22b478998715e13ab9cc17b2d52b732",
     "grade": true,
     "grade_id": "cell-88a46da5fade75ce",
     "locked": true,
     "points": 0.2,
     "schema_version": 3,
     "solution": false,
     "task": false
    }
   },
   "outputs": [],
   "source": [
    "## This is an automatically graded test cell.\n",
    "nSeed = 1\n",
    "lstStartWords = ['The', 'If', 'It', 'Yet']\n",
    "\n",
    "sRes = 'The prayers of the Union without war, reasonably satisfactory and a just God ' + \\\n",
    "       'gives to that any departure from this terrible war, must be said three thousand years ' + \\\n",
    "       'of the war may speedily pass away. If we be paid by the Union even by whom the Union ' + \\\n",
    "       'and it is ventured. It may speedily pass away. Yet, having continued through His own purposes.'\n",
    "\n",
    "assert sRes == generate_sentences(Gs, 4, lstStartWords, seed=nSeed)"
   ]
  },
  {
   "cell_type": "code",
   "execution_count": null,
   "metadata": {
    "deletable": false,
    "editable": false,
    "nbgrader": {
     "cell_type": "code",
     "checksum": "19111ef0e20f6699ab2e4c957e64c62f",
     "grade": true,
     "grade_id": "cell-d782cd8e7cc155a4",
     "locked": true,
     "points": 0.3,
     "schema_version": 3,
     "solution": false,
     "task": false
    }
   },
   "outputs": [],
   "source": [
    "## This is an automatically graded test cell.\n",
    "nSeed = 43\n",
    "lstStartWords = ['The', 'We', 'It', 'For', 'Let']\n",
    "\n",
    "sRes = \"The one's own subjects, namely, yet in nature of all the arms may be seen, \" +\\\n",
    "       \"or robberies; even in thinking of Moses, Prince of others, King of this springs \" +\\\n",
    "       \"entirely good arms of the Countess of localities, nevertheless, Prince of a \"+\\\n",
    "       \"defect in by imitation to die. We have his liking. It is to enterprises prospered \"+\\\n",
    "       \"by prompt recourse to an acquisition turns into an enemy with infinite. For this \"+\\\n",
    "       \"question of which princes accuse fortune is useful. Let no longer have fulfilled his resolutions.\"\n",
    "\n",
    "assert sRes == generate_sentences(Gp, 5, lstStartWords, seed=nSeed)"
   ]
  },
  {
   "cell_type": "markdown",
   "metadata": {
    "deletable": false,
    "editable": false,
    "nbgrader": {
     "cell_type": "markdown",
     "checksum": "c47f127730e901f44119a2a1cb91cab5",
     "grade": false,
     "grade_id": "cell-4289f9ee69c58829",
     "locked": true,
     "schema_version": 3,
     "solution": false,
     "task": false
    }
   },
   "source": [
    "### Visualize a Word Graph\n",
    "This is just a quick method for visualizing a simple word graph. You are welcome to explore the more complicated graphs."
   ]
  },
  {
   "cell_type": "code",
   "execution_count": null,
   "metadata": {
    "deletable": false,
    "editable": false,
    "nbgrader": {
     "cell_type": "code",
     "checksum": "7c5ac11d0e96e677e279a084baf7acbe",
     "grade": false,
     "grade_id": "cell-3a91c2be4714c02b",
     "locked": true,
     "schema_version": 3,
     "solution": false,
     "task": false
    }
   },
   "outputs": [],
   "source": [
    "#The layout function can use any one of these layout programs from graphviz: sfdp, dot, twopi, circo\n",
    "def draw_word_graph(G, fignum, figsize=(10,7), root=None, layout='circo'):\n",
    "    fig = plt.figure(fignum, figsize=figsize)\n",
    "    ax = plt.gca()\n",
    "    pos = nx.nx_pydot.graphviz_layout(G, root=root, prog=layout)\n",
    "    nx.draw_networkx(G, pos=pos, ax=ax)\n",
    "    fig.tight_layout()  "
   ]
  },
  {
   "cell_type": "code",
   "execution_count": null,
   "metadata": {
    "deletable": false,
    "editable": false,
    "nbgrader": {
     "cell_type": "code",
     "checksum": "95da41199dab8b3700c9824080bc9d77",
     "grade": false,
     "grade_id": "cell-e7c728c2b08c2cad",
     "locked": true,
     "schema_version": 3,
     "solution": false,
     "task": false
    }
   },
   "outputs": [],
   "source": [
    "draw_word_graph(Gt, 1, root='See')"
   ]
  },
  {
   "cell_type": "markdown",
   "metadata": {
    "deletable": false,
    "editable": false,
    "nbgrader": {
     "cell_type": "markdown",
     "checksum": "10ccd6867b52cec0f5361a56f397dd07",
     "grade": false,
     "grade_id": "cell-d24ada33da11051d",
     "locked": true,
     "schema_version": 3,
     "solution": false,
     "task": false
    }
   },
   "source": [
    "## Graph Structures\n",
    "The **degree** of a node in an undirected graph is the number of neighboring nodes that are connected. The **degree distribution** of a graph is the _probability distribution_ of the node degrees over the entire network. In real world networks, there are two commonly occuring degree distributions that are frequently analyzed in network research: scale-free networks and small-world networks. The next few problems explore these distributions. \n"
   ]
  },
  {
   "cell_type": "markdown",
   "metadata": {
    "deletable": false,
    "editable": false,
    "nbgrader": {
     "cell_type": "markdown",
     "checksum": "ac527cfa45b8ec747a8b0da217abe247",
     "grade": false,
     "grade_id": "cell-0353a9f1850a6145",
     "locked": true,
     "schema_version": 3,
     "solution": false,
     "task": false
    }
   },
   "source": [
    "### Scale-free Networks\n",
    "\n",
    "Many real-world networks (e.g., the world wide web or power distribution grids) have a large number of nodes with very small degree, and a small number of nodes with a large degree. The degree distribution follows a power law and looks like a straight line when the degree (k) is plotted against the fraction of nodes with that degree on a log-log scale. These are known as scale-free networks. The fraction $P(k)$ of nodes in the network having $k$ connections to other nodes generally follows this form: \n",
    "\n",
    "$$P(k) \\propto k^{-\\alpha}$$  \n",
    "\n",
    "- $\\alpha$ is a constant, with typically $2<\\alpha<3$\n",
    "\n",
    "Scale-free networks typically have short average path lengths, but very low average clustering coefficient.\n",
    "\n",
    "NetworkX includes several random graph generators. The barabasi_albert_graph function uses a preferential attachment model to generate a random scale free network.  "
   ]
  },
  {
   "cell_type": "code",
   "execution_count": null,
   "metadata": {
    "deletable": false,
    "editable": false,
    "nbgrader": {
     "cell_type": "code",
     "checksum": "f3435b71e4006d60417fe387c7ef3ec6",
     "grade": false,
     "grade_id": "cell-00578944a86e2948",
     "locked": true,
     "schema_version": 3,
     "solution": false,
     "task": false
    }
   },
   "outputs": [],
   "source": [
    "# Create a random, scale-free network using the barabasi-albert algorithm.\n",
    "# This network has 1000 nodes with a preferential edge attachment of 1\n",
    "Gsf = nx.barabasi_albert_graph(1000, 1, seed=42)\n",
    "Gsf.graph['name'] = 'ScaleFree'\n"
   ]
  },
  {
   "cell_type": "markdown",
   "metadata": {
    "deletable": false,
    "editable": false,
    "nbgrader": {
     "cell_type": "markdown",
     "checksum": "034fc4a318635fa798c94f055f409146",
     "grade": false,
     "grade_id": "cell-5ebfcb573c90e03b",
     "locked": true,
     "schema_version": 3,
     "solution": false,
     "task": false
    }
   },
   "source": [
    "### Small-world Networks\n",
    "\n",
    "Social networks are an example of real-world networks where the degree distribution is not scale-free. These are often refered to as small-world networks in the sense that relatively short paths exist between almost any two nodes. A recent study of Facebook connections (Backstrom, et.al, \"Four Degrees of Separation\", 2012) found that the average path length between facebook users in the United States was 4. \n",
    "\n",
    "Small-world networks also typically have short average path lengths, but they have high average clustering coefficient.\n",
    "\n",
    "The following cell uses the Watts-Strogratz algorithm to generate a small-world graph."
   ]
  },
  {
   "cell_type": "code",
   "execution_count": null,
   "metadata": {
    "deletable": false,
    "editable": false,
    "nbgrader": {
     "cell_type": "code",
     "checksum": "2afbc0fd36d98c5492946910564860c8",
     "grade": false,
     "grade_id": "cell-ab1e064ff4fee498",
     "locked": true,
     "schema_version": 3,
     "solution": false,
     "task": false
    }
   },
   "outputs": [],
   "source": [
    "# Create a random, small world network using the Watts-Strogatz algorithm.\n",
    "# This network has 1000 nodes, each initially attached to its 6 nearest \n",
    "# neighbors, with a rewire probability of 0.4.\n",
    "Gsw = nx.connected_watts_strogatz_graph(1000,6,0.04,seed=42)\n",
    "Gsw.graph['name'] = 'SmallWorld'"
   ]
  },
  {
   "cell_type": "markdown",
   "metadata": {
    "deletable": false,
    "editable": false,
    "nbgrader": {
     "cell_type": "markdown",
     "checksum": "17b11bc7b06d9ce71c194c3ed670c5c6",
     "grade": false,
     "grade_id": "cell-1679be68ad04c6c4",
     "locked": true,
     "schema_version": 3,
     "solution": false,
     "task": false
    }
   },
   "source": [
    "### Compare Network Structures\n",
    "**Points: 0.5**  \n",
    "\n",
    "The following function compares a list of graphs\n",
    "- Input is a list of undirected graphs\n",
    "- Output is a pandas dataframe.\n",
    "  - Column names are \n",
    "    - `Avg.Path` (the average shortest path length)\n",
    "    - `Avg.Cluster` (the average clustering coefficient)\n",
    "  - Row indexs are the graph level attribute `name`\n",
    "  \n",
    "[Instructions](#Instructions)  "
   ]
  },
  {
   "cell_type": "code",
   "execution_count": null,
   "metadata": {
    "deletable": false,
    "nbgrader": {
     "cell_type": "code",
     "checksum": "315b67e65df0a223314f0e267e86daa9",
     "grade": false,
     "grade_id": "cell-c6ed39d95c0b3330",
     "locked": false,
     "schema_version": 3,
     "solution": true,
     "task": false
    }
   },
   "outputs": [],
   "source": [
    "def compare_network_structures( lstG ):\n",
    "    lstCols = ['Avg.Path','Avg.Cluster']\n",
    "    df = pd.DataFrame(columns = lstCols,index = [i.graph['name'] for i in lstG])\n",
    "    for G in lstG:\n",
    "        df.loc[G.graph['name']] = [nx.average_shortest_path_length(G),nx.average_clustering(G)]\n",
    "    return df"
   ]
  },
  {
   "cell_type": "code",
   "execution_count": null,
   "metadata": {
    "deletable": false,
    "editable": false,
    "nbgrader": {
     "cell_type": "code",
     "checksum": "5e55b5c16c7edb22df9fdc22dd7067fb",
     "grade": true,
     "grade_id": "cell-1cf4a40b9dde8e27",
     "locked": true,
     "points": 0.5,
     "schema_version": 3,
     "solution": false,
     "task": false
    }
   },
   "outputs": [],
   "source": [
    "## This is an automatically graded test cell.\n",
    "df = compare_network_structures([Gsf, Gsw])\n",
    "\n",
    "np.testing.assert_almost_equal(df.loc['ScaleFree','Avg.Path'],     6.433, decimal=3, verbose=True)\n",
    "np.testing.assert_almost_equal(df.loc['ScaleFree','Avg.Cluster'],  0.000, decimal=3, verbose=True)\n",
    "np.testing.assert_almost_equal(df.loc['SmallWorld','Avg.Path'],    8.852, decimal=3, verbose=True)\n",
    "np.testing.assert_almost_equal(df.loc['SmallWorld','Avg.Cluster'], 0.544, decimal=3, verbose=True)"
   ]
  },
  {
   "attachments": {
    "AS11-figure2.png": {
     "image/png": "[encoded data removed]"
    }
   },
   "cell_type": "markdown",
   "metadata": {
    "deletable": false,
    "editable": false,
    "nbgrader": {
     "cell_type": "markdown",
     "checksum": "b8f85487411d7ae02e3aadaa9ba944af",
     "grade": false,
     "grade_id": "cell-b5de5010fb2fbdfa",
     "locked": true,
     "schema_version": 3,
     "solution": false,
     "task": false
    }
   },
   "source": [
    "### Plot Network Degree Distribution\n",
    "**Points: 0.5**  \n",
    "\n",
    "The next function will help visualize the difference between a scale-free network and a small world network.\n",
    "- The input to the function is an undirected graph, a figure number, and the figure size\n",
    "- The function must produce two side-by-side plots. \n",
    "  - The left plot is a probability histogram of the degree values for all nodes in the graph. use sns.distplot.\n",
    "  - The right plot is a scatter plot on a log/log scale. The x axis is the degree, and the y axis is the count of nodes of that degree.\n",
    "  - Use the graph's `name` attribute to put a supertitle on the plot\n",
    "  \n",
    "The plot for the scale free network, `Gsf` looks like this:\n",
    "![AS11-figure2.png](attachment:AS11-figure2.png)\n",
    "  \n",
    "[Instructions](#Instructions)  "
   ]
  },
  {
   "cell_type": "code",
   "execution_count": null,
   "metadata": {
    "deletable": false,
    "nbgrader": {
     "cell_type": "code",
     "checksum": "b4c37fd91acd2c61f54082c9a15a5d97",
     "grade": false,
     "grade_id": "cell-163e809ce3af8738",
     "locked": false,
     "schema_version": 3,
     "solution": true,
     "task": false
    }
   },
   "outputs": [],
   "source": [
    "import collections\n",
    "import operator\n",
    "def plot_degree_distribution(G, fignum, figsize=(10,5)):\n",
    "    # Set up the figure\n",
    "    fig, axes = plt.subplots(num=fignum, nrows=1, ncols=2, figsize=figsize, dpi=100, clear=True)\n",
    "    degrees = [G.degree(n) for n in G.nodes()]\n",
    "    sns.distplot(degrees,hist=True, kde=True,ax = axes[0])\n",
    "    axes[0].set_xlabel('Degree')\n",
    "    axes[0].set_ylabel('Probability Density')\n",
    "    #print(nx.degree_centrality(G))\n",
    "    x = nx.degree_centrality(G).keys()\n",
    "    y = nx.degree_centrality(G).values()\n",
    "    #axes[1].scatter(x,y)\n",
    "    degree_sequence = sorted([d for n, d in G.degree()], reverse=True)  \n",
    "    degreeCount = collections.Counter(degree_sequence)\n",
    "    deg, cnt = zip(*degreeCount.items())\n",
    "    sns.scatterplot(deg, cnt,ax = axes[1],s = 20)\n",
    "    axes[1].set_xlabel('Degree')\n",
    "    axes[1].set_ylabel('Fraction of Nodes')\n",
    "    axes[1].set(xscale=\"log\", yscale=\"log\")\n",
    "    plt.suptitle(G.graph['name'])\n",
    "\n"
   ]
  },
  {
   "cell_type": "code",
   "execution_count": null,
   "metadata": {
    "deletable": false,
    "nbgrader": {
     "cell_type": "code",
     "checksum": "e70982971f855b182610e3b7b42b8cd5",
     "grade": true,
     "grade_id": "cell-5eaa42dcee064a32",
     "locked": false,
     "points": 0.3,
     "schema_version": 3,
     "solution": true,
     "task": false
    }
   },
   "outputs": [],
   "source": [
    "# Plot the degree distribution for Gsf\n",
    "fignum = 2\n",
    "plot_degree_distribution(Gsf, fignum, figsize=(10,5))"
   ]
  },
  {
   "cell_type": "code",
   "execution_count": null,
   "metadata": {
    "deletable": false,
    "nbgrader": {
     "cell_type": "code",
     "checksum": "9f555ef0225312a17193552942b33db0",
     "grade": true,
     "grade_id": "cell-382ddef30a2bdfbe",
     "locked": false,
     "points": 0.2,
     "schema_version": 3,
     "solution": true,
     "task": false
    }
   },
   "outputs": [],
   "source": [
    "# Plot the degree distribution for Gsw\n",
    "fignum = 3\n",
    "plot_degree_distribution(Gsw, fignum, figsize=(10,5))"
   ]
  },
  {
   "cell_type": "markdown",
   "metadata": {
    "deletable": false,
    "editable": false,
    "nbgrader": {
     "cell_type": "markdown",
     "checksum": "14e4615075cef118f08dd2e3d2dca738",
     "grade": false,
     "grade_id": "cell-5d73cd19469329bf",
     "locked": true,
     "schema_version": 3,
     "solution": false,
     "task": false
    }
   },
   "source": [
    "### Structure for Word Networks\n",
    "\n",
    "Now determine whether the network structures for the word graphs more like scale free networks or small world networks.\n",
    "\n",
    "In the next cell, convert the two main word graphs (`Gp` and `Gs`) to undirected graphs named (`Gpu` and `Gsu`), then compare them using the `compare_graph_structures` function to create a dataframe named `dfwn`.\n",
    "\n",
    "\n",
    "[Instructions](#Instructions)"
   ]
  },
  {
   "cell_type": "code",
   "execution_count": null,
   "metadata": {
    "deletable": false,
    "nbgrader": {
     "cell_type": "code",
     "checksum": "839084f9895b5b69083e38b393c4f952",
     "grade": false,
     "grade_id": "cell-af9353e7ac0cf398",
     "locked": false,
     "schema_version": 3,
     "solution": true,
     "task": false
    }
   },
   "outputs": [],
   "source": [
    "# convert the word graphs and compare them\n",
    "dfwn = pd.DataFrame()\n",
    "Gpu = Gp.to_undirected()\n",
    "Gsu = Gs.to_undirected()\n",
    "dfwn = compare_network_structures([Gpu, Gsu])"
   ]
  },
  {
   "cell_type": "code",
   "execution_count": null,
   "metadata": {
    "deletable": false,
    "editable": false,
    "nbgrader": {
     "cell_type": "code",
     "checksum": "7abb99cbe5990c2f416e0eaac4da4347",
     "grade": true,
     "grade_id": "cell-0d0f1aeebee779fd",
     "locked": true,
     "points": 0.1,
     "schema_version": 3,
     "solution": false,
     "task": false
    }
   },
   "outputs": [],
   "source": [
    "## This is an automatically graded test cell.\n",
    "np.testing.assert_almost_equal(dfwn.loc['Lincoln1865','Avg.Path'],    3.407, decimal=3, verbose=True)\n",
    "np.testing.assert_almost_equal(dfwn.loc['Lincoln1865','Avg.Cluster'], 0.138, decimal=3, verbose=True)\n"
   ]
  },
  {
   "cell_type": "code",
   "execution_count": null,
   "metadata": {
    "deletable": false,
    "editable": false,
    "nbgrader": {
     "cell_type": "code",
     "checksum": "b37bbc58eb0200def52c60b4c1841d92",
     "grade": true,
     "grade_id": "cell-705c43405e6074ec",
     "locked": true,
     "points": 0.2,
     "schema_version": 3,
     "solution": false,
     "task": false
    }
   },
   "outputs": [],
   "source": [
    "# There are hidden tests for The Prince"
   ]
  },
  {
   "cell_type": "code",
   "execution_count": null,
   "metadata": {
    "deletable": false,
    "editable": false,
    "nbgrader": {
     "cell_type": "code",
     "checksum": "dce64d8045d8df049a969cdd182c3d9c",
     "grade": false,
     "grade_id": "cell-a3b713c9c4fafe11",
     "locked": true,
     "schema_version": 3,
     "solution": false,
     "task": false
    }
   },
   "outputs": [],
   "source": [
    "# Use the comparison plots\n",
    "plot_degree_distribution(Gsu,4)"
   ]
  },
  {
   "cell_type": "code",
   "execution_count": null,
   "metadata": {
    "deletable": false,
    "editable": false,
    "nbgrader": {
     "cell_type": "code",
     "checksum": "d27a5477c8f20d8e22cbd98f5463c193",
     "grade": false,
     "grade_id": "cell-161e6b3ac6ccc883",
     "locked": true,
     "schema_version": 3,
     "solution": false,
     "task": false
    }
   },
   "outputs": [],
   "source": [
    "# Use the comparison plots\n",
    "plot_degree_distribution(Gpu,5)"
   ]
  },
  {
   "cell_type": "markdown",
   "metadata": {
    "deletable": false,
    "editable": false,
    "nbgrader": {
     "cell_type": "markdown",
     "checksum": "10e786dec06efa98eeff3939ee57e85b",
     "grade": false,
     "grade_id": "cell-7ac2066323c5da73",
     "locked": true,
     "schema_version": 3,
     "solution": false,
     "task": false
    }
   },
   "source": [
    "Looking at the average shortest path length, the average clustering coefficient, and the above two plots, have the following function return a string with one of these responses (exact string match required):\n",
    "- `scale-free`\n",
    "- `small-world`"
   ]
  },
  {
   "cell_type": "code",
   "execution_count": null,
   "metadata": {
    "deletable": false,
    "nbgrader": {
     "cell_type": "code",
     "checksum": "dc2461594add09864240b15cac89df9e",
     "grade": false,
     "grade_id": "cell-259b484b5cd403e1",
     "locked": false,
     "schema_version": 3,
     "solution": true,
     "task": false
    }
   },
   "outputs": [],
   "source": [
    "\n",
    "def word_plots_are_more_like():\n",
    "    return 'scale-free'"
   ]
  },
  {
   "cell_type": "code",
   "execution_count": null,
   "metadata": {
    "deletable": false,
    "editable": false,
    "nbgrader": {
     "cell_type": "code",
     "checksum": "a4093356f246bb81b15a06ba4163b5d7",
     "grade": true,
     "grade_id": "cell-69953582b06c8841",
     "locked": true,
     "points": 0.2,
     "schema_version": 3,
     "solution": false,
     "task": false
    }
   },
   "outputs": [],
   "source": [
    "## This is an automatically graded test cell.\n",
    "# This is a hidden test\n",
    "\n"
   ]
  },
  {
   "cell_type": "markdown",
   "metadata": {
    "deletable": false,
    "editable": false,
    "nbgrader": {
     "cell_type": "markdown",
     "checksum": "714af367df720d7ac75626389a08c882",
     "grade": false,
     "grade_id": "cell-fbdec014dad76e87",
     "locked": true,
     "schema_version": 3,
     "solution": false,
     "task": false
    }
   },
   "source": [
    "## Geographic Networks\n",
    "### The osmnx Library\n",
    "\n",
    "This section is just for reference and fun.\n",
    "\n",
    "The [Open Street Map](https://wiki.openstreetmap.org/wiki/Main_Page) project maintains a wealth of geographic related information. The osmnx python library provides a simple API to access the OSM data and produce a NetworkX graph. A good blog entry on this is here: https://geoffboeing.com/2016/11/osmnx-python-street-networks/. \n",
    "\n",
    "In the following cells, the lines used to download and save maps for Toledo, Spain and Fort Lauderdale, Florida are commented out.\n",
    "\n",
    "[Instructions](#Instructions)"
   ]
  },
  {
   "cell_type": "code",
   "execution_count": null,
   "metadata": {
    "deletable": false,
    "editable": false,
    "nbgrader": {
     "cell_type": "code",
     "checksum": "8aed00423eff25070fbea328a92eed04",
     "grade": false,
     "grade_id": "cell-690ea89e542caa2e",
     "locked": true,
     "schema_version": 3,
     "solution": false,
     "task": false
    }
   },
   "outputs": [],
   "source": [
    "sToledoPath = os.path.join(dataroot,'Misc','ToledoSpain.graphml')\n",
    "#GtsOrig = ox.graph_from_place('Toledo, Spain', network_type='drive')\n",
    "#ox.save_graphml(GtsOrig, sToledoPath )\n",
    "Gts = ox.load_graphml(sToledoPath)\n",
    "print(nx.info(Gts))\n",
    "fig, ax = ox.plot_graph(Gts)"
   ]
  },
  {
   "cell_type": "code",
   "execution_count": null,
   "metadata": {
    "deletable": false,
    "editable": false,
    "nbgrader": {
     "cell_type": "code",
     "checksum": "469f8745f88920f0112779553c29b628",
     "grade": false,
     "grade_id": "cell-9ef7c7c343744501",
     "locked": true,
     "schema_version": 3,
     "solution": false,
     "task": false
    }
   },
   "outputs": [],
   "source": [
    "sFTLPath = os.path.join(dataroot,'Misc','FortLauderdale.graphml')\n",
    "#GftlOrig = ox.graph_from_place('Fort Lauderdale, Florida, USA', network_type='drive')\n",
    "#ox.save_graphml(GftlOrig, sFTLPath )\n",
    "Gftl = ox.load_graphml(sFTLPath)\n",
    "print(nx.info(Gftl))\n",
    "fig, ax = ox.plot_graph(Gftl)"
   ]
  },
  {
   "cell_type": "code",
   "execution_count": null,
   "metadata": {},
   "outputs": [],
   "source": []
  }
 ],
 "metadata": {
  "kernelspec": {
   "display_name": "Python 3",
   "language": "python",
   "name": "python3"
  },
  "language_info": {
   "codemirror_mode": {
    "name": "ipython",
    "version": 3
   },
   "file_extension": ".py",
   "mimetype": "text/x-python",
   "name": "python",
   "nbconvert_exporter": "python",
   "pygments_lexer": "ipython3",
   "version": "3.6.5"
  }
 },
 "nbformat": 4,
 "nbformat_minor": 2
}
